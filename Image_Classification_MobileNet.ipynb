{
  "nbformat": 4,
  "nbformat_minor": 0,
  "metadata": {
    "colab": {
      "provenance": [],
      "gpuType": "T4",
      "include_colab_link": true
    },
    "kernelspec": {
      "name": "python3",
      "display_name": "Python 3"
    },
    "language_info": {
      "name": "python"
    },
    "accelerator": "GPU"
  },
  "cells": [
    {
      "cell_type": "markdown",
      "metadata": {
        "id": "view-in-github",
        "colab_type": "text"
      },
      "source": [
        "<a href=\"https://colab.research.google.com/github/NaveenNKD2001/Image-classification/blob/main/Image_Classification_MobileNet.ipynb\" target=\"_parent\"><img src=\"https://colab.research.google.com/assets/colab-badge.svg\" alt=\"Open In Colab\"/></a>"
      ]
    },
    {
      "cell_type": "code",
      "execution_count": 1,
      "metadata": {
        "id": "oTKz9xCrHTU7"
      },
      "outputs": [],
      "source": [
        "import tensorflow as tf\n",
        "import numpy as np\n",
        "from matplotlib import pyplot as plt\n",
        "from sklearn.metrics import accuracy_score,precision_score,recall_score"
      ]
    },
    {
      "cell_type": "code",
      "source": [
        "(train_images,train_labels),(test_images,test_labels)=tf.keras.datasets.cifar10.load_data()"
      ],
      "metadata": {
        "id": "VPimSlq7Ws1G"
      },
      "execution_count": 2,
      "outputs": []
    },
    {
      "cell_type": "code",
      "source": [
        "train_images.shape"
      ],
      "metadata": {
        "colab": {
          "base_uri": "https://localhost:8080/"
        },
        "id": "HpvBYaeyWs3q",
        "outputId": "b283454c-eb7b-443d-90e4-034a03a0bbe2"
      },
      "execution_count": 3,
      "outputs": [
        {
          "output_type": "execute_result",
          "data": {
            "text/plain": [
              "(50000, 32, 32, 3)"
            ]
          },
          "metadata": {},
          "execution_count": 3
        }
      ]
    },
    {
      "cell_type": "code",
      "source": [
        "test_images.shape"
      ],
      "metadata": {
        "colab": {
          "base_uri": "https://localhost:8080/"
        },
        "id": "UhSsCVbiWs5z",
        "outputId": "ad0dda69-d9ff-4ec4-a314-af76ed28cb06"
      },
      "execution_count": 4,
      "outputs": [
        {
          "output_type": "execute_result",
          "data": {
            "text/plain": [
              "(10000, 32, 32, 3)"
            ]
          },
          "metadata": {},
          "execution_count": 4
        }
      ]
    },
    {
      "cell_type": "code",
      "source": [
        "def augmentation(batch_images):\n",
        "  batch_images=tf.image.random_flip_left_right(batch_images)\n",
        "  batch_images=tf.image.rot90(batch_images,k=tf.random.uniform(shape=[],minval=0,maxval=4,dtype=tf.int32))\n",
        "\n",
        "  return batch_images.numpy()"
      ],
      "metadata": {
        "id": "EuvMGhMzWs8J"
      },
      "execution_count": 5,
      "outputs": []
    },
    {
      "cell_type": "code",
      "source": [
        "n_train_images=train_images/255.0\n",
        "augmented_train_images=augmentation(train_images)\n",
        "n_augmented_train_images=augmented_train_images/255.0\n",
        "n_test_images=test_images/255.0"
      ],
      "metadata": {
        "id": "lq-9bTmPWs-Y"
      },
      "execution_count": 6,
      "outputs": []
    },
    {
      "cell_type": "code",
      "source": [
        "def mobilenet_model_creation():\n",
        "  mn=tf.keras.applications.MobileNetV2(weights='imagenet',input_shape=(32,32,3),include_top=False)\n",
        "  model=tf.keras.Sequential()\n",
        "  model.add(mn)\n",
        "  model.add(tf.keras.layers.GlobalAveragePooling2D())\n",
        "\n",
        "  model.add(tf.keras.layers.Dropout(0.5))\n",
        "\n",
        "  model.add(tf.keras.layers.Dense(256,'relu'))\n",
        "  model.add(tf.keras.layers.Dense(128,'relu'))\n",
        "  model.add(tf.keras.layers.Dense(64,'relu'))\n",
        "  model.add(tf.keras.layers.Dense(10,'softmax'))\n",
        "\n",
        "  model.compile(optimizer='adam',loss='sparse_categorical_crossentropy',metrics=['accuracy'])\n",
        "\n",
        "  return model\n"
      ],
      "metadata": {
        "id": "thqt51dvWtAv"
      },
      "execution_count": 7,
      "outputs": []
    },
    {
      "cell_type": "code",
      "source": [
        "reduce_lr=tf.keras.callbacks.ReduceLROnPlateau(monitor='val_loss',factor=0.1,patience=3,min_lr=0.0000001)"
      ],
      "metadata": {
        "id": "VMVYehi_eYjL"
      },
      "execution_count": 8,
      "outputs": []
    },
    {
      "cell_type": "markdown",
      "source": [
        "#Without Augmentation and Without Noramlized Input"
      ],
      "metadata": {
        "id": "AMKCso-2gT7B"
      }
    },
    {
      "cell_type": "code",
      "source": [
        "checkpoint=tf.keras.callbacks.ModelCheckpoint('mobilenet.keras',mode='max',monitor='val_accuracy',save_best_only=True)"
      ],
      "metadata": {
        "id": "aWlrO5rBgSfm"
      },
      "execution_count": 9,
      "outputs": []
    },
    {
      "cell_type": "code",
      "source": [
        "mn_model=mobilenet_model_creation()\n",
        "history=mn_model.fit(train_images,train_labels,validation_data=(test_images,test_labels),epochs=50,callbacks=[checkpoint,reduce_lr])"
      ],
      "metadata": {
        "colab": {
          "base_uri": "https://localhost:8080/"
        },
        "id": "jVHPgRXjWtC4",
        "outputId": "a1c4c10b-4025-45dd-954f-edd1b56e099d"
      },
      "execution_count": 10,
      "outputs": [
        {
          "output_type": "stream",
          "name": "stderr",
          "text": [
            "WARNING:tensorflow:`input_shape` is undefined or non-square, or `rows` is not in [96, 128, 160, 192, 224]. Weights for input shape (224, 224) will be loaded as the default.\n"
          ]
        },
        {
          "output_type": "stream",
          "name": "stdout",
          "text": [
            "Epoch 1/50\n",
            "1563/1563 [==============================] - 85s 31ms/step - loss: 1.3633 - accuracy: 0.5335 - val_loss: 1.3168 - val_accuracy: 0.5824 - lr: 0.0010\n",
            "Epoch 2/50\n",
            "1563/1563 [==============================] - 46s 30ms/step - loss: 0.9643 - accuracy: 0.6857 - val_loss: 2.7042 - val_accuracy: 0.4926 - lr: 0.0010\n",
            "Epoch 3/50\n",
            "1563/1563 [==============================] - 49s 31ms/step - loss: 0.8661 - accuracy: 0.7192 - val_loss: 1.2622 - val_accuracy: 0.6464 - lr: 0.0010\n",
            "Epoch 4/50\n",
            "1563/1563 [==============================] - 46s 29ms/step - loss: 0.7930 - accuracy: 0.7462 - val_loss: 1.3516 - val_accuracy: 0.6316 - lr: 0.0010\n",
            "Epoch 5/50\n",
            "1563/1563 [==============================] - 47s 30ms/step - loss: 0.7257 - accuracy: 0.7669 - val_loss: 1.4120 - val_accuracy: 0.6496 - lr: 0.0010\n",
            "Epoch 6/50\n",
            "1563/1563 [==============================] - 47s 30ms/step - loss: 0.6723 - accuracy: 0.7837 - val_loss: 1.0463 - val_accuracy: 0.7156 - lr: 0.0010\n",
            "Epoch 7/50\n",
            "1563/1563 [==============================] - 47s 30ms/step - loss: 0.6292 - accuracy: 0.7992 - val_loss: 1.1148 - val_accuracy: 0.6977 - lr: 0.0010\n",
            "Epoch 8/50\n",
            "1563/1563 [==============================] - 45s 29ms/step - loss: 0.5786 - accuracy: 0.8144 - val_loss: 0.7683 - val_accuracy: 0.7712 - lr: 0.0010\n",
            "Epoch 9/50\n",
            "1563/1563 [==============================] - 45s 29ms/step - loss: 0.5528 - accuracy: 0.8232 - val_loss: 0.7572 - val_accuracy: 0.7696 - lr: 0.0010\n",
            "Epoch 10/50\n",
            "1563/1563 [==============================] - 46s 29ms/step - loss: 0.5194 - accuracy: 0.8338 - val_loss: 0.9169 - val_accuracy: 0.7399 - lr: 0.0010\n",
            "Epoch 11/50\n",
            "1563/1563 [==============================] - 48s 31ms/step - loss: 0.4889 - accuracy: 0.8437 - val_loss: 0.6842 - val_accuracy: 0.7886 - lr: 0.0010\n",
            "Epoch 12/50\n",
            "1563/1563 [==============================] - 46s 29ms/step - loss: 0.4624 - accuracy: 0.8526 - val_loss: 0.8277 - val_accuracy: 0.7514 - lr: 0.0010\n",
            "Epoch 13/50\n",
            "1563/1563 [==============================] - 44s 28ms/step - loss: 0.4441 - accuracy: 0.8575 - val_loss: 0.9006 - val_accuracy: 0.7353 - lr: 0.0010\n",
            "Epoch 14/50\n",
            "1563/1563 [==============================] - 45s 29ms/step - loss: 0.4305 - accuracy: 0.8614 - val_loss: 0.7912 - val_accuracy: 0.7546 - lr: 0.0010\n",
            "Epoch 15/50\n",
            "1563/1563 [==============================] - 47s 30ms/step - loss: 0.2941 - accuracy: 0.9041 - val_loss: 0.4912 - val_accuracy: 0.8388 - lr: 1.0000e-04\n",
            "Epoch 16/50\n",
            "1563/1563 [==============================] - 47s 30ms/step - loss: 0.2402 - accuracy: 0.9213 - val_loss: 0.4786 - val_accuracy: 0.8434 - lr: 1.0000e-04\n",
            "Epoch 17/50\n",
            "1563/1563 [==============================] - 46s 30ms/step - loss: 0.2170 - accuracy: 0.9289 - val_loss: 0.4813 - val_accuracy: 0.8450 - lr: 1.0000e-04\n",
            "Epoch 18/50\n",
            "1563/1563 [==============================] - 47s 30ms/step - loss: 0.1985 - accuracy: 0.9344 - val_loss: 0.4776 - val_accuracy: 0.8463 - lr: 1.0000e-04\n",
            "Epoch 19/50\n",
            "1563/1563 [==============================] - 46s 29ms/step - loss: 0.1827 - accuracy: 0.9398 - val_loss: 0.4944 - val_accuracy: 0.8437 - lr: 1.0000e-04\n",
            "Epoch 20/50\n",
            "1563/1563 [==============================] - 46s 30ms/step - loss: 0.1702 - accuracy: 0.9418 - val_loss: 0.4925 - val_accuracy: 0.8467 - lr: 1.0000e-04\n",
            "Epoch 21/50\n",
            "1563/1563 [==============================] - 46s 29ms/step - loss: 0.1576 - accuracy: 0.9477 - val_loss: 0.5047 - val_accuracy: 0.8472 - lr: 1.0000e-04\n",
            "Epoch 22/50\n",
            "1563/1563 [==============================] - 47s 30ms/step - loss: 0.1405 - accuracy: 0.9517 - val_loss: 0.5048 - val_accuracy: 0.8479 - lr: 1.0000e-05\n",
            "Epoch 23/50\n",
            "1563/1563 [==============================] - 48s 31ms/step - loss: 0.1362 - accuracy: 0.9532 - val_loss: 0.5085 - val_accuracy: 0.8487 - lr: 1.0000e-05\n",
            "Epoch 24/50\n",
            "1563/1563 [==============================] - 46s 29ms/step - loss: 0.1323 - accuracy: 0.9555 - val_loss: 0.5103 - val_accuracy: 0.8484 - lr: 1.0000e-05\n",
            "Epoch 25/50\n",
            "1563/1563 [==============================] - 47s 30ms/step - loss: 0.1321 - accuracy: 0.9561 - val_loss: 0.5113 - val_accuracy: 0.8488 - lr: 1.0000e-06\n",
            "Epoch 26/50\n",
            "1563/1563 [==============================] - 46s 29ms/step - loss: 0.1299 - accuracy: 0.9558 - val_loss: 0.5119 - val_accuracy: 0.8492 - lr: 1.0000e-06\n",
            "Epoch 27/50\n",
            "1563/1563 [==============================] - 47s 30ms/step - loss: 0.1321 - accuracy: 0.9547 - val_loss: 0.5123 - val_accuracy: 0.8495 - lr: 1.0000e-06\n",
            "Epoch 28/50\n",
            "1563/1563 [==============================] - 46s 29ms/step - loss: 0.1299 - accuracy: 0.9561 - val_loss: 0.5127 - val_accuracy: 0.8492 - lr: 1.0000e-07\n",
            "Epoch 29/50\n",
            "1563/1563 [==============================] - 46s 29ms/step - loss: 0.1312 - accuracy: 0.9557 - val_loss: 0.5119 - val_accuracy: 0.8493 - lr: 1.0000e-07\n",
            "Epoch 30/50\n",
            "1563/1563 [==============================] - 46s 29ms/step - loss: 0.1323 - accuracy: 0.9563 - val_loss: 0.5122 - val_accuracy: 0.8491 - lr: 1.0000e-07\n",
            "Epoch 31/50\n",
            "1563/1563 [==============================] - 47s 30ms/step - loss: 0.1306 - accuracy: 0.9560 - val_loss: 0.5129 - val_accuracy: 0.8491 - lr: 1.0000e-07\n",
            "Epoch 32/50\n",
            "1563/1563 [==============================] - 46s 29ms/step - loss: 0.1309 - accuracy: 0.9556 - val_loss: 0.5126 - val_accuracy: 0.8494 - lr: 1.0000e-07\n",
            "Epoch 33/50\n",
            "1563/1563 [==============================] - 46s 29ms/step - loss: 0.1315 - accuracy: 0.9556 - val_loss: 0.5125 - val_accuracy: 0.8491 - lr: 1.0000e-07\n",
            "Epoch 34/50\n",
            "1563/1563 [==============================] - 46s 29ms/step - loss: 0.1310 - accuracy: 0.9559 - val_loss: 0.5129 - val_accuracy: 0.8490 - lr: 1.0000e-07\n",
            "Epoch 35/50\n",
            "1563/1563 [==============================] - 45s 29ms/step - loss: 0.1290 - accuracy: 0.9568 - val_loss: 0.5125 - val_accuracy: 0.8489 - lr: 1.0000e-07\n",
            "Epoch 36/50\n",
            "1563/1563 [==============================] - 46s 29ms/step - loss: 0.1322 - accuracy: 0.9560 - val_loss: 0.5116 - val_accuracy: 0.8490 - lr: 1.0000e-07\n",
            "Epoch 37/50\n",
            "1563/1563 [==============================] - 46s 29ms/step - loss: 0.1311 - accuracy: 0.9553 - val_loss: 0.5120 - val_accuracy: 0.8490 - lr: 1.0000e-07\n",
            "Epoch 38/50\n",
            "1563/1563 [==============================] - 47s 30ms/step - loss: 0.1286 - accuracy: 0.9574 - val_loss: 0.5127 - val_accuracy: 0.8490 - lr: 1.0000e-07\n",
            "Epoch 39/50\n",
            "1563/1563 [==============================] - 46s 29ms/step - loss: 0.1303 - accuracy: 0.9555 - val_loss: 0.5123 - val_accuracy: 0.8489 - lr: 1.0000e-07\n",
            "Epoch 40/50\n",
            "1563/1563 [==============================] - 46s 29ms/step - loss: 0.1309 - accuracy: 0.9560 - val_loss: 0.5127 - val_accuracy: 0.8489 - lr: 1.0000e-07\n",
            "Epoch 41/50\n",
            "1563/1563 [==============================] - 47s 30ms/step - loss: 0.1311 - accuracy: 0.9555 - val_loss: 0.5126 - val_accuracy: 0.8492 - lr: 1.0000e-07\n",
            "Epoch 42/50\n",
            "1563/1563 [==============================] - 47s 30ms/step - loss: 0.1340 - accuracy: 0.9551 - val_loss: 0.5123 - val_accuracy: 0.8489 - lr: 1.0000e-07\n",
            "Epoch 43/50\n",
            "1563/1563 [==============================] - 45s 29ms/step - loss: 0.1308 - accuracy: 0.9559 - val_loss: 0.5125 - val_accuracy: 0.8486 - lr: 1.0000e-07\n",
            "Epoch 44/50\n",
            "1563/1563 [==============================] - 46s 30ms/step - loss: 0.1307 - accuracy: 0.9563 - val_loss: 0.5128 - val_accuracy: 0.8489 - lr: 1.0000e-07\n",
            "Epoch 45/50\n",
            "1563/1563 [==============================] - 47s 30ms/step - loss: 0.1298 - accuracy: 0.9565 - val_loss: 0.5124 - val_accuracy: 0.8490 - lr: 1.0000e-07\n",
            "Epoch 46/50\n",
            "1563/1563 [==============================] - 46s 30ms/step - loss: 0.1314 - accuracy: 0.9551 - val_loss: 0.5124 - val_accuracy: 0.8488 - lr: 1.0000e-07\n",
            "Epoch 47/50\n",
            "1563/1563 [==============================] - 46s 29ms/step - loss: 0.1292 - accuracy: 0.9566 - val_loss: 0.5120 - val_accuracy: 0.8492 - lr: 1.0000e-07\n",
            "Epoch 48/50\n",
            "1563/1563 [==============================] - 45s 29ms/step - loss: 0.1292 - accuracy: 0.9573 - val_loss: 0.5125 - val_accuracy: 0.8491 - lr: 1.0000e-07\n",
            "Epoch 49/50\n",
            "1563/1563 [==============================] - 47s 30ms/step - loss: 0.1319 - accuracy: 0.9556 - val_loss: 0.5123 - val_accuracy: 0.8491 - lr: 1.0000e-07\n",
            "Epoch 50/50\n",
            "1563/1563 [==============================] - 48s 31ms/step - loss: 0.1334 - accuracy: 0.9550 - val_loss: 0.5123 - val_accuracy: 0.8491 - lr: 1.0000e-07\n"
          ]
        }
      ]
    },
    {
      "cell_type": "code",
      "source": [
        "plt.plot(history.history['accuracy'])\n",
        "plt.plot(history.history['val_accuracy'])\n",
        "plt.legend(['Train','Validation'],loc='upper left')\n",
        "plt.show()"
      ],
      "metadata": {
        "id": "ycO_EHQWeYf7",
        "colab": {
          "base_uri": "https://localhost:8080/",
          "height": 430
        },
        "outputId": "549e5cc3-18ec-4580-aa39-1019aceddb98"
      },
      "execution_count": 11,
      "outputs": [
        {
          "output_type": "display_data",
          "data": {
            "text/plain": [
              "<Figure size 640x480 with 1 Axes>"
            ],
            "image/png": "[encoded data removed]"
          },
          "metadata": {}
        }
      ]
    },
    {
      "cell_type": "code",
      "source": [
        "mn_model.load_weights('mobilenet.keras')\n",
        "mn_model.evaluate(test_images,test_labels)"
      ],
      "metadata": {
        "id": "eOu3b3feWtFW",
        "colab": {
          "base_uri": "https://localhost:8080/"
        },
        "outputId": "6c583f35-f8f0-4914-c83c-c9c7689aeb6b"
      },
      "execution_count": 12,
      "outputs": [
        {
          "output_type": "stream",
          "name": "stdout",
          "text": [
            "313/313 [==============================] - 3s 9ms/step - loss: 0.5123 - accuracy: 0.8495\n"
          ]
        },
        {
          "output_type": "execute_result",
          "data": {
            "text/plain": [
              "[0.512319803237915, 0.8495000004768372]"
            ]
          },
          "metadata": {},
          "execution_count": 12
        }
      ]
    },
    {
      "cell_type": "code",
      "source": [
        "y_pred=mn_model.predict(test_images)\n",
        "y_pred=np.argmax(y_pred,axis=1)"
      ],
      "metadata": {
        "id": "eQR-YNqXWtHk",
        "colab": {
          "base_uri": "https://localhost:8080/"
        },
        "outputId": "1ed5e30c-4df7-460b-eb04-2b2b00e0e6dc"
      },
      "execution_count": 13,
      "outputs": [
        {
          "output_type": "stream",
          "name": "stdout",
          "text": [
            "313/313 [==============================] - 3s 6ms/step\n"
          ]
        }
      ]
    },
    {
      "cell_type": "code",
      "source": [
        "print(accuracy_score(y_pred,test_labels))\n",
        "print(precision_score(y_pred,test_labels,average='weighted'))\n",
        "print(recall_score(y_pred,test_labels,average='weighted'))"
      ],
      "metadata": {
        "id": "HGgP4YqIlx28",
        "colab": {
          "base_uri": "https://localhost:8080/"
        },
        "outputId": "a4d0a62f-2585-4f0e-ff42-af3b4e41700f"
      },
      "execution_count": 14,
      "outputs": [
        {
          "output_type": "stream",
          "name": "stdout",
          "text": [
            "0.8495\n",
            "0.8491128000000001\n",
            "0.8495\n"
          ]
        }
      ]
    },
    {
      "cell_type": "markdown",
      "source": [
        "#Normalized input and output"
      ],
      "metadata": {
        "id": "ULcx994Ogddc"
      }
    },
    {
      "cell_type": "code",
      "source": [
        "checkpoint=tf.keras.callbacks.ModelCheckpoint('mobilenet_n.keras',mode='max',save_best_only=True,monitor='val_accuracy')"
      ],
      "metadata": {
        "id": "UlkDuoi-WtJ7"
      },
      "execution_count": 15,
      "outputs": []
    },
    {
      "cell_type": "code",
      "source": [
        "mn_model_n=mobilenet_model_creation()\n",
        "history=mn_model_n.fit(n_train_images,train_labels,validation_data=(n_test_images,test_labels),epochs=50,callbacks=[checkpoint,reduce_lr])"
      ],
      "metadata": {
        "id": "bJoBsxL5WtMc",
        "colab": {
          "base_uri": "https://localhost:8080/"
        },
        "outputId": "277640e6-0cc8-4bc0-e896-ab5165ee1838"
      },
      "execution_count": 16,
      "outputs": [
        {
          "output_type": "stream",
          "name": "stderr",
          "text": [
            "WARNING:tensorflow:`input_shape` is undefined or non-square, or `rows` is not in [96, 128, 160, 192, 224]. Weights for input shape (224, 224) will be loaded as the default.\n"
          ]
        },
        {
          "output_type": "stream",
          "name": "stdout",
          "text": [
            "Epoch 1/50\n",
            "1563/1563 [==============================] - 73s 33ms/step - loss: 1.3577 - accuracy: 0.5388 - val_loss: 1.6888 - val_accuracy: 0.4640 - lr: 0.0010\n",
            "Epoch 2/50\n",
            "1563/1563 [==============================] - 50s 32ms/step - loss: 0.9853 - accuracy: 0.6761 - val_loss: 1.1436 - val_accuracy: 0.6359 - lr: 0.0010\n",
            "Epoch 3/50\n",
            "1563/1563 [==============================] - 47s 30ms/step - loss: 0.8700 - accuracy: 0.7164 - val_loss: 1.0651 - val_accuracy: 0.6885 - lr: 0.0010\n",
            "Epoch 4/50\n",
            "1563/1563 [==============================] - 48s 31ms/step - loss: 0.8001 - accuracy: 0.7394 - val_loss: 0.9774 - val_accuracy: 0.7481 - lr: 0.0010\n",
            "Epoch 5/50\n",
            "1563/1563 [==============================] - 49s 31ms/step - loss: 0.7378 - accuracy: 0.7614 - val_loss: 1.0355 - val_accuracy: 0.7071 - lr: 0.0010\n",
            "Epoch 6/50\n",
            "1563/1563 [==============================] - 47s 30ms/step - loss: 0.6807 - accuracy: 0.7814 - val_loss: 1.0828 - val_accuracy: 0.7078 - lr: 0.0010\n",
            "Epoch 7/50\n",
            "1563/1563 [==============================] - 48s 31ms/step - loss: 0.6375 - accuracy: 0.7946 - val_loss: 1.2843 - val_accuracy: 0.6557 - lr: 0.0010\n",
            "Epoch 8/50\n",
            "1563/1563 [==============================] - 47s 30ms/step - loss: 0.4495 - accuracy: 0.8515 - val_loss: 0.5085 - val_accuracy: 0.8289 - lr: 1.0000e-04\n",
            "Epoch 9/50\n",
            "1563/1563 [==============================] - 47s 30ms/step - loss: 0.3842 - accuracy: 0.8707 - val_loss: 0.4993 - val_accuracy: 0.8315 - lr: 1.0000e-04\n",
            "Epoch 10/50\n",
            "1563/1563 [==============================] - 48s 30ms/step - loss: 0.3545 - accuracy: 0.8806 - val_loss: 0.4960 - val_accuracy: 0.8350 - lr: 1.0000e-04\n",
            "Epoch 11/50\n",
            "1563/1563 [==============================] - 47s 30ms/step - loss: 0.3285 - accuracy: 0.8897 - val_loss: 0.4894 - val_accuracy: 0.8378 - lr: 1.0000e-04\n",
            "Epoch 12/50\n",
            "1563/1563 [==============================] - 46s 29ms/step - loss: 0.3102 - accuracy: 0.8963 - val_loss: 0.5019 - val_accuracy: 0.8283 - lr: 1.0000e-04\n",
            "Epoch 13/50\n",
            "1563/1563 [==============================] - 46s 29ms/step - loss: 0.2902 - accuracy: 0.9029 - val_loss: 0.4823 - val_accuracy: 0.8413 - lr: 1.0000e-04\n",
            "Epoch 14/50\n",
            "1563/1563 [==============================] - 47s 30ms/step - loss: 0.2686 - accuracy: 0.9098 - val_loss: 0.4914 - val_accuracy: 0.8373 - lr: 1.0000e-04\n",
            "Epoch 15/50\n",
            "1563/1563 [==============================] - 47s 30ms/step - loss: 0.2540 - accuracy: 0.9148 - val_loss: 0.4959 - val_accuracy: 0.8370 - lr: 1.0000e-04\n",
            "Epoch 16/50\n",
            "1563/1563 [==============================] - 47s 30ms/step - loss: 0.2404 - accuracy: 0.9188 - val_loss: 0.4927 - val_accuracy: 0.8414 - lr: 1.0000e-04\n",
            "Epoch 17/50\n",
            "1563/1563 [==============================] - 46s 29ms/step - loss: 0.2113 - accuracy: 0.9293 - val_loss: 0.4876 - val_accuracy: 0.8401 - lr: 1.0000e-05\n",
            "Epoch 18/50\n",
            "1563/1563 [==============================] - 46s 29ms/step - loss: 0.2092 - accuracy: 0.9293 - val_loss: 0.4896 - val_accuracy: 0.8410 - lr: 1.0000e-05\n",
            "Epoch 19/50\n",
            "1563/1563 [==============================] - 48s 31ms/step - loss: 0.2025 - accuracy: 0.9303 - val_loss: 0.4935 - val_accuracy: 0.8416 - lr: 1.0000e-05\n",
            "Epoch 20/50\n",
            "1563/1563 [==============================] - 46s 30ms/step - loss: 0.1971 - accuracy: 0.9337 - val_loss: 0.4947 - val_accuracy: 0.8411 - lr: 1.0000e-06\n",
            "Epoch 21/50\n",
            "1563/1563 [==============================] - 47s 30ms/step - loss: 0.1973 - accuracy: 0.9340 - val_loss: 0.4946 - val_accuracy: 0.8415 - lr: 1.0000e-06\n",
            "Epoch 22/50\n",
            "1563/1563 [==============================] - 45s 29ms/step - loss: 0.1936 - accuracy: 0.9342 - val_loss: 0.4950 - val_accuracy: 0.8417 - lr: 1.0000e-06\n",
            "Epoch 23/50\n",
            "1563/1563 [==============================] - 46s 29ms/step - loss: 0.1929 - accuracy: 0.9345 - val_loss: 0.4950 - val_accuracy: 0.8414 - lr: 1.0000e-07\n",
            "Epoch 24/50\n",
            "1563/1563 [==============================] - 46s 29ms/step - loss: 0.1953 - accuracy: 0.9337 - val_loss: 0.4954 - val_accuracy: 0.8414 - lr: 1.0000e-07\n",
            "Epoch 25/50\n",
            "1563/1563 [==============================] - 59s 38ms/step - loss: 0.1933 - accuracy: 0.9338 - val_loss: 0.4955 - val_accuracy: 0.8415 - lr: 1.0000e-07\n",
            "Epoch 26/50\n",
            "1563/1563 [==============================] - 47s 30ms/step - loss: 0.1953 - accuracy: 0.9332 - val_loss: 0.4956 - val_accuracy: 0.8412 - lr: 1.0000e-07\n",
            "Epoch 27/50\n",
            "1563/1563 [==============================] - 46s 29ms/step - loss: 0.1961 - accuracy: 0.9325 - val_loss: 0.4953 - val_accuracy: 0.8412 - lr: 1.0000e-07\n",
            "Epoch 28/50\n",
            "1563/1563 [==============================] - 46s 29ms/step - loss: 0.1965 - accuracy: 0.9341 - val_loss: 0.4958 - val_accuracy: 0.8413 - lr: 1.0000e-07\n",
            "Epoch 29/50\n",
            "1563/1563 [==============================] - 46s 29ms/step - loss: 0.1942 - accuracy: 0.9345 - val_loss: 0.4953 - val_accuracy: 0.8410 - lr: 1.0000e-07\n",
            "Epoch 30/50\n",
            "1563/1563 [==============================] - 45s 29ms/step - loss: 0.1968 - accuracy: 0.9337 - val_loss: 0.4956 - val_accuracy: 0.8414 - lr: 1.0000e-07\n",
            "Epoch 31/50\n",
            "1563/1563 [==============================] - 46s 30ms/step - loss: 0.1994 - accuracy: 0.9318 - val_loss: 0.4955 - val_accuracy: 0.8412 - lr: 1.0000e-07\n",
            "Epoch 32/50\n",
            "1563/1563 [==============================] - 47s 30ms/step - loss: 0.1945 - accuracy: 0.9339 - val_loss: 0.4954 - val_accuracy: 0.8413 - lr: 1.0000e-07\n",
            "Epoch 33/50\n",
            "1563/1563 [==============================] - 48s 30ms/step - loss: 0.1925 - accuracy: 0.9340 - val_loss: 0.4959 - val_accuracy: 0.8412 - lr: 1.0000e-07\n",
            "Epoch 34/50\n",
            "1563/1563 [==============================] - 50s 32ms/step - loss: 0.1963 - accuracy: 0.9334 - val_loss: 0.4956 - val_accuracy: 0.8415 - lr: 1.0000e-07\n",
            "Epoch 35/50\n",
            "1563/1563 [==============================] - 49s 31ms/step - loss: 0.1949 - accuracy: 0.9340 - val_loss: 0.4958 - val_accuracy: 0.8413 - lr: 1.0000e-07\n",
            "Epoch 36/50\n",
            "1563/1563 [==============================] - 48s 31ms/step - loss: 0.1940 - accuracy: 0.9349 - val_loss: 0.4959 - val_accuracy: 0.8413 - lr: 1.0000e-07\n",
            "Epoch 37/50\n",
            "1563/1563 [==============================] - 49s 31ms/step - loss: 0.1921 - accuracy: 0.9356 - val_loss: 0.4958 - val_accuracy: 0.8411 - lr: 1.0000e-07\n",
            "Epoch 38/50\n",
            "1563/1563 [==============================] - 49s 31ms/step - loss: 0.1931 - accuracy: 0.9357 - val_loss: 0.4956 - val_accuracy: 0.8412 - lr: 1.0000e-07\n",
            "Epoch 39/50\n",
            "1563/1563 [==============================] - 49s 32ms/step - loss: 0.1987 - accuracy: 0.9336 - val_loss: 0.4956 - val_accuracy: 0.8409 - lr: 1.0000e-07\n",
            "Epoch 40/50\n",
            "1563/1563 [==============================] - 49s 32ms/step - loss: 0.1946 - accuracy: 0.9340 - val_loss: 0.4957 - val_accuracy: 0.8413 - lr: 1.0000e-07\n",
            "Epoch 41/50\n",
            "1563/1563 [==============================] - 48s 31ms/step - loss: 0.1977 - accuracy: 0.9341 - val_loss: 0.4958 - val_accuracy: 0.8412 - lr: 1.0000e-07\n",
            "Epoch 42/50\n",
            "1563/1563 [==============================] - 47s 30ms/step - loss: 0.1958 - accuracy: 0.9333 - val_loss: 0.4958 - val_accuracy: 0.8415 - lr: 1.0000e-07\n",
            "Epoch 43/50\n",
            "1563/1563 [==============================] - 50s 32ms/step - loss: 0.1948 - accuracy: 0.9340 - val_loss: 0.4957 - val_accuracy: 0.8412 - lr: 1.0000e-07\n",
            "Epoch 44/50\n",
            "1563/1563 [==============================] - 48s 31ms/step - loss: 0.1937 - accuracy: 0.9350 - val_loss: 0.4957 - val_accuracy: 0.8412 - lr: 1.0000e-07\n",
            "Epoch 45/50\n",
            "1563/1563 [==============================] - 48s 31ms/step - loss: 0.1950 - accuracy: 0.9348 - val_loss: 0.4956 - val_accuracy: 0.8416 - lr: 1.0000e-07\n",
            "Epoch 46/50\n",
            "1563/1563 [==============================] - 49s 31ms/step - loss: 0.1935 - accuracy: 0.9352 - val_loss: 0.4955 - val_accuracy: 0.8412 - lr: 1.0000e-07\n",
            "Epoch 47/50\n",
            "1563/1563 [==============================] - 48s 31ms/step - loss: 0.1953 - accuracy: 0.9347 - val_loss: 0.4960 - val_accuracy: 0.8411 - lr: 1.0000e-07\n",
            "Epoch 48/50\n",
            "1563/1563 [==============================] - 51s 32ms/step - loss: 0.1954 - accuracy: 0.9344 - val_loss: 0.4957 - val_accuracy: 0.8413 - lr: 1.0000e-07\n",
            "Epoch 49/50\n",
            "1563/1563 [==============================] - 49s 32ms/step - loss: 0.1956 - accuracy: 0.9351 - val_loss: 0.4959 - val_accuracy: 0.8413 - lr: 1.0000e-07\n",
            "Epoch 50/50\n",
            "1563/1563 [==============================] - 49s 31ms/step - loss: 0.1957 - accuracy: 0.9335 - val_loss: 0.4957 - val_accuracy: 0.8411 - lr: 1.0000e-07\n"
          ]
        }
      ]
    },
    {
      "cell_type": "code",
      "source": [
        "plt.plot(history.history['accuracy'])\n",
        "plt.plot(history.history['val_accuracy'])\n",
        "plt.legend(['Train','Validation'],loc='upper left')\n",
        "plt.show()"
      ],
      "metadata": {
        "id": "9oADQQFjWtO2",
        "colab": {
          "base_uri": "https://localhost:8080/",
          "height": 430
        },
        "outputId": "ad7c853e-8730-4582-bf38-6c1f2ace9962"
      },
      "execution_count": 17,
      "outputs": [
        {
          "output_type": "display_data",
          "data": {
            "text/plain": [
              "<Figure size 640x480 with 1 Axes>"
            ],
            "image/png": "[encoded data removed]"
          },
          "metadata": {}
        }
      ]
    },
    {
      "cell_type": "code",
      "source": [
        "mn_model_n.load_weights('mobilenet_n.keras')\n",
        "mn_model_n.evaluate(n_test_images,test_labels)"
      ],
      "metadata": {
        "id": "mYO-KMlTWtRb",
        "colab": {
          "base_uri": "https://localhost:8080/"
        },
        "outputId": "ae38e886-87a0-4952-f235-9539afc98194"
      },
      "execution_count": 18,
      "outputs": [
        {
          "output_type": "stream",
          "name": "stdout",
          "text": [
            "313/313 [==============================] - 2s 7ms/step - loss: 0.4950 - accuracy: 0.8417\n"
          ]
        },
        {
          "output_type": "execute_result",
          "data": {
            "text/plain": [
              "[0.49498608708381653, 0.84170001745224]"
            ]
          },
          "metadata": {},
          "execution_count": 18
        }
      ]
    },
    {
      "cell_type": "code",
      "source": [
        "y_pred=mn_model_n.predict(n_test_images)\n",
        "y_pred=np.argmax(y_pred,axis=1)"
      ],
      "metadata": {
        "id": "w8EerVyllmIx",
        "colab": {
          "base_uri": "https://localhost:8080/"
        },
        "outputId": "934dbee2-c2ff-4108-a405-e7e5530bb81e"
      },
      "execution_count": 20,
      "outputs": [
        {
          "output_type": "stream",
          "name": "stdout",
          "text": [
            "313/313 [==============================] - 5s 7ms/step\n"
          ]
        }
      ]
    },
    {
      "cell_type": "code",
      "source": [
        "print(accuracy_score(y_pred,test_labels))\n",
        "print(precision_score(y_pred,test_labels,average='weighted'))\n",
        "print(recall_score(y_pred,test_labels,average='weighted'))"
      ],
      "metadata": {
        "id": "SFEDqzv3ll_X",
        "colab": {
          "base_uri": "https://localhost:8080/"
        },
        "outputId": "22c8ee04-9fb7-4c11-faf9-f712ad799c35"
      },
      "execution_count": 21,
      "outputs": [
        {
          "output_type": "stream",
          "name": "stdout",
          "text": [
            "0.8417\n",
            "0.8419921\n",
            "0.8417\n"
          ]
        }
      ]
    },
    {
      "cell_type": "code",
      "source": [],
      "metadata": {
        "id": "NHYh6WtKWuUF"
      },
      "execution_count": null,
      "outputs": []
    }
  ]
}