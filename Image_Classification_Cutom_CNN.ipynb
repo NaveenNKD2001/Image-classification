{
  "nbformat": 4,
  "nbformat_minor": 0,
  "metadata": {
    "colab": {
      "provenance": [],
      "gpuType": "T4",
      "authorship_tag": "ABX9TyO8WadfamMVXSYPmtkNbPib",
      "include_colab_link": true
    },
    "kernelspec": {
      "name": "python3",
      "display_name": "Python 3"
    },
    "language_info": {
      "name": "python"
    },
    "accelerator": "GPU"
  },
  "cells": [
    {
      "cell_type": "markdown",
      "metadata": {
        "id": "view-in-github",
        "colab_type": "text"
      },
      "source": [
        "<a href=\"https://colab.research.google.com/github/NaveenNKD2001/Image-classification/blob/main/Image_Classification_Cutom_CNN.ipynb\" target=\"_parent\"><img src=\"https://colab.research.google.com/assets/colab-badge.svg\" alt=\"Open In Colab\"/></a>"
      ]
    },
    {
      "cell_type": "code",
      "execution_count": 1,
      "metadata": {
        "id": "lRJCMMlJHPt4"
      },
      "outputs": [],
      "source": [
        "import tensorflow as tf\n",
        "import numpy as np\n",
        "import pandas as pd\n",
        "from matplotlib import pyplot as plt\n",
        "from sklearn.metrics import accuracy_score,precision_score,recall_score"
      ]
    },
    {
      "cell_type": "code",
      "source": [
        "(train_images,train_labels),(test_images,test_labels)=tf.keras.datasets.cifar10.load_data()"
      ],
      "metadata": {
        "id": "ERD6cII8IcR2"
      },
      "execution_count": 2,
      "outputs": []
    },
    {
      "cell_type": "code",
      "source": [
        "train_images.shape"
      ],
      "metadata": {
        "colab": {
          "base_uri": "https://localhost:8080/"
        },
        "id": "cZUlSItAKl7z",
        "outputId": "fc40a1c1-6bfb-45ec-e06f-96af28f581b4"
      },
      "execution_count": 3,
      "outputs": [
        {
          "output_type": "execute_result",
          "data": {
            "text/plain": [
              "(50000, 32, 32, 3)"
            ]
          },
          "metadata": {},
          "execution_count": 3
        }
      ]
    },
    {
      "cell_type": "code",
      "source": [
        "test_images.shape"
      ],
      "metadata": {
        "colab": {
          "base_uri": "https://localhost:8080/"
        },
        "id": "l9-gm6K8Kl4P",
        "outputId": "75fb9c46-4d5a-44fe-bbc1-5c2c4808f319"
      },
      "execution_count": 4,
      "outputs": [
        {
          "output_type": "execute_result",
          "data": {
            "text/plain": [
              "(10000, 32, 32, 3)"
            ]
          },
          "metadata": {},
          "execution_count": 4
        }
      ]
    },
    {
      "cell_type": "code",
      "source": [
        "plt.imshow(train_images[1])\n",
        "plt.show()"
      ],
      "metadata": {
        "colab": {
          "base_uri": "https://localhost:8080/",
          "height": 430
        },
        "id": "ZJHHfnR3Kl16",
        "outputId": "a1d4c4b4-3780-48b3-bc4d-20a5a16d1d10"
      },
      "execution_count": 5,
      "outputs": [
        {
          "output_type": "display_data",
          "data": {
            "text/plain": [
              "<Figure size 640x480 with 1 Axes>"
            ],
            "image/png": "[encoded data removed]"
          },
          "metadata": {}
        }
      ]
    },
    {
      "cell_type": "code",
      "source": [
        "def augmentation(batch_images):\n",
        "  batch_images=tf.image.random_flip_left_right(batch_images)\n",
        "  batch_images=tf.image.rot90(batch_images,k=tf.random.uniform(shape=[],minval=0,maxval=4,dtype=tf.int32))\n",
        "\n",
        "  return batch_images.numpy()"
      ],
      "metadata": {
        "id": "LNA53731JhWO"
      },
      "execution_count": 6,
      "outputs": []
    },
    {
      "cell_type": "code",
      "source": [
        "n_train_images=train_images/255.0\n",
        "\n",
        "augmented_train_images=augmentation(train_images)\n",
        "\n",
        "n_augmented_train_images=augmented_train_images/255.0\n",
        "\n",
        "n_test_images=test_images/255.0"
      ],
      "metadata": {
        "id": "pBKm7zGRIcUV"
      },
      "execution_count": 7,
      "outputs": []
    },
    {
      "cell_type": "code",
      "source": [
        "def cnn_model_creation():\n",
        "  model_CNN=tf.keras.models.Sequential()\n",
        "\n",
        "  model_CNN.add(tf.keras.layers.Conv2D(filters=32,activation='relu',kernel_size=3,input_shape=(32,32,3)))\n",
        "  model_CNN.add(tf.keras.layers.BatchNormalization())\n",
        "  model_CNN.add(tf.keras.layers.Dropout(0.1))\n",
        "  model_CNN.add(tf.keras.layers.MaxPool2D(pool_size=2,strides=2))\n",
        "\n",
        "  model_CNN.add(tf.keras.layers.Conv2D(filters=128,activation='relu',kernel_size=3))\n",
        "  model_CNN.add(tf.keras.layers.BatchNormalization())\n",
        "  model_CNN.add(tf.keras.layers.Dropout(0.1))\n",
        "  model_CNN.add(tf.keras.layers.MaxPool2D(pool_size=2,strides=2))\n",
        "\n",
        "  model_CNN.add(tf.keras.layers.Conv2D(filters=256,activation='relu',kernel_size=3))\n",
        "  model_CNN.add(tf.keras.layers.BatchNormalization())\n",
        "  model_CNN.add(tf.keras.layers.Dropout(0.1))\n",
        "  model_CNN.add(tf.keras.layers.MaxPool2D(pool_size=2,strides=2))\n",
        "\n",
        "  model_CNN.add(tf.keras.layers.Flatten())\n",
        "\n",
        "  model_CNN.add(tf.keras.layers.Dropout(0.5))\n",
        "\n",
        "  model_CNN.add(tf.keras.layers.Dense(units=256,activation='relu'))\n",
        "  model_CNN.add(tf.keras.layers.Dense(units=128,activation='relu'))\n",
        "  model_CNN.add(tf.keras.layers.Dense(units=64,activation='relu'))\n",
        "\n",
        "  model_CNN.add(tf.keras.layers.Dense(units=10,activation='softmax'))\n",
        "\n",
        "  model_CNN.compile(optimizer='adam',loss='sparse_categorical_crossentropy',metrics=['accuracy'])\n",
        "\n",
        "  return model_CNN"
      ],
      "metadata": {
        "id": "mDWsM4ZeIcWn"
      },
      "execution_count": 8,
      "outputs": []
    },
    {
      "cell_type": "markdown",
      "source": [
        "#Without augmentation and without Normalized Input and output"
      ],
      "metadata": {
        "id": "6ZlUpZz-RTDc"
      }
    },
    {
      "cell_type": "code",
      "source": [
        "checkpoint=tf.keras.callbacks.ModelCheckpoint(filepath=\"model_CNN.keras\",monitor='val_accuracy',mode='max',save_best_only=True)\n",
        "reduce_lr=tf.keras.callbacks.ReduceLROnPlateau(factor=0.1,patience=3,monitor='val_loss',min_lr=0.0000001)"
      ],
      "metadata": {
        "id": "J-m5tMCSRA0G"
      },
      "execution_count": 9,
      "outputs": []
    },
    {
      "cell_type": "code",
      "source": [
        "model_CNN=cnn_model_creation()\n",
        "history=model_CNN.fit(train_images,train_labels,validation_data=(test_images,test_labels),epochs=50,callbacks=[checkpoint,reduce_lr])"
      ],
      "metadata": {
        "id": "WNQ-B8G8IcZD",
        "colab": {
          "base_uri": "https://localhost:8080/"
        },
        "outputId": "955d4b06-33bb-4470-9398-0039739f7cf2"
      },
      "execution_count": 10,
      "outputs": [
        {
          "output_type": "stream",
          "name": "stdout",
          "text": [
            "Epoch 1/50\n",
            "1563/1563 [==============================] - 31s 12ms/step - loss: 1.5086 - accuracy: 0.4555 - val_loss: 1.5103 - val_accuracy: 0.4915 - lr: 0.0010\n",
            "Epoch 2/50\n",
            "1563/1563 [==============================] - 11s 7ms/step - loss: 1.1371 - accuracy: 0.5965 - val_loss: 1.2485 - val_accuracy: 0.5851 - lr: 0.0010\n",
            "Epoch 3/50\n",
            "1563/1563 [==============================] - 11s 7ms/step - loss: 0.9780 - accuracy: 0.6583 - val_loss: 1.0115 - val_accuracy: 0.6517 - lr: 0.0010\n",
            "Epoch 4/50\n",
            "1563/1563 [==============================] - 11s 7ms/step - loss: 0.8844 - accuracy: 0.6925 - val_loss: 1.0258 - val_accuracy: 0.6600 - lr: 0.0010\n",
            "Epoch 5/50\n",
            "1563/1563 [==============================] - 11s 7ms/step - loss: 0.8103 - accuracy: 0.7192 - val_loss: 0.9633 - val_accuracy: 0.6941 - lr: 0.0010\n",
            "Epoch 6/50\n",
            "1563/1563 [==============================] - 11s 7ms/step - loss: 0.7540 - accuracy: 0.7391 - val_loss: 0.9305 - val_accuracy: 0.6886 - lr: 0.0010\n",
            "Epoch 7/50\n",
            "1563/1563 [==============================] - 11s 7ms/step - loss: 0.7073 - accuracy: 0.7542 - val_loss: 1.1151 - val_accuracy: 0.6639 - lr: 0.0010\n",
            "Epoch 8/50\n",
            "1563/1563 [==============================] - 11s 7ms/step - loss: 0.6674 - accuracy: 0.7711 - val_loss: 0.8615 - val_accuracy: 0.7098 - lr: 0.0010\n",
            "Epoch 9/50\n",
            "1563/1563 [==============================] - 11s 7ms/step - loss: 0.6352 - accuracy: 0.7805 - val_loss: 0.7382 - val_accuracy: 0.7563 - lr: 0.0010\n",
            "Epoch 10/50\n",
            "1563/1563 [==============================] - 11s 7ms/step - loss: 0.6095 - accuracy: 0.7882 - val_loss: 0.8012 - val_accuracy: 0.7480 - lr: 0.0010\n",
            "Epoch 11/50\n",
            "1563/1563 [==============================] - 11s 7ms/step - loss: 0.5833 - accuracy: 0.7979 - val_loss: 0.7218 - val_accuracy: 0.7582 - lr: 0.0010\n",
            "Epoch 12/50\n",
            "1563/1563 [==============================] - 12s 7ms/step - loss: 0.5588 - accuracy: 0.8073 - val_loss: 0.7852 - val_accuracy: 0.7452 - lr: 0.0010\n",
            "Epoch 13/50\n",
            "1563/1563 [==============================] - 21s 13ms/step - loss: 0.5378 - accuracy: 0.8149 - val_loss: 0.9141 - val_accuracy: 0.7336 - lr: 0.0010\n",
            "Epoch 14/50\n",
            "1563/1563 [==============================] - 12s 7ms/step - loss: 0.5218 - accuracy: 0.8206 - val_loss: 0.6722 - val_accuracy: 0.7871 - lr: 0.0010\n",
            "Epoch 15/50\n",
            "1563/1563 [==============================] - 11s 7ms/step - loss: 0.5031 - accuracy: 0.8260 - val_loss: 0.7024 - val_accuracy: 0.7858 - lr: 0.0010\n",
            "Epoch 16/50\n",
            "1563/1563 [==============================] - 11s 7ms/step - loss: 0.4906 - accuracy: 0.8309 - val_loss: 0.6490 - val_accuracy: 0.7956 - lr: 0.0010\n",
            "Epoch 17/50\n",
            "1563/1563 [==============================] - 11s 7ms/step - loss: 0.4719 - accuracy: 0.8374 - val_loss: 0.9538 - val_accuracy: 0.7215 - lr: 0.0010\n",
            "Epoch 18/50\n",
            "1563/1563 [==============================] - 11s 7ms/step - loss: 0.4583 - accuracy: 0.8402 - val_loss: 0.7170 - val_accuracy: 0.7787 - lr: 0.0010\n",
            "Epoch 19/50\n",
            "1563/1563 [==============================] - 11s 7ms/step - loss: 0.4387 - accuracy: 0.8479 - val_loss: 1.0187 - val_accuracy: 0.7281 - lr: 0.0010\n",
            "Epoch 20/50\n",
            "1563/1563 [==============================] - 11s 7ms/step - loss: 0.3593 - accuracy: 0.8746 - val_loss: 0.6011 - val_accuracy: 0.8215 - lr: 1.0000e-04\n",
            "Epoch 21/50\n",
            "1563/1563 [==============================] - 13s 8ms/step - loss: 0.3348 - accuracy: 0.8839 - val_loss: 0.5903 - val_accuracy: 0.8262 - lr: 1.0000e-04\n",
            "Epoch 22/50\n",
            "1563/1563 [==============================] - 12s 8ms/step - loss: 0.3180 - accuracy: 0.8886 - val_loss: 0.6226 - val_accuracy: 0.8210 - lr: 1.0000e-04\n",
            "Epoch 23/50\n",
            "1563/1563 [==============================] - 11s 7ms/step - loss: 0.3078 - accuracy: 0.8923 - val_loss: 0.6015 - val_accuracy: 0.8244 - lr: 1.0000e-04\n",
            "Epoch 24/50\n",
            "1563/1563 [==============================] - 11s 7ms/step - loss: 0.2965 - accuracy: 0.8958 - val_loss: 0.6099 - val_accuracy: 0.8283 - lr: 1.0000e-04\n",
            "Epoch 25/50\n",
            "1563/1563 [==============================] - 11s 7ms/step - loss: 0.2857 - accuracy: 0.8991 - val_loss: 0.6062 - val_accuracy: 0.8288 - lr: 1.0000e-05\n",
            "Epoch 26/50\n",
            "1563/1563 [==============================] - 11s 7ms/step - loss: 0.2837 - accuracy: 0.9011 - val_loss: 0.6053 - val_accuracy: 0.8291 - lr: 1.0000e-05\n",
            "Epoch 27/50\n",
            "1563/1563 [==============================] - 12s 8ms/step - loss: 0.2821 - accuracy: 0.9007 - val_loss: 0.6045 - val_accuracy: 0.8289 - lr: 1.0000e-05\n",
            "Epoch 28/50\n",
            "1563/1563 [==============================] - 12s 7ms/step - loss: 0.2808 - accuracy: 0.9010 - val_loss: 0.6021 - val_accuracy: 0.8304 - lr: 1.0000e-06\n",
            "Epoch 29/50\n",
            "1563/1563 [==============================] - 11s 7ms/step - loss: 0.2786 - accuracy: 0.9028 - val_loss: 0.6048 - val_accuracy: 0.8296 - lr: 1.0000e-06\n",
            "Epoch 30/50\n",
            "1563/1563 [==============================] - 11s 7ms/step - loss: 0.2827 - accuracy: 0.9025 - val_loss: 0.6033 - val_accuracy: 0.8298 - lr: 1.0000e-06\n",
            "Epoch 31/50\n",
            "1563/1563 [==============================] - 11s 7ms/step - loss: 0.2806 - accuracy: 0.9009 - val_loss: 0.6047 - val_accuracy: 0.8297 - lr: 1.0000e-07\n",
            "Epoch 32/50\n",
            "1563/1563 [==============================] - 11s 7ms/step - loss: 0.2815 - accuracy: 0.9005 - val_loss: 0.6050 - val_accuracy: 0.8296 - lr: 1.0000e-07\n",
            "Epoch 33/50\n",
            "1563/1563 [==============================] - 11s 7ms/step - loss: 0.2866 - accuracy: 0.8991 - val_loss: 0.6042 - val_accuracy: 0.8297 - lr: 1.0000e-07\n",
            "Epoch 34/50\n",
            "1563/1563 [==============================] - 11s 7ms/step - loss: 0.2840 - accuracy: 0.9006 - val_loss: 0.6029 - val_accuracy: 0.8300 - lr: 1.0000e-07\n",
            "Epoch 35/50\n",
            "1563/1563 [==============================] - 12s 7ms/step - loss: 0.2835 - accuracy: 0.9018 - val_loss: 0.6035 - val_accuracy: 0.8298 - lr: 1.0000e-07\n",
            "Epoch 36/50\n",
            "1563/1563 [==============================] - 11s 7ms/step - loss: 0.2807 - accuracy: 0.9014 - val_loss: 0.6041 - val_accuracy: 0.8297 - lr: 1.0000e-07\n",
            "Epoch 37/50\n",
            "1563/1563 [==============================] - 11s 7ms/step - loss: 0.2812 - accuracy: 0.9020 - val_loss: 0.6047 - val_accuracy: 0.8299 - lr: 1.0000e-07\n",
            "Epoch 38/50\n",
            "1563/1563 [==============================] - 11s 7ms/step - loss: 0.2822 - accuracy: 0.9012 - val_loss: 0.6030 - val_accuracy: 0.8304 - lr: 1.0000e-07\n",
            "Epoch 39/50\n",
            "1563/1563 [==============================] - 11s 7ms/step - loss: 0.2804 - accuracy: 0.9016 - val_loss: 0.6043 - val_accuracy: 0.8292 - lr: 1.0000e-07\n",
            "Epoch 40/50\n",
            "1563/1563 [==============================] - 11s 7ms/step - loss: 0.2853 - accuracy: 0.9000 - val_loss: 0.6035 - val_accuracy: 0.8298 - lr: 1.0000e-07\n",
            "Epoch 41/50\n",
            "1563/1563 [==============================] - 11s 7ms/step - loss: 0.2849 - accuracy: 0.9019 - val_loss: 0.6042 - val_accuracy: 0.8293 - lr: 1.0000e-07\n",
            "Epoch 42/50\n",
            "1563/1563 [==============================] - 11s 7ms/step - loss: 0.2757 - accuracy: 0.9039 - val_loss: 0.6072 - val_accuracy: 0.8293 - lr: 1.0000e-07\n",
            "Epoch 43/50\n",
            "1563/1563 [==============================] - 12s 7ms/step - loss: 0.2833 - accuracy: 0.9009 - val_loss: 0.6055 - val_accuracy: 0.8300 - lr: 1.0000e-07\n",
            "Epoch 44/50\n",
            "1563/1563 [==============================] - 11s 7ms/step - loss: 0.2812 - accuracy: 0.9016 - val_loss: 0.6038 - val_accuracy: 0.8299 - lr: 1.0000e-07\n",
            "Epoch 45/50\n",
            "1563/1563 [==============================] - 15s 9ms/step - loss: 0.2804 - accuracy: 0.9022 - val_loss: 0.6034 - val_accuracy: 0.8309 - lr: 1.0000e-07\n",
            "Epoch 46/50\n",
            "1563/1563 [==============================] - 12s 7ms/step - loss: 0.2793 - accuracy: 0.9016 - val_loss: 0.6021 - val_accuracy: 0.8300 - lr: 1.0000e-07\n",
            "Epoch 47/50\n",
            "1563/1563 [==============================] - 11s 7ms/step - loss: 0.2801 - accuracy: 0.9018 - val_loss: 0.6038 - val_accuracy: 0.8303 - lr: 1.0000e-07\n",
            "Epoch 48/50\n",
            "1563/1563 [==============================] - 11s 7ms/step - loss: 0.2795 - accuracy: 0.9012 - val_loss: 0.6018 - val_accuracy: 0.8304 - lr: 1.0000e-07\n",
            "Epoch 49/50\n",
            "1563/1563 [==============================] - 11s 7ms/step - loss: 0.2789 - accuracy: 0.9024 - val_loss: 0.6022 - val_accuracy: 0.8303 - lr: 1.0000e-07\n",
            "Epoch 50/50\n",
            "1563/1563 [==============================] - 11s 7ms/step - loss: 0.2798 - accuracy: 0.9015 - val_loss: 0.6032 - val_accuracy: 0.8305 - lr: 1.0000e-07\n"
          ]
        }
      ]
    },
    {
      "cell_type": "code",
      "source": [
        "plt.plot(history.history['accuracy'])\n",
        "plt.plot(history.history['val_accuracy'])\n",
        "plt.legend(['Train','Validation'],loc='upper left')\n",
        "plt.show()"
      ],
      "metadata": {
        "colab": {
          "base_uri": "https://localhost:8080/",
          "height": 430
        },
        "id": "AkAElOpIRwo1",
        "outputId": "3b0c6c8a-8311-456a-d953-98509d8193cf"
      },
      "execution_count": 11,
      "outputs": [
        {
          "output_type": "display_data",
          "data": {
            "text/plain": [
              "<Figure size 640x480 with 1 Axes>"
            ],
            "image/png": "[encoded data removed]"
          },
          "metadata": {}
        }
      ]
    },
    {
      "cell_type": "code",
      "source": [
        "model_CNN.load_weights('model_CNN.keras')\n",
        "model_CNN.evaluate(test_images,test_labels)"
      ],
      "metadata": {
        "id": "7O4sxln6Icb4",
        "colab": {
          "base_uri": "https://localhost:8080/"
        },
        "outputId": "8c782a0f-d89e-4656-e659-c8ef6a6e80fb"
      },
      "execution_count": 12,
      "outputs": [
        {
          "output_type": "stream",
          "name": "stdout",
          "text": [
            "313/313 [==============================] - 1s 3ms/step - loss: 0.6034 - accuracy: 0.8309\n"
          ]
        },
        {
          "output_type": "execute_result",
          "data": {
            "text/plain": [
              "[0.6033796072006226, 0.8309000134468079]"
            ]
          },
          "metadata": {},
          "execution_count": 12
        }
      ]
    },
    {
      "cell_type": "code",
      "source": [
        "y_pred=model_CNN.predict(test_images)\n",
        "y_pred=np.argmax(y_pred,axis=1)"
      ],
      "metadata": {
        "colab": {
          "base_uri": "https://localhost:8080/"
        },
        "id": "kFJjXu65baDu",
        "outputId": "d268e142-b2a1-44bf-ccc0-083f4fd75c8c"
      },
      "execution_count": 13,
      "outputs": [
        {
          "output_type": "stream",
          "name": "stdout",
          "text": [
            "313/313 [==============================] - 1s 3ms/step\n"
          ]
        }
      ]
    },
    {
      "cell_type": "code",
      "source": [
        "print(accuracy_score(y_pred,test_labels))\n",
        "print(precision_score(y_pred,test_labels,average='weighted'))\n",
        "print(recall_score(y_pred,test_labels,average='weighted'))"
      ],
      "metadata": {
        "colab": {
          "base_uri": "https://localhost:8080/"
        },
        "id": "YgQDeESkbaZD",
        "outputId": "ad9f62be-37df-4f48-bafa-796df007af84"
      },
      "execution_count": 14,
      "outputs": [
        {
          "output_type": "stream",
          "name": "stdout",
          "text": [
            "0.8309\n",
            "0.8336118\n",
            "0.8309\n"
          ]
        }
      ]
    },
    {
      "cell_type": "code",
      "source": [],
      "metadata": {
        "id": "DP6BTTpKbayD"
      },
      "execution_count": 14,
      "outputs": []
    },
    {
      "cell_type": "markdown",
      "source": [
        "#Normalized input and Normalised output\n",
        "\n"
      ],
      "metadata": {
        "id": "6URf20O-RhDD"
      }
    },
    {
      "cell_type": "code",
      "source": [
        "checkpoint=tf.keras.callbacks.ModelCheckpoint(filepath=f\"model_CNN_n.keras\",monitor='val_accuracy',mode='max',save_best_only=True)"
      ],
      "metadata": {
        "id": "9FEVneh2Rge1"
      },
      "execution_count": 15,
      "outputs": []
    },
    {
      "cell_type": "code",
      "source": [
        "model_CNN_n=cnn_model_creation()\n",
        "history=model_CNN_n.fit(n_train_images,train_labels,validation_data=(n_test_images,test_labels),epochs=50,callbacks=[checkpoint,reduce_lr])"
      ],
      "metadata": {
        "id": "yclUwAUMIcde",
        "colab": {
          "base_uri": "https://localhost:8080/"
        },
        "outputId": "b3082e33-3164-40f7-9f87-02e88fbc815c"
      },
      "execution_count": 16,
      "outputs": [
        {
          "output_type": "stream",
          "name": "stdout",
          "text": [
            "Epoch 1/50\n",
            "1563/1563 [==============================] - 15s 8ms/step - loss: 1.5021 - accuracy: 0.4555 - val_loss: 2.3097 - val_accuracy: 0.3706 - lr: 0.0010\n",
            "Epoch 2/50\n",
            "1563/1563 [==============================] - 11s 7ms/step - loss: 1.1289 - accuracy: 0.6028 - val_loss: 1.3988 - val_accuracy: 0.5193 - lr: 0.0010\n",
            "Epoch 3/50\n",
            "1563/1563 [==============================] - 11s 7ms/step - loss: 0.9727 - accuracy: 0.6621 - val_loss: 0.9576 - val_accuracy: 0.6680 - lr: 0.0010\n",
            "Epoch 4/50\n",
            "1563/1563 [==============================] - 11s 7ms/step - loss: 0.8711 - accuracy: 0.6959 - val_loss: 0.9412 - val_accuracy: 0.6740 - lr: 0.0010\n",
            "Epoch 5/50\n",
            "1563/1563 [==============================] - 11s 7ms/step - loss: 0.8058 - accuracy: 0.7212 - val_loss: 0.8135 - val_accuracy: 0.7212 - lr: 0.0010\n",
            "Epoch 6/50\n",
            "1563/1563 [==============================] - 11s 7ms/step - loss: 0.7496 - accuracy: 0.7409 - val_loss: 0.9120 - val_accuracy: 0.7004 - lr: 0.0010\n",
            "Epoch 7/50\n",
            "1563/1563 [==============================] - 11s 7ms/step - loss: 0.7091 - accuracy: 0.7534 - val_loss: 1.1676 - val_accuracy: 0.6399 - lr: 0.0010\n",
            "Epoch 8/50\n",
            "1563/1563 [==============================] - 11s 7ms/step - loss: 0.6667 - accuracy: 0.7676 - val_loss: 0.7821 - val_accuracy: 0.7418 - lr: 0.0010\n",
            "Epoch 9/50\n",
            "1563/1563 [==============================] - 11s 7ms/step - loss: 0.6337 - accuracy: 0.7800 - val_loss: 0.8228 - val_accuracy: 0.7273 - lr: 0.0010\n",
            "Epoch 10/50\n",
            "1563/1563 [==============================] - 11s 7ms/step - loss: 0.6105 - accuracy: 0.7890 - val_loss: 0.8295 - val_accuracy: 0.7288 - lr: 0.0010\n",
            "Epoch 11/50\n",
            "1563/1563 [==============================] - 12s 7ms/step - loss: 0.5815 - accuracy: 0.8003 - val_loss: 0.7315 - val_accuracy: 0.7693 - lr: 0.0010\n",
            "Epoch 12/50\n",
            "1563/1563 [==============================] - 12s 7ms/step - loss: 0.5601 - accuracy: 0.8057 - val_loss: 0.9270 - val_accuracy: 0.7212 - lr: 0.0010\n",
            "Epoch 13/50\n",
            "1563/1563 [==============================] - 11s 7ms/step - loss: 0.5389 - accuracy: 0.8133 - val_loss: 0.8946 - val_accuracy: 0.7207 - lr: 0.0010\n",
            "Epoch 14/50\n",
            "1563/1563 [==============================] - 12s 8ms/step - loss: 0.5140 - accuracy: 0.8230 - val_loss: 1.0576 - val_accuracy: 0.6899 - lr: 0.0010\n",
            "Epoch 15/50\n",
            "1563/1563 [==============================] - 11s 7ms/step - loss: 0.4191 - accuracy: 0.8540 - val_loss: 0.6100 - val_accuracy: 0.8084 - lr: 1.0000e-04\n",
            "Epoch 16/50\n",
            "1563/1563 [==============================] - 11s 7ms/step - loss: 0.3916 - accuracy: 0.8636 - val_loss: 0.5823 - val_accuracy: 0.8175 - lr: 1.0000e-04\n",
            "Epoch 17/50\n",
            "1563/1563 [==============================] - 12s 8ms/step - loss: 0.3767 - accuracy: 0.8686 - val_loss: 0.5846 - val_accuracy: 0.8141 - lr: 1.0000e-04\n",
            "Epoch 18/50\n",
            "1563/1563 [==============================] - 12s 8ms/step - loss: 0.3677 - accuracy: 0.8713 - val_loss: 0.5780 - val_accuracy: 0.8199 - lr: 1.0000e-04\n",
            "Epoch 19/50\n",
            "1563/1563 [==============================] - 12s 7ms/step - loss: 0.3544 - accuracy: 0.8757 - val_loss: 0.5837 - val_accuracy: 0.8193 - lr: 1.0000e-04\n",
            "Epoch 20/50\n",
            "1563/1563 [==============================] - 12s 7ms/step - loss: 0.3491 - accuracy: 0.8794 - val_loss: 0.5837 - val_accuracy: 0.8217 - lr: 1.0000e-04\n",
            "Epoch 21/50\n",
            "1563/1563 [==============================] - 12s 7ms/step - loss: 0.3405 - accuracy: 0.8801 - val_loss: 0.5877 - val_accuracy: 0.8218 - lr: 1.0000e-04\n",
            "Epoch 22/50\n",
            "1563/1563 [==============================] - 11s 7ms/step - loss: 0.3270 - accuracy: 0.8844 - val_loss: 0.5812 - val_accuracy: 0.8241 - lr: 1.0000e-05\n",
            "Epoch 23/50\n",
            "1563/1563 [==============================] - 11s 7ms/step - loss: 0.3216 - accuracy: 0.8876 - val_loss: 0.5831 - val_accuracy: 0.8241 - lr: 1.0000e-05\n",
            "Epoch 24/50\n",
            "1563/1563 [==============================] - 11s 7ms/step - loss: 0.3255 - accuracy: 0.8838 - val_loss: 0.5804 - val_accuracy: 0.8243 - lr: 1.0000e-05\n",
            "Epoch 25/50\n",
            "1563/1563 [==============================] - 12s 7ms/step - loss: 0.3211 - accuracy: 0.8875 - val_loss: 0.5812 - val_accuracy: 0.8250 - lr: 1.0000e-06\n",
            "Epoch 26/50\n",
            "1563/1563 [==============================] - 12s 7ms/step - loss: 0.3252 - accuracy: 0.8852 - val_loss: 0.5808 - val_accuracy: 0.8245 - lr: 1.0000e-06\n",
            "Epoch 27/50\n",
            "1563/1563 [==============================] - 12s 8ms/step - loss: 0.3217 - accuracy: 0.8874 - val_loss: 0.5816 - val_accuracy: 0.8251 - lr: 1.0000e-06\n",
            "Epoch 28/50\n",
            "1563/1563 [==============================] - 11s 7ms/step - loss: 0.3260 - accuracy: 0.8862 - val_loss: 0.5826 - val_accuracy: 0.8248 - lr: 1.0000e-07\n",
            "Epoch 29/50\n",
            "1563/1563 [==============================] - 11s 7ms/step - loss: 0.3216 - accuracy: 0.8862 - val_loss: 0.5828 - val_accuracy: 0.8242 - lr: 1.0000e-07\n",
            "Epoch 30/50\n",
            "1563/1563 [==============================] - 12s 8ms/step - loss: 0.3225 - accuracy: 0.8870 - val_loss: 0.5815 - val_accuracy: 0.8241 - lr: 1.0000e-07\n",
            "Epoch 31/50\n",
            "1563/1563 [==============================] - 11s 7ms/step - loss: 0.3191 - accuracy: 0.8869 - val_loss: 0.5822 - val_accuracy: 0.8242 - lr: 1.0000e-07\n",
            "Epoch 32/50\n",
            "1563/1563 [==============================] - 11s 7ms/step - loss: 0.3193 - accuracy: 0.8883 - val_loss: 0.5815 - val_accuracy: 0.8246 - lr: 1.0000e-07\n",
            "Epoch 33/50\n",
            "1563/1563 [==============================] - 11s 7ms/step - loss: 0.3181 - accuracy: 0.8879 - val_loss: 0.5821 - val_accuracy: 0.8243 - lr: 1.0000e-07\n",
            "Epoch 34/50\n",
            "1563/1563 [==============================] - 12s 7ms/step - loss: 0.3236 - accuracy: 0.8854 - val_loss: 0.5816 - val_accuracy: 0.8245 - lr: 1.0000e-07\n",
            "Epoch 35/50\n",
            "1563/1563 [==============================] - 12s 7ms/step - loss: 0.3164 - accuracy: 0.8886 - val_loss: 0.5836 - val_accuracy: 0.8242 - lr: 1.0000e-07\n",
            "Epoch 36/50\n",
            "1563/1563 [==============================] - 11s 7ms/step - loss: 0.3199 - accuracy: 0.8887 - val_loss: 0.5827 - val_accuracy: 0.8240 - lr: 1.0000e-07\n",
            "Epoch 37/50\n",
            "1563/1563 [==============================] - 11s 7ms/step - loss: 0.3216 - accuracy: 0.8870 - val_loss: 0.5824 - val_accuracy: 0.8247 - lr: 1.0000e-07\n",
            "Epoch 38/50\n",
            "1563/1563 [==============================] - 17s 11ms/step - loss: 0.3223 - accuracy: 0.8887 - val_loss: 0.5829 - val_accuracy: 0.8254 - lr: 1.0000e-07\n",
            "Epoch 39/50\n",
            "1563/1563 [==============================] - 11s 7ms/step - loss: 0.3230 - accuracy: 0.8867 - val_loss: 0.5820 - val_accuracy: 0.8247 - lr: 1.0000e-07\n",
            "Epoch 40/50\n",
            "1563/1563 [==============================] - 11s 7ms/step - loss: 0.3214 - accuracy: 0.8871 - val_loss: 0.5824 - val_accuracy: 0.8244 - lr: 1.0000e-07\n",
            "Epoch 41/50\n",
            "1563/1563 [==============================] - 11s 7ms/step - loss: 0.3218 - accuracy: 0.8882 - val_loss: 0.5827 - val_accuracy: 0.8245 - lr: 1.0000e-07\n",
            "Epoch 42/50\n",
            "1563/1563 [==============================] - 11s 7ms/step - loss: 0.3213 - accuracy: 0.8861 - val_loss: 0.5827 - val_accuracy: 0.8243 - lr: 1.0000e-07\n",
            "Epoch 43/50\n",
            "1563/1563 [==============================] - 12s 7ms/step - loss: 0.3223 - accuracy: 0.8865 - val_loss: 0.5825 - val_accuracy: 0.8245 - lr: 1.0000e-07\n",
            "Epoch 44/50\n",
            "1563/1563 [==============================] - 11s 7ms/step - loss: 0.3192 - accuracy: 0.8883 - val_loss: 0.5829 - val_accuracy: 0.8241 - lr: 1.0000e-07\n",
            "Epoch 45/50\n",
            "1563/1563 [==============================] - 11s 7ms/step - loss: 0.3207 - accuracy: 0.8873 - val_loss: 0.5827 - val_accuracy: 0.8240 - lr: 1.0000e-07\n",
            "Epoch 46/50\n",
            "1563/1563 [==============================] - 12s 7ms/step - loss: 0.3168 - accuracy: 0.8887 - val_loss: 0.5814 - val_accuracy: 0.8247 - lr: 1.0000e-07\n",
            "Epoch 47/50\n",
            "1563/1563 [==============================] - 12s 8ms/step - loss: 0.3266 - accuracy: 0.8866 - val_loss: 0.5813 - val_accuracy: 0.8251 - lr: 1.0000e-07\n",
            "Epoch 48/50\n",
            "1563/1563 [==============================] - 11s 7ms/step - loss: 0.3199 - accuracy: 0.8871 - val_loss: 0.5826 - val_accuracy: 0.8254 - lr: 1.0000e-07\n",
            "Epoch 49/50\n",
            "1563/1563 [==============================] - 12s 7ms/step - loss: 0.3196 - accuracy: 0.8867 - val_loss: 0.5811 - val_accuracy: 0.8247 - lr: 1.0000e-07\n",
            "Epoch 50/50\n",
            "1563/1563 [==============================] - 11s 7ms/step - loss: 0.3200 - accuracy: 0.8879 - val_loss: 0.5826 - val_accuracy: 0.8250 - lr: 1.0000e-07\n"
          ]
        }
      ]
    },
    {
      "cell_type": "code",
      "source": [
        "plt.plot(history.history['accuracy'])\n",
        "plt.plot(history.history['val_accuracy'])\n",
        "plt.legend(['Train','Validation'],loc='upper left')\n",
        "plt.show()"
      ],
      "metadata": {
        "id": "tgMa-kyGIcf7",
        "colab": {
          "base_uri": "https://localhost:8080/",
          "height": 430
        },
        "outputId": "05206d02-10d3-4692-fe45-a10676787f23"
      },
      "execution_count": 17,
      "outputs": [
        {
          "output_type": "display_data",
          "data": {
            "text/plain": [
              "<Figure size 640x480 with 1 Axes>"
            ],
            "image/png": "[encoded data removed]"
          },
          "metadata": {}
        }
      ]
    },
    {
      "cell_type": "code",
      "source": [
        "model_CNN_n.load_weights('model_CNN_n.keras')\n",
        "model_CNN_n.evaluate(n_test_images,test_labels)"
      ],
      "metadata": {
        "id": "6joV15atIcib",
        "colab": {
          "base_uri": "https://localhost:8080/"
        },
        "outputId": "f7471f53-2915-4a7c-8b15-a9258aa7f30a"
      },
      "execution_count": 18,
      "outputs": [
        {
          "output_type": "stream",
          "name": "stdout",
          "text": [
            "313/313 [==============================] - 1s 4ms/step - loss: 0.5829 - accuracy: 0.8254\n"
          ]
        },
        {
          "output_type": "execute_result",
          "data": {
            "text/plain": [
              "[0.5828569531440735, 0.8253999948501587]"
            ]
          },
          "metadata": {},
          "execution_count": 18
        }
      ]
    },
    {
      "cell_type": "code",
      "source": [
        "y_pred=model_CNN_n.predict(n_test_images)\n",
        "y_pred=np.argmax(y_pred,axis=1)"
      ],
      "metadata": {
        "colab": {
          "base_uri": "https://localhost:8080/"
        },
        "id": "EjE-WNg-b3vo",
        "outputId": "6e12042b-888e-41e5-dc27-d8eabe501f3e"
      },
      "execution_count": 19,
      "outputs": [
        {
          "output_type": "stream",
          "name": "stdout",
          "text": [
            "313/313 [==============================] - 1s 2ms/step\n"
          ]
        }
      ]
    },
    {
      "cell_type": "code",
      "source": [
        "print(accuracy_score(y_pred,test_labels))\n",
        "print(precision_score(y_pred,test_labels,average='weighted'))\n",
        "print(recall_score(y_pred,test_labels,average='weighted'))"
      ],
      "metadata": {
        "colab": {
          "base_uri": "https://localhost:8080/"
        },
        "id": "yfVOeufUb33p",
        "outputId": "69ec60ce-ea21-42a3-ab13-322df94b45fb"
      },
      "execution_count": 20,
      "outputs": [
        {
          "output_type": "stream",
          "name": "stdout",
          "text": [
            "0.8254\n",
            "0.8270603000000001\n",
            "0.8254\n"
          ]
        }
      ]
    },
    {
      "cell_type": "markdown",
      "source": [
        "#Augmented Input\n"
      ],
      "metadata": {
        "id": "Mud2bCzAS9JA"
      }
    },
    {
      "cell_type": "code",
      "source": [
        "checkpoint=tf.keras.callbacks.ModelCheckpoint(filepath='model_CNN_aug.keras',mode='max',monitor='val_accuracy',save_best_only=True)"
      ],
      "metadata": {
        "id": "D9aUWOa4Ick4"
      },
      "execution_count": 21,
      "outputs": []
    },
    {
      "cell_type": "code",
      "source": [
        "model_cnn_aug=cnn_model_creation()\n",
        "history=model_cnn_aug.fit(augmented_train_images,train_labels,validation_data=(test_images,test_labels),epochs=50,callbacks=[checkpoint,reduce_lr])"
      ],
      "metadata": {
        "id": "J8UBoZzDIcnS",
        "colab": {
          "base_uri": "https://localhost:8080/"
        },
        "outputId": "e997cac4-d0fe-4f41-f1da-2fbbd24358e5"
      },
      "execution_count": 22,
      "outputs": [
        {
          "output_type": "stream",
          "name": "stdout",
          "text": [
            "Epoch 1/50\n",
            "1563/1563 [==============================] - 15s 8ms/step - loss: 1.4418 - accuracy: 0.4783 - val_loss: 2.1814 - val_accuracy: 0.2964 - lr: 0.0010\n",
            "Epoch 2/50\n",
            "1563/1563 [==============================] - 11s 7ms/step - loss: 1.0751 - accuracy: 0.6209 - val_loss: 1.9184 - val_accuracy: 0.3379 - lr: 0.0010\n",
            "Epoch 3/50\n",
            "1563/1563 [==============================] - 11s 7ms/step - loss: 0.9357 - accuracy: 0.6707 - val_loss: 2.4833 - val_accuracy: 0.2802 - lr: 0.0010\n",
            "Epoch 4/50\n",
            "1563/1563 [==============================] - 11s 7ms/step - loss: 0.8454 - accuracy: 0.7023 - val_loss: 2.3611 - val_accuracy: 0.2820 - lr: 0.0010\n",
            "Epoch 5/50\n",
            "1563/1563 [==============================] - 11s 7ms/step - loss: 0.7834 - accuracy: 0.7275 - val_loss: 2.5998 - val_accuracy: 0.3144 - lr: 0.0010\n",
            "Epoch 6/50\n",
            "1563/1563 [==============================] - 11s 7ms/step - loss: 0.6440 - accuracy: 0.7735 - val_loss: 2.1902 - val_accuracy: 0.3640 - lr: 1.0000e-04\n",
            "Epoch 7/50\n",
            "1563/1563 [==============================] - 13s 8ms/step - loss: 0.5946 - accuracy: 0.7910 - val_loss: 2.2621 - val_accuracy: 0.3679 - lr: 1.0000e-04\n",
            "Epoch 8/50\n",
            "1563/1563 [==============================] - 11s 7ms/step - loss: 0.5739 - accuracy: 0.7970 - val_loss: 2.5178 - val_accuracy: 0.3523 - lr: 1.0000e-04\n",
            "Epoch 9/50\n",
            "1563/1563 [==============================] - 11s 7ms/step - loss: 0.5453 - accuracy: 0.8078 - val_loss: 2.3906 - val_accuracy: 0.3682 - lr: 1.0000e-05\n",
            "Epoch 10/50\n",
            "1563/1563 [==============================] - 10s 7ms/step - loss: 0.5460 - accuracy: 0.8076 - val_loss: 2.4018 - val_accuracy: 0.3676 - lr: 1.0000e-05\n",
            "Epoch 11/50\n",
            "1563/1563 [==============================] - 12s 7ms/step - loss: 0.5355 - accuracy: 0.8099 - val_loss: 2.3797 - val_accuracy: 0.3686 - lr: 1.0000e-05\n",
            "Epoch 12/50\n",
            "1563/1563 [==============================] - 11s 7ms/step - loss: 0.5314 - accuracy: 0.8113 - val_loss: 2.3794 - val_accuracy: 0.3691 - lr: 1.0000e-06\n",
            "Epoch 13/50\n",
            "1563/1563 [==============================] - 11s 7ms/step - loss: 0.5314 - accuracy: 0.8102 - val_loss: 2.3825 - val_accuracy: 0.3686 - lr: 1.0000e-06\n",
            "Epoch 14/50\n",
            "1563/1563 [==============================] - 11s 7ms/step - loss: 0.5411 - accuracy: 0.8088 - val_loss: 2.3944 - val_accuracy: 0.3674 - lr: 1.0000e-06\n",
            "Epoch 15/50\n",
            "1563/1563 [==============================] - 11s 7ms/step - loss: 0.5342 - accuracy: 0.8113 - val_loss: 2.3913 - val_accuracy: 0.3674 - lr: 1.0000e-07\n",
            "Epoch 16/50\n",
            "1563/1563 [==============================] - 11s 7ms/step - loss: 0.5335 - accuracy: 0.8117 - val_loss: 2.4015 - val_accuracy: 0.3676 - lr: 1.0000e-07\n",
            "Epoch 17/50\n",
            "1563/1563 [==============================] - 11s 7ms/step - loss: 0.5355 - accuracy: 0.8102 - val_loss: 2.3990 - val_accuracy: 0.3674 - lr: 1.0000e-07\n",
            "Epoch 18/50\n",
            "1563/1563 [==============================] - 12s 7ms/step - loss: 0.5338 - accuracy: 0.8118 - val_loss: 2.3777 - val_accuracy: 0.3702 - lr: 1.0000e-07\n",
            "Epoch 19/50\n",
            "1563/1563 [==============================] - 11s 7ms/step - loss: 0.5359 - accuracy: 0.8130 - val_loss: 2.3901 - val_accuracy: 0.3677 - lr: 1.0000e-07\n",
            "Epoch 20/50\n",
            "1563/1563 [==============================] - 11s 7ms/step - loss: 0.5367 - accuracy: 0.8088 - val_loss: 2.4057 - val_accuracy: 0.3678 - lr: 1.0000e-07\n",
            "Epoch 21/50\n",
            "1563/1563 [==============================] - 11s 7ms/step - loss: 0.5352 - accuracy: 0.8131 - val_loss: 2.3873 - val_accuracy: 0.3684 - lr: 1.0000e-07\n",
            "Epoch 22/50\n",
            "1563/1563 [==============================] - 11s 7ms/step - loss: 0.5364 - accuracy: 0.8119 - val_loss: 2.3980 - val_accuracy: 0.3678 - lr: 1.0000e-07\n",
            "Epoch 23/50\n",
            "1563/1563 [==============================] - 11s 7ms/step - loss: 0.5381 - accuracy: 0.8086 - val_loss: 2.4034 - val_accuracy: 0.3672 - lr: 1.0000e-07\n",
            "Epoch 24/50\n",
            "1563/1563 [==============================] - 12s 8ms/step - loss: 0.5336 - accuracy: 0.8107 - val_loss: 2.3898 - val_accuracy: 0.3679 - lr: 1.0000e-07\n",
            "Epoch 25/50\n",
            "1563/1563 [==============================] - 11s 7ms/step - loss: 0.5370 - accuracy: 0.8102 - val_loss: 2.3962 - val_accuracy: 0.3676 - lr: 1.0000e-07\n",
            "Epoch 26/50\n",
            "1563/1563 [==============================] - 11s 7ms/step - loss: 0.5343 - accuracy: 0.8120 - val_loss: 2.3940 - val_accuracy: 0.3674 - lr: 1.0000e-07\n",
            "Epoch 27/50\n",
            "1563/1563 [==============================] - 11s 7ms/step - loss: 0.5295 - accuracy: 0.8114 - val_loss: 2.3958 - val_accuracy: 0.3683 - lr: 1.0000e-07\n",
            "Epoch 28/50\n",
            "1563/1563 [==============================] - 12s 7ms/step - loss: 0.5314 - accuracy: 0.8108 - val_loss: 2.4027 - val_accuracy: 0.3671 - lr: 1.0000e-07\n",
            "Epoch 29/50\n",
            "1563/1563 [==============================] - 11s 7ms/step - loss: 0.5348 - accuracy: 0.8085 - val_loss: 2.3875 - val_accuracy: 0.3688 - lr: 1.0000e-07\n",
            "Epoch 30/50\n",
            "1563/1563 [==============================] - 11s 7ms/step - loss: 0.5320 - accuracy: 0.8095 - val_loss: 2.4054 - val_accuracy: 0.3664 - lr: 1.0000e-07\n",
            "Epoch 31/50\n",
            "1563/1563 [==============================] - 11s 7ms/step - loss: 0.5381 - accuracy: 0.8091 - val_loss: 2.4005 - val_accuracy: 0.3676 - lr: 1.0000e-07\n",
            "Epoch 32/50\n",
            "1563/1563 [==============================] - 11s 7ms/step - loss: 0.5322 - accuracy: 0.8099 - val_loss: 2.3991 - val_accuracy: 0.3670 - lr: 1.0000e-07\n",
            "Epoch 33/50\n",
            "1563/1563 [==============================] - 11s 7ms/step - loss: 0.5372 - accuracy: 0.8092 - val_loss: 2.4040 - val_accuracy: 0.3675 - lr: 1.0000e-07\n",
            "Epoch 34/50\n",
            "1563/1563 [==============================] - 11s 7ms/step - loss: 0.5306 - accuracy: 0.8125 - val_loss: 2.4016 - val_accuracy: 0.3674 - lr: 1.0000e-07\n",
            "Epoch 35/50\n",
            "1563/1563 [==============================] - 12s 7ms/step - loss: 0.5343 - accuracy: 0.8122 - val_loss: 2.4168 - val_accuracy: 0.3669 - lr: 1.0000e-07\n",
            "Epoch 36/50\n",
            "1563/1563 [==============================] - 11s 7ms/step - loss: 0.5341 - accuracy: 0.8089 - val_loss: 2.3943 - val_accuracy: 0.3675 - lr: 1.0000e-07\n",
            "Epoch 37/50\n",
            "1563/1563 [==============================] - 11s 7ms/step - loss: 0.5345 - accuracy: 0.8109 - val_loss: 2.3841 - val_accuracy: 0.3696 - lr: 1.0000e-07\n",
            "Epoch 38/50\n",
            "1563/1563 [==============================] - 11s 7ms/step - loss: 0.5317 - accuracy: 0.8110 - val_loss: 2.3970 - val_accuracy: 0.3674 - lr: 1.0000e-07\n",
            "Epoch 39/50\n",
            "1563/1563 [==============================] - 12s 7ms/step - loss: 0.5343 - accuracy: 0.8114 - val_loss: 2.4024 - val_accuracy: 0.3678 - lr: 1.0000e-07\n",
            "Epoch 40/50\n",
            "1563/1563 [==============================] - 13s 8ms/step - loss: 0.5340 - accuracy: 0.8098 - val_loss: 2.3984 - val_accuracy: 0.3675 - lr: 1.0000e-07\n",
            "Epoch 41/50\n",
            "1563/1563 [==============================] - 11s 7ms/step - loss: 0.5363 - accuracy: 0.8093 - val_loss: 2.3763 - val_accuracy: 0.3697 - lr: 1.0000e-07\n",
            "Epoch 42/50\n",
            "1563/1563 [==============================] - 12s 7ms/step - loss: 0.5303 - accuracy: 0.8125 - val_loss: 2.4188 - val_accuracy: 0.3658 - lr: 1.0000e-07\n",
            "Epoch 43/50\n",
            "1563/1563 [==============================] - 12s 8ms/step - loss: 0.5380 - accuracy: 0.8100 - val_loss: 2.4197 - val_accuracy: 0.3672 - lr: 1.0000e-07\n",
            "Epoch 44/50\n",
            "1563/1563 [==============================] - 11s 7ms/step - loss: 0.5324 - accuracy: 0.8120 - val_loss: 2.3968 - val_accuracy: 0.3681 - lr: 1.0000e-07\n",
            "Epoch 45/50\n",
            "1563/1563 [==============================] - 11s 7ms/step - loss: 0.5336 - accuracy: 0.8123 - val_loss: 2.3902 - val_accuracy: 0.3686 - lr: 1.0000e-07\n",
            "Epoch 46/50\n",
            "1563/1563 [==============================] - 11s 7ms/step - loss: 0.5356 - accuracy: 0.8108 - val_loss: 2.3903 - val_accuracy: 0.3679 - lr: 1.0000e-07\n",
            "Epoch 47/50\n",
            "1563/1563 [==============================] - 11s 7ms/step - loss: 0.5356 - accuracy: 0.8101 - val_loss: 2.4005 - val_accuracy: 0.3679 - lr: 1.0000e-07\n",
            "Epoch 48/50\n",
            "1563/1563 [==============================] - 11s 7ms/step - loss: 0.5337 - accuracy: 0.8126 - val_loss: 2.3800 - val_accuracy: 0.3692 - lr: 1.0000e-07\n",
            "Epoch 49/50\n",
            "1563/1563 [==============================] - 11s 7ms/step - loss: 0.5378 - accuracy: 0.8090 - val_loss: 2.4030 - val_accuracy: 0.3672 - lr: 1.0000e-07\n",
            "Epoch 50/50\n",
            "1563/1563 [==============================] - 11s 7ms/step - loss: 0.5300 - accuracy: 0.8122 - val_loss: 2.4020 - val_accuracy: 0.3675 - lr: 1.0000e-07\n"
          ]
        }
      ]
    },
    {
      "cell_type": "code",
      "source": [
        "plt.plot(history.history['accuracy'])\n",
        "plt.plot(history.history['val_accuracy'])\n",
        "plt.legend(['Train','Validation'],loc='upper left')\n",
        "plt.show()"
      ],
      "metadata": {
        "id": "qRrfj8X1Icpy",
        "colab": {
          "base_uri": "https://localhost:8080/",
          "height": 430
        },
        "outputId": "ef166660-7ea8-4e88-fd51-cc3500ad9f9d"
      },
      "execution_count": 23,
      "outputs": [
        {
          "output_type": "display_data",
          "data": {
            "text/plain": [
              "<Figure size 640x480 with 1 Axes>"
            ],
            "image/png": "[encoded data removed]"
          },
          "metadata": {}
        }
      ]
    },
    {
      "cell_type": "code",
      "source": [
        "model_cnn_aug.load_weights('model_CNN_aug.keras')\n",
        "model_cnn_aug.evaluate(test_images,test_labels)"
      ],
      "metadata": {
        "id": "okizRF3BIcsI",
        "colab": {
          "base_uri": "https://localhost:8080/"
        },
        "outputId": "d8c295fe-97fd-4e4b-9e5c-7da001793a9e"
      },
      "execution_count": 24,
      "outputs": [
        {
          "output_type": "stream",
          "name": "stdout",
          "text": [
            "313/313 [==============================] - 1s 3ms/step - loss: 2.3777 - accuracy: 0.3702\n"
          ]
        },
        {
          "output_type": "execute_result",
          "data": {
            "text/plain": [
              "[2.377675771713257, 0.3702000081539154]"
            ]
          },
          "metadata": {},
          "execution_count": 24
        }
      ]
    },
    {
      "cell_type": "markdown",
      "source": [
        "#Augmented and normalized input"
      ],
      "metadata": {
        "id": "kdlaPgugdWUj"
      }
    },
    {
      "cell_type": "code",
      "source": [
        "checkpoint=tf.keras.callbacks.ModelCheckpoint('model_CNN_aug_n.keras',monitor='val_accuracy',mode='max',save_best_only=True)"
      ],
      "metadata": {
        "id": "MQKuS9OwVKjb"
      },
      "execution_count": 25,
      "outputs": []
    },
    {
      "cell_type": "code",
      "source": [
        "model_cnn_aug_n=cnn_model_creation()\n",
        "history=model_cnn_aug_n.fit(n_augmented_train_images,train_labels,validation_data=(n_test_images,test_labels),epochs=50,callbacks=[checkpoint,reduce_lr])"
      ],
      "metadata": {
        "id": "foPPhZ5bIcui",
        "colab": {
          "base_uri": "https://localhost:8080/"
        },
        "outputId": "70d946b4-0301-4db8-b628-0d1d48a60a58"
      },
      "execution_count": 26,
      "outputs": [
        {
          "output_type": "stream",
          "name": "stdout",
          "text": [
            "Epoch 1/50\n",
            "1563/1563 [==============================] - 15s 8ms/step - loss: 1.4379 - accuracy: 0.4816 - val_loss: 2.4543 - val_accuracy: 0.2616 - lr: 0.0010\n",
            "Epoch 2/50\n",
            "1563/1563 [==============================] - 11s 7ms/step - loss: 1.0951 - accuracy: 0.6125 - val_loss: 2.1418 - val_accuracy: 0.3001 - lr: 0.0010\n",
            "Epoch 3/50\n",
            "1563/1563 [==============================] - 11s 7ms/step - loss: 0.9550 - accuracy: 0.6628 - val_loss: 2.2883 - val_accuracy: 0.3098 - lr: 0.0010\n",
            "Epoch 4/50\n",
            "1563/1563 [==============================] - 11s 7ms/step - loss: 0.8679 - accuracy: 0.6966 - val_loss: 2.3056 - val_accuracy: 0.3011 - lr: 0.0010\n",
            "Epoch 5/50\n",
            "1563/1563 [==============================] - 11s 7ms/step - loss: 0.7985 - accuracy: 0.7242 - val_loss: 2.4981 - val_accuracy: 0.3113 - lr: 0.0010\n",
            "Epoch 6/50\n",
            "1563/1563 [==============================] - 12s 8ms/step - loss: 0.6524 - accuracy: 0.7712 - val_loss: 2.1651 - val_accuracy: 0.3697 - lr: 1.0000e-04\n",
            "Epoch 7/50\n",
            "1563/1563 [==============================] - 11s 7ms/step - loss: 0.6064 - accuracy: 0.7858 - val_loss: 2.2477 - val_accuracy: 0.3604 - lr: 1.0000e-04\n",
            "Epoch 8/50\n",
            "1563/1563 [==============================] - 11s 7ms/step - loss: 0.5845 - accuracy: 0.7944 - val_loss: 2.2344 - val_accuracy: 0.3731 - lr: 1.0000e-04\n",
            "Epoch 9/50\n",
            "1563/1563 [==============================] - 11s 7ms/step - loss: 0.5647 - accuracy: 0.7996 - val_loss: 2.3082 - val_accuracy: 0.3668 - lr: 1.0000e-05\n",
            "Epoch 10/50\n",
            "1563/1563 [==============================] - 12s 8ms/step - loss: 0.5564 - accuracy: 0.8026 - val_loss: 2.2975 - val_accuracy: 0.3693 - lr: 1.0000e-05\n",
            "Epoch 11/50\n",
            "1563/1563 [==============================] - 12s 8ms/step - loss: 0.5539 - accuracy: 0.8053 - val_loss: 2.3274 - val_accuracy: 0.3670 - lr: 1.0000e-05\n",
            "Epoch 12/50\n",
            "1563/1563 [==============================] - 12s 8ms/step - loss: 0.5505 - accuracy: 0.8046 - val_loss: 2.3046 - val_accuracy: 0.3689 - lr: 1.0000e-06\n",
            "Epoch 13/50\n",
            "1563/1563 [==============================] - 12s 8ms/step - loss: 0.5530 - accuracy: 0.8041 - val_loss: 2.3039 - val_accuracy: 0.3695 - lr: 1.0000e-06\n",
            "Epoch 14/50\n",
            "1563/1563 [==============================] - 11s 7ms/step - loss: 0.5505 - accuracy: 0.8050 - val_loss: 2.3241 - val_accuracy: 0.3665 - lr: 1.0000e-06\n",
            "Epoch 15/50\n",
            "1563/1563 [==============================] - 11s 7ms/step - loss: 0.5542 - accuracy: 0.8041 - val_loss: 2.3220 - val_accuracy: 0.3679 - lr: 1.0000e-07\n",
            "Epoch 16/50\n",
            "1563/1563 [==============================] - 12s 7ms/step - loss: 0.5486 - accuracy: 0.8060 - val_loss: 2.3154 - val_accuracy: 0.3685 - lr: 1.0000e-07\n",
            "Epoch 17/50\n",
            "1563/1563 [==============================] - 11s 7ms/step - loss: 0.5527 - accuracy: 0.8050 - val_loss: 2.3406 - val_accuracy: 0.3660 - lr: 1.0000e-07\n",
            "Epoch 18/50\n",
            "1563/1563 [==============================] - 12s 8ms/step - loss: 0.5495 - accuracy: 0.8030 - val_loss: 2.3193 - val_accuracy: 0.3674 - lr: 1.0000e-07\n",
            "Epoch 19/50\n",
            "1563/1563 [==============================] - 11s 7ms/step - loss: 0.5519 - accuracy: 0.8054 - val_loss: 2.3215 - val_accuracy: 0.3682 - lr: 1.0000e-07\n",
            "Epoch 20/50\n",
            "1563/1563 [==============================] - 11s 7ms/step - loss: 0.5507 - accuracy: 0.8037 - val_loss: 2.3186 - val_accuracy: 0.3678 - lr: 1.0000e-07\n",
            "Epoch 21/50\n",
            "1563/1563 [==============================] - 11s 7ms/step - loss: 0.5483 - accuracy: 0.8067 - val_loss: 2.3340 - val_accuracy: 0.3667 - lr: 1.0000e-07\n",
            "Epoch 22/50\n",
            "1563/1563 [==============================] - 12s 8ms/step - loss: 0.5539 - accuracy: 0.8042 - val_loss: 2.3077 - val_accuracy: 0.3681 - lr: 1.0000e-07\n",
            "Epoch 23/50\n",
            "1563/1563 [==============================] - 11s 7ms/step - loss: 0.5514 - accuracy: 0.8067 - val_loss: 2.3149 - val_accuracy: 0.3675 - lr: 1.0000e-07\n",
            "Epoch 24/50\n",
            "1563/1563 [==============================] - 11s 7ms/step - loss: 0.5500 - accuracy: 0.8046 - val_loss: 2.3460 - val_accuracy: 0.3661 - lr: 1.0000e-07\n",
            "Epoch 25/50\n",
            "1563/1563 [==============================] - 11s 7ms/step - loss: 0.5489 - accuracy: 0.8044 - val_loss: 2.3226 - val_accuracy: 0.3672 - lr: 1.0000e-07\n",
            "Epoch 26/50\n",
            "1563/1563 [==============================] - 11s 7ms/step - loss: 0.5589 - accuracy: 0.8025 - val_loss: 2.3212 - val_accuracy: 0.3670 - lr: 1.0000e-07\n",
            "Epoch 27/50\n",
            "1563/1563 [==============================] - 11s 7ms/step - loss: 0.5552 - accuracy: 0.8027 - val_loss: 2.3210 - val_accuracy: 0.3678 - lr: 1.0000e-07\n",
            "Epoch 28/50\n",
            "1563/1563 [==============================] - 11s 7ms/step - loss: 0.5480 - accuracy: 0.8080 - val_loss: 2.3223 - val_accuracy: 0.3666 - lr: 1.0000e-07\n",
            "Epoch 29/50\n",
            "1563/1563 [==============================] - 12s 7ms/step - loss: 0.5522 - accuracy: 0.8052 - val_loss: 2.3073 - val_accuracy: 0.3684 - lr: 1.0000e-07\n",
            "Epoch 30/50\n",
            "1563/1563 [==============================] - 11s 7ms/step - loss: 0.5520 - accuracy: 0.8052 - val_loss: 2.3342 - val_accuracy: 0.3667 - lr: 1.0000e-07\n",
            "Epoch 31/50\n",
            "1563/1563 [==============================] - 11s 7ms/step - loss: 0.5512 - accuracy: 0.8045 - val_loss: 2.3208 - val_accuracy: 0.3676 - lr: 1.0000e-07\n",
            "Epoch 32/50\n",
            "1563/1563 [==============================] - 11s 7ms/step - loss: 0.5478 - accuracy: 0.8076 - val_loss: 2.3209 - val_accuracy: 0.3683 - lr: 1.0000e-07\n",
            "Epoch 33/50\n",
            "1563/1563 [==============================] - 11s 7ms/step - loss: 0.5551 - accuracy: 0.8045 - val_loss: 2.3127 - val_accuracy: 0.3688 - lr: 1.0000e-07\n",
            "Epoch 34/50\n",
            "1563/1563 [==============================] - 11s 7ms/step - loss: 0.5478 - accuracy: 0.8046 - val_loss: 2.3179 - val_accuracy: 0.3676 - lr: 1.0000e-07\n",
            "Epoch 35/50\n",
            "1563/1563 [==============================] - 11s 7ms/step - loss: 0.5491 - accuracy: 0.8053 - val_loss: 2.3111 - val_accuracy: 0.3685 - lr: 1.0000e-07\n",
            "Epoch 36/50\n",
            "1563/1563 [==============================] - 11s 7ms/step - loss: 0.5503 - accuracy: 0.8055 - val_loss: 2.3192 - val_accuracy: 0.3680 - lr: 1.0000e-07\n",
            "Epoch 37/50\n",
            "1563/1563 [==============================] - 11s 7ms/step - loss: 0.5544 - accuracy: 0.8034 - val_loss: 2.3153 - val_accuracy: 0.3681 - lr: 1.0000e-07\n",
            "Epoch 38/50\n",
            "1563/1563 [==============================] - 12s 7ms/step - loss: 0.5527 - accuracy: 0.8045 - val_loss: 2.3177 - val_accuracy: 0.3681 - lr: 1.0000e-07\n",
            "Epoch 39/50\n",
            "1563/1563 [==============================] - 12s 7ms/step - loss: 0.5463 - accuracy: 0.8076 - val_loss: 2.3237 - val_accuracy: 0.3678 - lr: 1.0000e-07\n",
            "Epoch 40/50\n",
            "1563/1563 [==============================] - 12s 7ms/step - loss: 0.5490 - accuracy: 0.8070 - val_loss: 2.3363 - val_accuracy: 0.3654 - lr: 1.0000e-07\n",
            "Epoch 41/50\n",
            "1563/1563 [==============================] - 12s 7ms/step - loss: 0.5472 - accuracy: 0.8069 - val_loss: 2.3135 - val_accuracy: 0.3684 - lr: 1.0000e-07\n",
            "Epoch 42/50\n",
            "1563/1563 [==============================] - 11s 7ms/step - loss: 0.5537 - accuracy: 0.8026 - val_loss: 2.3272 - val_accuracy: 0.3666 - lr: 1.0000e-07\n",
            "Epoch 43/50\n",
            "1563/1563 [==============================] - 12s 7ms/step - loss: 0.5514 - accuracy: 0.8052 - val_loss: 2.3393 - val_accuracy: 0.3662 - lr: 1.0000e-07\n",
            "Epoch 44/50\n",
            "1563/1563 [==============================] - 11s 7ms/step - loss: 0.5473 - accuracy: 0.8069 - val_loss: 2.3211 - val_accuracy: 0.3678 - lr: 1.0000e-07\n",
            "Epoch 45/50\n",
            "1563/1563 [==============================] - 11s 7ms/step - loss: 0.5534 - accuracy: 0.8055 - val_loss: 2.3254 - val_accuracy: 0.3674 - lr: 1.0000e-07\n",
            "Epoch 46/50\n",
            "1563/1563 [==============================] - 11s 7ms/step - loss: 0.5493 - accuracy: 0.8047 - val_loss: 2.3253 - val_accuracy: 0.3672 - lr: 1.0000e-07\n",
            "Epoch 47/50\n",
            "1563/1563 [==============================] - 12s 8ms/step - loss: 0.5514 - accuracy: 0.8038 - val_loss: 2.3274 - val_accuracy: 0.3672 - lr: 1.0000e-07\n",
            "Epoch 48/50\n",
            "1563/1563 [==============================] - 12s 8ms/step - loss: 0.5536 - accuracy: 0.8040 - val_loss: 2.3266 - val_accuracy: 0.3671 - lr: 1.0000e-07\n",
            "Epoch 49/50\n",
            "1563/1563 [==============================] - 11s 7ms/step - loss: 0.5481 - accuracy: 0.8053 - val_loss: 2.2833 - val_accuracy: 0.3700 - lr: 1.0000e-07\n",
            "Epoch 50/50\n",
            "1563/1563 [==============================] - 11s 7ms/step - loss: 0.5473 - accuracy: 0.8057 - val_loss: 2.3361 - val_accuracy: 0.3665 - lr: 1.0000e-07\n"
          ]
        }
      ]
    },
    {
      "cell_type": "code",
      "source": [
        "plt.plot(history.history['accuracy'])\n",
        "plt.plot(history.history['val_accuracy'])\n",
        "plt.legend(['Train','Validation'],loc='upper left')\n",
        "plt.show()"
      ],
      "metadata": {
        "id": "c3eotPFTIcw4",
        "colab": {
          "base_uri": "https://localhost:8080/",
          "height": 430
        },
        "outputId": "a2ec5c93-5207-4aee-9f17-d06e6b7dc5cc"
      },
      "execution_count": 27,
      "outputs": [
        {
          "output_type": "display_data",
          "data": {
            "text/plain": [
              "<Figure size 640x480 with 1 Axes>"
            ],
            "image/png": "[encoded data removed]"
          },
          "metadata": {}
        }
      ]
    },
    {
      "cell_type": "code",
      "source": [
        "model_cnn_aug_n.load_weights('model_CNN_aug_n.keras')\n",
        "model_cnn_aug_n.evaluate(n_test_images,test_labels)"
      ],
      "metadata": {
        "id": "31z4IWLbIczc",
        "colab": {
          "base_uri": "https://localhost:8080/"
        },
        "outputId": "bb40269a-ff16-468d-ee31-63f42f75bb0b"
      },
      "execution_count": 28,
      "outputs": [
        {
          "output_type": "stream",
          "name": "stdout",
          "text": [
            "313/313 [==============================] - 1s 3ms/step - loss: 2.2344 - accuracy: 0.3731\n"
          ]
        },
        {
          "output_type": "execute_result",
          "data": {
            "text/plain": [
              "[2.23439884185791, 0.37310001254081726]"
            ]
          },
          "metadata": {},
          "execution_count": 28
        }
      ]
    },
    {
      "cell_type": "code",
      "source": [],
      "metadata": {
        "id": "ICeecoCUIdGZ"
      },
      "execution_count": 28,
      "outputs": []
    },
    {
      "cell_type": "code",
      "source": [],
      "metadata": {
        "id": "Mee7NkhlIdI3"
      },
      "execution_count": 28,
      "outputs": []
    },
    {
      "cell_type": "code",
      "source": [],
      "metadata": {
        "id": "qfied796IdMZ"
      },
      "execution_count": 28,
      "outputs": []
    }
  ]
}