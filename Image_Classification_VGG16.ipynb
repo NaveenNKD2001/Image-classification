{
  "nbformat": 4,
  "nbformat_minor": 0,
  "metadata": {
    "colab": {
      "provenance": [],
      "gpuType": "T4",
      "include_colab_link": true
    },
    "kernelspec": {
      "name": "python3",
      "display_name": "Python 3"
    },
    "language_info": {
      "name": "python"
    },
    "accelerator": "GPU"
  },
  "cells": [
    {
      "cell_type": "markdown",
      "metadata": {
        "id": "view-in-github",
        "colab_type": "text"
      },
      "source": [
        "<a href=\"https://colab.research.google.com/github/NaveenNKD2001/Image-classification/blob/main/Image_Classification_VGG16.ipynb\" target=\"_parent\"><img src=\"https://colab.research.google.com/assets/colab-badge.svg\" alt=\"Open In Colab\"/></a>"
      ]
    },
    {
      "cell_type": "code",
      "execution_count": 1,
      "metadata": {
        "id": "hXQN0iKoHdqL"
      },
      "outputs": [],
      "source": [
        "import tensorflow as tf\n",
        "import numpy as np\n",
        "from matplotlib import pyplot as plt\n",
        "from sklearn.metrics import accuracy_score,precision_score,recall_score"
      ]
    },
    {
      "cell_type": "code",
      "source": [
        "(train_images,train_labels),(test_images,test_labels)=tf.keras.datasets.cifar10.load_data()"
      ],
      "metadata": {
        "id": "7rRYWAmNmRaE"
      },
      "execution_count": 2,
      "outputs": []
    },
    {
      "cell_type": "code",
      "source": [
        "train_images.shape"
      ],
      "metadata": {
        "id": "dQ-8TZoZmRcM",
        "colab": {
          "base_uri": "https://localhost:8080/"
        },
        "outputId": "034c4baa-7add-4bd2-a96e-0ac838c94b0b"
      },
      "execution_count": 3,
      "outputs": [
        {
          "output_type": "execute_result",
          "data": {
            "text/plain": [
              "(50000, 32, 32, 3)"
            ]
          },
          "metadata": {},
          "execution_count": 3
        }
      ]
    },
    {
      "cell_type": "code",
      "source": [
        "test_images.shape"
      ],
      "metadata": {
        "id": "T4zPD31cmRej",
        "colab": {
          "base_uri": "https://localhost:8080/"
        },
        "outputId": "0a078ce7-9dcb-423f-b89e-786a35b74797"
      },
      "execution_count": 4,
      "outputs": [
        {
          "output_type": "execute_result",
          "data": {
            "text/plain": [
              "(10000, 32, 32, 3)"
            ]
          },
          "metadata": {},
          "execution_count": 4
        }
      ]
    },
    {
      "cell_type": "code",
      "source": [
        "def augmentation(batch_images):\n",
        "  batch_images=tf.image.random_flip_left_right(batch_images)\n",
        "  batch_images=tf.image.rot90(batch_images,k=tf.random.uniform(shape=[],minval=0,maxval=4,dtype=tf.int32))\n",
        "\n",
        "  return batch_images.numpy()"
      ],
      "metadata": {
        "id": "-fnVSZTemRg5"
      },
      "execution_count": 5,
      "outputs": []
    },
    {
      "cell_type": "code",
      "source": [
        "n_train_images=train_images/255.0\n",
        "augmented_train_images=augmentation(train_images)\n",
        "n_augmented_train_images=augmented_train_images/255.0\n",
        "n_test_images=test_images/255.0"
      ],
      "metadata": {
        "id": "UkK3TMpumRjA"
      },
      "execution_count": 6,
      "outputs": []
    },
    {
      "cell_type": "code",
      "source": [
        "def vgg16_model_creation():\n",
        "  vgg16=tf.keras.applications.VGG16(weights='imagenet',input_shape=(32,32,3),include_top=False)\n",
        "  model=tf.keras.Sequential()\n",
        "  model.add(vgg16)\n",
        "  model.add(tf.keras.layers.Flatten())\n",
        "\n",
        "  model.add(tf.keras.layers.Dense(256,activation='relu'))\n",
        "  model.add(tf.keras.layers.Dropout(0.5))\n",
        "  model.add(tf.keras.layers.Dense(128,activation='relu'))\n",
        "  model.add(tf.keras.layers.Dense(64,activation='relu'))\n",
        "  model.add(tf.keras.layers.Dense(10,'softmax'))\n",
        "\n",
        "  model.compile(optimizer='adam',loss='sparse_categorical_crossentropy',metrics=['accuracy'])\n",
        "\n",
        "  return model\n"
      ],
      "metadata": {
        "id": "27tYpMiLmRlX"
      },
      "execution_count": 7,
      "outputs": []
    },
    {
      "cell_type": "code",
      "source": [
        "reduce_lr=tf.keras.callbacks.ReduceLROnPlateau(monitor='val_loss',factor=0.1,patience=3,min_lr=0.0000001)"
      ],
      "metadata": {
        "id": "LNTehQ0gmRnl"
      },
      "execution_count": 8,
      "outputs": []
    },
    {
      "cell_type": "markdown",
      "source": [
        "#Without Augmentation and Without Noramlized Input and Output"
      ],
      "metadata": {
        "id": "Chby1JyVrLO5"
      }
    },
    {
      "cell_type": "code",
      "source": [
        "checkpoint=tf.keras.callbacks.ModelCheckpoint('vgg16.keras',mode='max',monitor='val_accuracy',save_best_only=True)"
      ],
      "metadata": {
        "id": "-aQ57evFmRp7"
      },
      "execution_count": 9,
      "outputs": []
    },
    {
      "cell_type": "code",
      "source": [
        "vgg16_model=vgg16_model_creation()\n",
        "history=vgg16_model.fit(train_images,train_labels,validation_data=(test_images,test_labels),epochs=50,callbacks=[checkpoint,reduce_lr])"
      ],
      "metadata": {
        "id": "0fziABmZmRsU",
        "colab": {
          "base_uri": "https://localhost:8080/"
        },
        "outputId": "b776f935-8a39-4c3b-b3cf-47c833f574f3"
      },
      "execution_count": 10,
      "outputs": [
        {
          "output_type": "stream",
          "name": "stdout",
          "text": [
            "Epoch 1/50\n",
            "1563/1563 [==============================] - 71s 34ms/step - loss: 2.0294 - accuracy: 0.1904 - val_loss: 1.8818 - val_accuracy: 0.2137 - lr: 0.0010\n",
            "Epoch 2/50\n",
            "1563/1563 [==============================] - 52s 33ms/step - loss: 1.6929 - accuracy: 0.3233 - val_loss: 1.5097 - val_accuracy: 0.4052 - lr: 0.0010\n",
            "Epoch 3/50\n",
            "1563/1563 [==============================] - 48s 31ms/step - loss: 1.3774 - accuracy: 0.4679 - val_loss: 1.2261 - val_accuracy: 0.5408 - lr: 0.0010\n",
            "Epoch 4/50\n",
            "1563/1563 [==============================] - 53s 34ms/step - loss: 1.1722 - accuracy: 0.5767 - val_loss: 1.1010 - val_accuracy: 0.6117 - lr: 0.0010\n",
            "Epoch 5/50\n",
            "1563/1563 [==============================] - 51s 33ms/step - loss: 1.0509 - accuracy: 0.6333 - val_loss: 0.9938 - val_accuracy: 0.6488 - lr: 0.0010\n",
            "Epoch 6/50\n",
            "1563/1563 [==============================] - 52s 34ms/step - loss: 0.9708 - accuracy: 0.6658 - val_loss: 0.9332 - val_accuracy: 0.6719 - lr: 0.0010\n",
            "Epoch 7/50\n",
            "1563/1563 [==============================] - 48s 31ms/step - loss: 0.8856 - accuracy: 0.6991 - val_loss: 0.9173 - val_accuracy: 0.6976 - lr: 0.0010\n",
            "Epoch 8/50\n",
            "1563/1563 [==============================] - 53s 34ms/step - loss: 0.8181 - accuracy: 0.7260 - val_loss: 0.8605 - val_accuracy: 0.7174 - lr: 0.0010\n",
            "Epoch 9/50\n",
            "1563/1563 [==============================] - 48s 30ms/step - loss: 0.8674 - accuracy: 0.7126 - val_loss: 0.8934 - val_accuracy: 0.7080 - lr: 0.0010\n",
            "Epoch 10/50\n",
            "1563/1563 [==============================] - 52s 33ms/step - loss: 0.7672 - accuracy: 0.7444 - val_loss: 0.8274 - val_accuracy: 0.7287 - lr: 0.0010\n",
            "Epoch 11/50\n",
            "1563/1563 [==============================] - 50s 32ms/step - loss: 0.7098 - accuracy: 0.7662 - val_loss: 0.9142 - val_accuracy: 0.7300 - lr: 0.0010\n",
            "Epoch 12/50\n",
            "1563/1563 [==============================] - 49s 32ms/step - loss: 0.7327 - accuracy: 0.7636 - val_loss: 0.8596 - val_accuracy: 0.7548 - lr: 0.0010\n",
            "Epoch 13/50\n",
            "1563/1563 [==============================] - 48s 30ms/step - loss: 0.6213 - accuracy: 0.7988 - val_loss: 0.8789 - val_accuracy: 0.7198 - lr: 0.0010\n",
            "Epoch 14/50\n",
            "1563/1563 [==============================] - 53s 34ms/step - loss: 0.4596 - accuracy: 0.8596 - val_loss: 0.7003 - val_accuracy: 0.7883 - lr: 1.0000e-04\n",
            "Epoch 15/50\n",
            "1563/1563 [==============================] - 51s 33ms/step - loss: 0.3585 - accuracy: 0.8813 - val_loss: 0.7017 - val_accuracy: 0.7967 - lr: 1.0000e-04\n",
            "Epoch 16/50\n",
            "1563/1563 [==============================] - 47s 30ms/step - loss: 0.3127 - accuracy: 0.8983 - val_loss: 0.7461 - val_accuracy: 0.7966 - lr: 1.0000e-04\n",
            "Epoch 17/50\n",
            "1563/1563 [==============================] - 47s 30ms/step - loss: 0.2728 - accuracy: 0.9123 - val_loss: 0.7840 - val_accuracy: 0.7956 - lr: 1.0000e-04\n",
            "Epoch 18/50\n",
            "1563/1563 [==============================] - 53s 34ms/step - loss: 0.2295 - accuracy: 0.9277 - val_loss: 0.8329 - val_accuracy: 0.7998 - lr: 1.0000e-05\n",
            "Epoch 19/50\n",
            "1563/1563 [==============================] - 47s 30ms/step - loss: 0.2194 - accuracy: 0.9317 - val_loss: 0.8671 - val_accuracy: 0.7997 - lr: 1.0000e-05\n",
            "Epoch 20/50\n",
            "1563/1563 [==============================] - 53s 34ms/step - loss: 0.2115 - accuracy: 0.9334 - val_loss: 0.8925 - val_accuracy: 0.7999 - lr: 1.0000e-05\n",
            "Epoch 21/50\n",
            "1563/1563 [==============================] - 52s 33ms/step - loss: 0.2040 - accuracy: 0.9359 - val_loss: 0.8971 - val_accuracy: 0.8001 - lr: 1.0000e-06\n",
            "Epoch 22/50\n",
            "1563/1563 [==============================] - 53s 34ms/step - loss: 0.2024 - accuracy: 0.9374 - val_loss: 0.8997 - val_accuracy: 0.8006 - lr: 1.0000e-06\n",
            "Epoch 23/50\n",
            "1563/1563 [==============================] - 48s 31ms/step - loss: 0.2016 - accuracy: 0.9372 - val_loss: 0.9039 - val_accuracy: 0.7998 - lr: 1.0000e-06\n",
            "Epoch 24/50\n",
            "1563/1563 [==============================] - 48s 30ms/step - loss: 0.2015 - accuracy: 0.9376 - val_loss: 0.9043 - val_accuracy: 0.7998 - lr: 1.0000e-07\n",
            "Epoch 25/50\n",
            "1563/1563 [==============================] - 48s 30ms/step - loss: 0.2007 - accuracy: 0.9379 - val_loss: 0.9046 - val_accuracy: 0.8000 - lr: 1.0000e-07\n",
            "Epoch 26/50\n",
            "1563/1563 [==============================] - 48s 30ms/step - loss: 0.2009 - accuracy: 0.9374 - val_loss: 0.9049 - val_accuracy: 0.7998 - lr: 1.0000e-07\n",
            "Epoch 27/50\n",
            "1563/1563 [==============================] - 47s 30ms/step - loss: 0.2011 - accuracy: 0.9372 - val_loss: 0.9052 - val_accuracy: 0.7999 - lr: 1.0000e-07\n",
            "Epoch 28/50\n",
            "1563/1563 [==============================] - 47s 30ms/step - loss: 0.2012 - accuracy: 0.9382 - val_loss: 0.9056 - val_accuracy: 0.8000 - lr: 1.0000e-07\n",
            "Epoch 29/50\n",
            "1563/1563 [==============================] - 48s 30ms/step - loss: 0.2014 - accuracy: 0.9376 - val_loss: 0.9061 - val_accuracy: 0.8001 - lr: 1.0000e-07\n",
            "Epoch 30/50\n",
            "1563/1563 [==============================] - 47s 30ms/step - loss: 0.2001 - accuracy: 0.9375 - val_loss: 0.9065 - val_accuracy: 0.8001 - lr: 1.0000e-07\n",
            "Epoch 31/50\n",
            "1563/1563 [==============================] - 48s 30ms/step - loss: 0.2014 - accuracy: 0.9373 - val_loss: 0.9068 - val_accuracy: 0.7999 - lr: 1.0000e-07\n",
            "Epoch 32/50\n",
            "1563/1563 [==============================] - 48s 30ms/step - loss: 0.2007 - accuracy: 0.9377 - val_loss: 0.9072 - val_accuracy: 0.8000 - lr: 1.0000e-07\n",
            "Epoch 33/50\n",
            "1563/1563 [==============================] - 47s 30ms/step - loss: 0.2005 - accuracy: 0.9377 - val_loss: 0.9077 - val_accuracy: 0.8002 - lr: 1.0000e-07\n",
            "Epoch 34/50\n",
            "1563/1563 [==============================] - 47s 30ms/step - loss: 0.2001 - accuracy: 0.9378 - val_loss: 0.9082 - val_accuracy: 0.8001 - lr: 1.0000e-07\n",
            "Epoch 35/50\n",
            "1563/1563 [==============================] - 48s 30ms/step - loss: 0.2001 - accuracy: 0.9383 - val_loss: 0.9084 - val_accuracy: 0.8001 - lr: 1.0000e-07\n",
            "Epoch 36/50\n",
            "1563/1563 [==============================] - 47s 30ms/step - loss: 0.2001 - accuracy: 0.9383 - val_loss: 0.9089 - val_accuracy: 0.8002 - lr: 1.0000e-07\n",
            "Epoch 37/50\n",
            "1563/1563 [==============================] - 48s 30ms/step - loss: 0.2004 - accuracy: 0.9383 - val_loss: 0.9093 - val_accuracy: 0.8003 - lr: 1.0000e-07\n",
            "Epoch 38/50\n",
            "1563/1563 [==============================] - 47s 30ms/step - loss: 0.2000 - accuracy: 0.9382 - val_loss: 0.9097 - val_accuracy: 0.8003 - lr: 1.0000e-07\n",
            "Epoch 39/50\n",
            "1563/1563 [==============================] - 47s 30ms/step - loss: 0.1995 - accuracy: 0.9380 - val_loss: 0.9101 - val_accuracy: 0.8004 - lr: 1.0000e-07\n",
            "Epoch 40/50\n",
            "1563/1563 [==============================] - 47s 30ms/step - loss: 0.2004 - accuracy: 0.9376 - val_loss: 0.9104 - val_accuracy: 0.8003 - lr: 1.0000e-07\n",
            "Epoch 41/50\n",
            "1563/1563 [==============================] - 48s 30ms/step - loss: 0.1993 - accuracy: 0.9384 - val_loss: 0.9108 - val_accuracy: 0.8004 - lr: 1.0000e-07\n",
            "Epoch 42/50\n",
            "1563/1563 [==============================] - 48s 30ms/step - loss: 0.2005 - accuracy: 0.9381 - val_loss: 0.9112 - val_accuracy: 0.8004 - lr: 1.0000e-07\n",
            "Epoch 43/50\n",
            "1563/1563 [==============================] - 47s 30ms/step - loss: 0.1997 - accuracy: 0.9384 - val_loss: 0.9116 - val_accuracy: 0.8003 - lr: 1.0000e-07\n",
            "Epoch 44/50\n",
            "1563/1563 [==============================] - 48s 30ms/step - loss: 0.1993 - accuracy: 0.9378 - val_loss: 0.9121 - val_accuracy: 0.8003 - lr: 1.0000e-07\n",
            "Epoch 45/50\n",
            "1563/1563 [==============================] - 47s 30ms/step - loss: 0.2005 - accuracy: 0.9380 - val_loss: 0.9123 - val_accuracy: 0.8002 - lr: 1.0000e-07\n",
            "Epoch 46/50\n",
            "1563/1563 [==============================] - 48s 31ms/step - loss: 0.1999 - accuracy: 0.9381 - val_loss: 0.9127 - val_accuracy: 0.8002 - lr: 1.0000e-07\n",
            "Epoch 47/50\n",
            "1563/1563 [==============================] - 47s 30ms/step - loss: 0.1997 - accuracy: 0.9380 - val_loss: 0.9131 - val_accuracy: 0.8002 - lr: 1.0000e-07\n",
            "Epoch 48/50\n",
            "1563/1563 [==============================] - 48s 30ms/step - loss: 0.1997 - accuracy: 0.9386 - val_loss: 0.9133 - val_accuracy: 0.8002 - lr: 1.0000e-07\n",
            "Epoch 49/50\n",
            "1563/1563 [==============================] - 47s 30ms/step - loss: 0.1992 - accuracy: 0.9380 - val_loss: 0.9136 - val_accuracy: 0.8000 - lr: 1.0000e-07\n",
            "Epoch 50/50\n",
            "1563/1563 [==============================] - 48s 31ms/step - loss: 0.1987 - accuracy: 0.9381 - val_loss: 0.9139 - val_accuracy: 0.8000 - lr: 1.0000e-07\n"
          ]
        }
      ]
    },
    {
      "cell_type": "code",
      "source": [
        "plt.plot(history.history['accuracy'])\n",
        "plt.plot(history.history['val_accuracy'])\n",
        "plt.legend(['Train','Validation'],loc='upper left')\n",
        "plt.show()"
      ],
      "metadata": {
        "id": "cYRjBubAmRuq",
        "colab": {
          "base_uri": "https://localhost:8080/",
          "height": 430
        },
        "outputId": "fe087364-3757-40a7-c671-8c44f73999fa"
      },
      "execution_count": 11,
      "outputs": [
        {
          "output_type": "display_data",
          "data": {
            "text/plain": [
              "<Figure size 640x480 with 1 Axes>"
            ],
            "image/png": "[encoded data removed]"
          },
          "metadata": {}
        }
      ]
    },
    {
      "cell_type": "code",
      "source": [
        "vgg16_model.load_weights('vgg16.keras')\n",
        "vgg16_model.evaluate(test_images,test_labels)"
      ],
      "metadata": {
        "id": "eA71XaN7mRxG",
        "colab": {
          "base_uri": "https://localhost:8080/"
        },
        "outputId": "2f95272d-950d-4f41-f094-eb62407d2721"
      },
      "execution_count": 13,
      "outputs": [
        {
          "output_type": "stream",
          "name": "stdout",
          "text": [
            "313/313 [==============================] - 3s 11ms/step - loss: 0.8997 - accuracy: 0.8006\n"
          ]
        },
        {
          "output_type": "execute_result",
          "data": {
            "text/plain": [
              "[0.8996652364730835, 0.800599992275238]"
            ]
          },
          "metadata": {},
          "execution_count": 13
        }
      ]
    },
    {
      "cell_type": "code",
      "source": [
        "y_pred=vgg16_model.predict(test_images)\n",
        "y_pred=np.argmax(y_pred,axis=1)"
      ],
      "metadata": {
        "id": "5OX8uIUomRzd",
        "colab": {
          "base_uri": "https://localhost:8080/"
        },
        "outputId": "b0a5f2ab-f4f3-4031-8442-6671b64a60bc"
      },
      "execution_count": 14,
      "outputs": [
        {
          "output_type": "stream",
          "name": "stdout",
          "text": [
            "313/313 [==============================] - 3s 9ms/step\n"
          ]
        }
      ]
    },
    {
      "cell_type": "code",
      "source": [
        "print(accuracy_score(y_pred,test_labels))\n",
        "print(precision_score(y_pred,test_labels,average='weighted'))\n",
        "print(recall_score(y_pred,test_labels,average='weighted'))"
      ],
      "metadata": {
        "id": "qOcrK4NwmR17",
        "colab": {
          "base_uri": "https://localhost:8080/"
        },
        "outputId": "627d723c-7031-47b3-ca40-f587fc69917c"
      },
      "execution_count": 15,
      "outputs": [
        {
          "output_type": "stream",
          "name": "stdout",
          "text": [
            "0.8006\n",
            "0.8002523\n",
            "0.8006\n"
          ]
        }
      ]
    },
    {
      "cell_type": "markdown",
      "source": [
        "#Normalized Input and Output"
      ],
      "metadata": {
        "id": "2r6EglFLrgDc"
      }
    },
    {
      "cell_type": "code",
      "source": [
        "checkpoint=tf.keras.callbacks.ModelCheckpoint('vgg16_n.keras',mode='max',monitor='val_accuracy',save_best_only=True)"
      ],
      "metadata": {
        "id": "iLxiNnQSmR4Q"
      },
      "execution_count": 16,
      "outputs": []
    },
    {
      "cell_type": "code",
      "source": [
        "vgg16_model_n=vgg16_model_creation()\n",
        "history=vgg16_model_n.fit(n_train_images,train_labels,validation_data=(n_test_images,test_labels),epochs=50,callbacks=[checkpoint,reduce_lr])"
      ],
      "metadata": {
        "id": "XzhpadjtmR6v",
        "colab": {
          "base_uri": "https://localhost:8080/"
        },
        "outputId": "911af05b-bd4b-42af-e6eb-08d9a8cffcef"
      },
      "execution_count": 17,
      "outputs": [
        {
          "output_type": "stream",
          "name": "stdout",
          "text": [
            "Epoch 1/50\n",
            "1563/1563 [==============================] - 58s 35ms/step - loss: 1.8890 - accuracy: 0.2270 - val_loss: 1.7003 - val_accuracy: 0.3108 - lr: 0.0010\n",
            "Epoch 2/50\n",
            "1563/1563 [==============================] - 52s 33ms/step - loss: 1.6395 - accuracy: 0.3338 - val_loss: 1.5376 - val_accuracy: 0.3682 - lr: 0.0010\n",
            "Epoch 3/50\n",
            "1563/1563 [==============================] - 49s 31ms/step - loss: 1.4833 - accuracy: 0.4158 - val_loss: 1.3167 - val_accuracy: 0.4924 - lr: 0.0010\n",
            "Epoch 4/50\n",
            "1563/1563 [==============================] - 48s 31ms/step - loss: 1.2514 - accuracy: 0.5339 - val_loss: 1.1393 - val_accuracy: 0.5791 - lr: 0.0010\n",
            "Epoch 5/50\n",
            "1563/1563 [==============================] - 52s 33ms/step - loss: 1.1503 - accuracy: 0.5772 - val_loss: 1.0689 - val_accuracy: 0.6015 - lr: 0.0010\n",
            "Epoch 6/50\n",
            "1563/1563 [==============================] - 52s 33ms/step - loss: 1.0830 - accuracy: 0.6014 - val_loss: 1.0053 - val_accuracy: 0.6291 - lr: 0.0010\n",
            "Epoch 7/50\n",
            "1563/1563 [==============================] - 48s 31ms/step - loss: 0.9505 - accuracy: 0.6521 - val_loss: 1.0995 - val_accuracy: 0.5973 - lr: 0.0010\n",
            "Epoch 8/50\n",
            "1563/1563 [==============================] - 53s 34ms/step - loss: 0.9208 - accuracy: 0.6669 - val_loss: 0.9300 - val_accuracy: 0.6744 - lr: 0.0010\n",
            "Epoch 9/50\n",
            "1563/1563 [==============================] - 52s 33ms/step - loss: 0.8743 - accuracy: 0.6912 - val_loss: 0.9422 - val_accuracy: 0.6773 - lr: 0.0010\n",
            "Epoch 10/50\n",
            "1563/1563 [==============================] - 51s 33ms/step - loss: 0.7836 - accuracy: 0.7240 - val_loss: 0.8843 - val_accuracy: 0.7060 - lr: 0.0010\n",
            "Epoch 11/50\n",
            "1563/1563 [==============================] - 54s 35ms/step - loss: 0.6961 - accuracy: 0.7598 - val_loss: 0.8639 - val_accuracy: 0.7115 - lr: 0.0010\n",
            "Epoch 12/50\n",
            "1563/1563 [==============================] - 52s 33ms/step - loss: 0.6878 - accuracy: 0.7642 - val_loss: 0.8393 - val_accuracy: 0.7181 - lr: 0.0010\n",
            "Epoch 13/50\n",
            "1563/1563 [==============================] - 48s 31ms/step - loss: 0.6636 - accuracy: 0.7734 - val_loss: 0.8620 - val_accuracy: 0.7072 - lr: 0.0010\n",
            "Epoch 14/50\n",
            "1563/1563 [==============================] - 53s 34ms/step - loss: 0.6340 - accuracy: 0.7841 - val_loss: 0.8726 - val_accuracy: 0.7404 - lr: 0.0010\n",
            "Epoch 15/50\n",
            "1563/1563 [==============================] - 52s 33ms/step - loss: 0.5268 - accuracy: 0.8231 - val_loss: 0.8112 - val_accuracy: 0.7420 - lr: 0.0010\n",
            "Epoch 16/50\n",
            "1563/1563 [==============================] - 47s 30ms/step - loss: 0.5231 - accuracy: 0.8254 - val_loss: 0.9071 - val_accuracy: 0.7019 - lr: 0.0010\n",
            "Epoch 17/50\n",
            "1563/1563 [==============================] - 53s 34ms/step - loss: 0.4831 - accuracy: 0.8409 - val_loss: 0.8272 - val_accuracy: 0.7583 - lr: 0.0010\n",
            "Epoch 18/50\n",
            "1563/1563 [==============================] - 53s 34ms/step - loss: 0.4859 - accuracy: 0.8391 - val_loss: 0.7739 - val_accuracy: 0.7649 - lr: 0.0010\n",
            "Epoch 19/50\n",
            "1563/1563 [==============================] - 48s 30ms/step - loss: 0.4524 - accuracy: 0.8514 - val_loss: 1.8550 - val_accuracy: 0.7366 - lr: 0.0010\n",
            "Epoch 20/50\n",
            "1563/1563 [==============================] - 47s 30ms/step - loss: 0.6459 - accuracy: 0.7821 - val_loss: 0.8009 - val_accuracy: 0.7601 - lr: 0.0010\n",
            "Epoch 21/50\n",
            "1563/1563 [==============================] - 48s 30ms/step - loss: 0.3978 - accuracy: 0.8690 - val_loss: 0.8458 - val_accuracy: 0.7570 - lr: 0.0010\n",
            "Epoch 22/50\n",
            "1563/1563 [==============================] - 54s 34ms/step - loss: 0.2354 - accuracy: 0.9258 - val_loss: 0.8061 - val_accuracy: 0.7919 - lr: 1.0000e-04\n",
            "Epoch 23/50\n",
            "1563/1563 [==============================] - 48s 30ms/step - loss: 0.1812 - accuracy: 0.9417 - val_loss: 0.8496 - val_accuracy: 0.7894 - lr: 1.0000e-04\n",
            "Epoch 24/50\n",
            "1563/1563 [==============================] - 47s 30ms/step - loss: 0.1491 - accuracy: 0.9529 - val_loss: 0.9096 - val_accuracy: 0.7919 - lr: 1.0000e-04\n",
            "Epoch 25/50\n",
            "1563/1563 [==============================] - 53s 34ms/step - loss: 0.1169 - accuracy: 0.9645 - val_loss: 0.9567 - val_accuracy: 0.7939 - lr: 1.0000e-05\n",
            "Epoch 26/50\n",
            "1563/1563 [==============================] - 48s 31ms/step - loss: 0.1112 - accuracy: 0.9670 - val_loss: 0.9840 - val_accuracy: 0.7931 - lr: 1.0000e-05\n",
            "Epoch 27/50\n",
            "1563/1563 [==============================] - 48s 31ms/step - loss: 0.1059 - accuracy: 0.9684 - val_loss: 1.0091 - val_accuracy: 0.7934 - lr: 1.0000e-05\n",
            "Epoch 28/50\n",
            "1563/1563 [==============================] - 48s 31ms/step - loss: 0.1011 - accuracy: 0.9702 - val_loss: 1.0122 - val_accuracy: 0.7927 - lr: 1.0000e-06\n",
            "Epoch 29/50\n",
            "1563/1563 [==============================] - 48s 31ms/step - loss: 0.1009 - accuracy: 0.9701 - val_loss: 1.0157 - val_accuracy: 0.7933 - lr: 1.0000e-06\n",
            "Epoch 30/50\n",
            "1563/1563 [==============================] - 48s 31ms/step - loss: 0.1003 - accuracy: 0.9702 - val_loss: 1.0189 - val_accuracy: 0.7933 - lr: 1.0000e-06\n",
            "Epoch 31/50\n",
            "1563/1563 [==============================] - 48s 31ms/step - loss: 0.0994 - accuracy: 0.9709 - val_loss: 1.0193 - val_accuracy: 0.7935 - lr: 1.0000e-07\n",
            "Epoch 32/50\n",
            "1563/1563 [==============================] - 48s 31ms/step - loss: 0.0993 - accuracy: 0.9707 - val_loss: 1.0196 - val_accuracy: 0.7934 - lr: 1.0000e-07\n",
            "Epoch 33/50\n",
            "1563/1563 [==============================] - 48s 31ms/step - loss: 0.0995 - accuracy: 0.9704 - val_loss: 1.0199 - val_accuracy: 0.7937 - lr: 1.0000e-07\n",
            "Epoch 34/50\n",
            "1563/1563 [==============================] - 48s 30ms/step - loss: 0.0987 - accuracy: 0.9708 - val_loss: 1.0204 - val_accuracy: 0.7937 - lr: 1.0000e-07\n",
            "Epoch 35/50\n",
            "1563/1563 [==============================] - 48s 30ms/step - loss: 0.0986 - accuracy: 0.9706 - val_loss: 1.0208 - val_accuracy: 0.7939 - lr: 1.0000e-07\n",
            "Epoch 36/50\n",
            "1563/1563 [==============================] - 48s 31ms/step - loss: 0.0992 - accuracy: 0.9708 - val_loss: 1.0210 - val_accuracy: 0.7937 - lr: 1.0000e-07\n",
            "Epoch 37/50\n",
            "1563/1563 [==============================] - 48s 31ms/step - loss: 0.0998 - accuracy: 0.9707 - val_loss: 1.0213 - val_accuracy: 0.7938 - lr: 1.0000e-07\n",
            "Epoch 38/50\n",
            "1563/1563 [==============================] - 48s 30ms/step - loss: 0.0990 - accuracy: 0.9706 - val_loss: 1.0216 - val_accuracy: 0.7937 - lr: 1.0000e-07\n",
            "Epoch 39/50\n",
            "1563/1563 [==============================] - 48s 30ms/step - loss: 0.0988 - accuracy: 0.9709 - val_loss: 1.0220 - val_accuracy: 0.7937 - lr: 1.0000e-07\n",
            "Epoch 40/50\n",
            "1563/1563 [==============================] - 48s 31ms/step - loss: 0.0991 - accuracy: 0.9713 - val_loss: 1.0224 - val_accuracy: 0.7937 - lr: 1.0000e-07\n",
            "Epoch 41/50\n",
            "1563/1563 [==============================] - 48s 31ms/step - loss: 0.0988 - accuracy: 0.9707 - val_loss: 1.0228 - val_accuracy: 0.7937 - lr: 1.0000e-07\n",
            "Epoch 42/50\n",
            "1563/1563 [==============================] - 48s 31ms/step - loss: 0.0987 - accuracy: 0.9708 - val_loss: 1.0231 - val_accuracy: 0.7937 - lr: 1.0000e-07\n",
            "Epoch 43/50\n",
            "1563/1563 [==============================] - 48s 31ms/step - loss: 0.0995 - accuracy: 0.9710 - val_loss: 1.0235 - val_accuracy: 0.7938 - lr: 1.0000e-07\n",
            "Epoch 44/50\n",
            "1563/1563 [==============================] - 48s 31ms/step - loss: 0.0985 - accuracy: 0.9707 - val_loss: 1.0238 - val_accuracy: 0.7938 - lr: 1.0000e-07\n",
            "Epoch 45/50\n",
            "1563/1563 [==============================] - 48s 31ms/step - loss: 0.0988 - accuracy: 0.9705 - val_loss: 1.0242 - val_accuracy: 0.7936 - lr: 1.0000e-07\n",
            "Epoch 46/50\n",
            "1563/1563 [==============================] - 48s 31ms/step - loss: 0.0993 - accuracy: 0.9709 - val_loss: 1.0245 - val_accuracy: 0.7937 - lr: 1.0000e-07\n",
            "Epoch 47/50\n",
            "1563/1563 [==============================] - 48s 31ms/step - loss: 0.0993 - accuracy: 0.9708 - val_loss: 1.0248 - val_accuracy: 0.7937 - lr: 1.0000e-07\n",
            "Epoch 48/50\n",
            "1563/1563 [==============================] - 48s 31ms/step - loss: 0.0986 - accuracy: 0.9711 - val_loss: 1.0252 - val_accuracy: 0.7937 - lr: 1.0000e-07\n",
            "Epoch 49/50\n",
            "1563/1563 [==============================] - 48s 31ms/step - loss: 0.0992 - accuracy: 0.9705 - val_loss: 1.0255 - val_accuracy: 0.7936 - lr: 1.0000e-07\n",
            "Epoch 50/50\n",
            "1563/1563 [==============================] - 48s 31ms/step - loss: 0.0988 - accuracy: 0.9709 - val_loss: 1.0257 - val_accuracy: 0.7937 - lr: 1.0000e-07\n"
          ]
        }
      ]
    },
    {
      "cell_type": "code",
      "source": [
        "plt.plot(history.history['accuracy'])\n",
        "plt.plot(history.history['val_accuracy'])\n",
        "plt.legend(['Train','Validation'],loc='upper left')\n",
        "plt.show()"
      ],
      "metadata": {
        "id": "4dEAVqR7mR9F",
        "colab": {
          "base_uri": "https://localhost:8080/",
          "height": 431
        },
        "outputId": "958fe40a-e43c-4047-bd0c-a98af888cda9"
      },
      "execution_count": 18,
      "outputs": [
        {
          "output_type": "display_data",
          "data": {
            "text/plain": [
              "<Figure size 640x480 with 1 Axes>"
            ],
            "image/png": "[encoded data removed]"
          },
          "metadata": {}
        }
      ]
    },
    {
      "cell_type": "code",
      "source": [
        "vgg16_model_n.load_weights('vgg16_n.keras')\n",
        "vgg16_model_n.evaluate(n_test_images,test_labels)"
      ],
      "metadata": {
        "id": "2y_IfmrTmR_d",
        "colab": {
          "base_uri": "https://localhost:8080/"
        },
        "outputId": "d62030bd-6643-4be8-86b6-97408754bcb0"
      },
      "execution_count": 19,
      "outputs": [
        {
          "output_type": "stream",
          "name": "stdout",
          "text": [
            "313/313 [==============================] - 3s 8ms/step - loss: 0.9567 - accuracy: 0.7939\n"
          ]
        },
        {
          "output_type": "execute_result",
          "data": {
            "text/plain": [
              "[0.9567089080810547, 0.7939000129699707]"
            ]
          },
          "metadata": {},
          "execution_count": 19
        }
      ]
    },
    {
      "cell_type": "code",
      "source": [
        "y_pred=vgg16_model_n.predict(n_test_images)\n",
        "y_pred=np.argmax(y_pred,axis=1)"
      ],
      "metadata": {
        "id": "2NQx3E-smSCA",
        "colab": {
          "base_uri": "https://localhost:8080/"
        },
        "outputId": "0c356e18-c3bb-4361-f389-4b7d47a8b4e5"
      },
      "execution_count": 20,
      "outputs": [
        {
          "output_type": "stream",
          "name": "stdout",
          "text": [
            "313/313 [==============================] - 2s 7ms/step\n"
          ]
        }
      ]
    },
    {
      "cell_type": "code",
      "source": [
        "print(accuracy_score(y_pred,test_labels))\n",
        "print(precision_score(y_pred,test_labels,average='weighted'))\n",
        "print(recall_score(y_pred,test_labels,average='weighted'))"
      ],
      "metadata": {
        "id": "f9NJXI9TmSEX",
        "colab": {
          "base_uri": "https://localhost:8080/"
        },
        "outputId": "428400f8-0f4e-41d0-f3b7-422287b75df0"
      },
      "execution_count": 21,
      "outputs": [
        {
          "output_type": "stream",
          "name": "stdout",
          "text": [
            "0.7939\n",
            "0.7925113000000001\n",
            "0.7939\n"
          ]
        }
      ]
    },
    {
      "cell_type": "code",
      "source": [],
      "metadata": {
        "id": "FXuA560_mSlb"
      },
      "execution_count": null,
      "outputs": []
    }
  ]
}