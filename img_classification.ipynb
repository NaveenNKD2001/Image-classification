{
 "cells": [
  {
   "cell_type": "code",
   "execution_count": 2,
   "id": "8de6c956",
   "metadata": {},
   "outputs": [
    {
     "name": "stdout",
     "output_type": "stream",
     "text": [
      "WARNING:tensorflow:From C:\\Users\\navee\\anaconda3\\Lib\\site-packages\\keras\\src\\losses.py:2976: The name tf.losses.sparse_softmax_cross_entropy is deprecated. Please use tf.compat.v1.losses.sparse_softmax_cross_entropy instead.\n",
      "\n"
     ]
    }
   ],
   "source": [
    "import tensorflow as tf"
   ]
  },
  {
   "cell_type": "code",
   "execution_count": 3,
   "id": "27b5cf62",
   "metadata": {},
   "outputs": [],
   "source": [
    "(train_images,train_labels),(test_images,test_labels)=tf.keras.datasets.cifar10.load_data()"
   ]
  },
  {
   "cell_type": "code",
   "execution_count": 4,
   "id": "cb486340",
   "metadata": {},
   "outputs": [],
   "source": [
    "train_labels=tf.keras.utils.to_categorical(train_labels,num_classes=10)\n",
    "test_labels=tf.keras.utils.to_categorical(test_labels,num_classes=10)"
   ]
  },
  {
   "cell_type": "code",
   "execution_count": 5,
   "id": "44704a07",
   "metadata": {},
   "outputs": [],
   "source": [
    "import numpy as np\n",
    "import pandas as pd"
   ]
  },
  {
   "cell_type": "code",
   "execution_count": 5,
   "id": "107e9d9c",
   "metadata": {},
   "outputs": [
    {
     "data": {
      "text/plain": [
       "(50000, 32, 32, 3)"
      ]
     },
     "execution_count": 5,
     "metadata": {},
     "output_type": "execute_result"
    }
   ],
   "source": [
    "train_images.shape"
   ]
  },
  {
   "cell_type": "code",
   "execution_count": 6,
   "id": "b2d034d3",
   "metadata": {},
   "outputs": [
    {
     "data": {
      "text/plain": [
       "50000"
      ]
     },
     "execution_count": 6,
     "metadata": {},
     "output_type": "execute_result"
    }
   ],
   "source": [
    "len(train_images)"
   ]
  },
  {
   "cell_type": "code",
   "execution_count": 7,
   "id": "5fb0debd",
   "metadata": {},
   "outputs": [
    {
     "data": {
      "text/plain": [
       "(32, 32, 3)"
      ]
     },
     "execution_count": 7,
     "metadata": {},
     "output_type": "execute_result"
    }
   ],
   "source": [
    "train_images[0].shape"
   ]
  },
  {
   "cell_type": "code",
   "execution_count": 8,
   "id": "80467c54",
   "metadata": {},
   "outputs": [
    {
     "data": {
      "image/png": "[encoded data removed]",
      "text/plain": [
       "<Figure size 640x480 with 1 Axes>"
      ]
     },
     "metadata": {},
     "output_type": "display_data"
    }
   ],
   "source": [
    "from matplotlib import pyplot as plt\n",
    "plt.imshow(train_images[0].astype('uint8'))\n",
    "plt.show()"
   ]
  },
  {
   "cell_type": "code",
   "execution_count": 6,
   "id": "96a0c33e",
   "metadata": {},
   "outputs": [],
   "source": [
    "from tensorflow.keras.callbacks import ModelCheckpoint"
   ]
  },
  {
   "cell_type": "code",
   "execution_count": 10,
   "id": "b2b61275",
   "metadata": {},
   "outputs": [
    {
     "name": "stdout",
     "output_type": "stream",
     "text": [
      "WARNING:tensorflow:From C:\\Users\\navee\\anaconda3\\Lib\\site-packages\\keras\\src\\backend.py:873: The name tf.get_default_graph is deprecated. Please use tf.compat.v1.get_default_graph instead.\n",
      "\n",
      "WARNING:tensorflow:From C:\\Users\\navee\\anaconda3\\Lib\\site-packages\\keras\\src\\layers\\pooling\\max_pooling2d.py:161: The name tf.nn.max_pool is deprecated. Please use tf.nn.max_pool2d instead.\n",
      "\n",
      "WARNING:tensorflow:From C:\\Users\\navee\\anaconda3\\Lib\\site-packages\\keras\\src\\optimizers\\__init__.py:309: The name tf.train.Optimizer is deprecated. Please use tf.compat.v1.train.Optimizer instead.\n",
      "\n",
      "Epoch 1/100\n",
      "WARNING:tensorflow:From C:\\Users\\navee\\anaconda3\\Lib\\site-packages\\keras\\src\\utils\\tf_utils.py:492: The name tf.ragged.RaggedTensorValue is deprecated. Please use tf.compat.v1.ragged.RaggedTensorValue instead.\n",
      "\n",
      "WARNING:tensorflow:From C:\\Users\\navee\\anaconda3\\Lib\\site-packages\\keras\\src\\engine\\base_layer_utils.py:384: The name tf.executing_eagerly_outside_functions is deprecated. Please use tf.compat.v1.executing_eagerly_outside_functions instead.\n",
      "\n",
      "1563/1563 [==============================] - 145s 90ms/step - loss: 1.7994 - accuracy: 0.3597 - val_loss: 1.4635 - val_accuracy: 0.4703\n",
      "Epoch 2/100\n",
      "1563/1563 [==============================] - 144s 92ms/step - loss: 1.4273 - accuracy: 0.4915 - val_loss: 1.3361 - val_accuracy: 0.5340\n",
      "Epoch 3/100\n",
      "1563/1563 [==============================] - 145s 93ms/step - loss: 1.2895 - accuracy: 0.5469 - val_loss: 1.2190 - val_accuracy: 0.5773\n",
      "Epoch 4/100\n",
      "1563/1563 [==============================] - 142s 91ms/step - loss: 1.1947 - accuracy: 0.5837 - val_loss: 1.1470 - val_accuracy: 0.6268\n",
      "Epoch 5/100\n",
      "1563/1563 [==============================] - 144s 92ms/step - loss: 1.1197 - accuracy: 0.6114 - val_loss: 1.0311 - val_accuracy: 0.6459\n",
      "Epoch 6/100\n",
      "1563/1563 [==============================] - 145s 92ms/step - loss: 1.0680 - accuracy: 0.6315 - val_loss: 0.9834 - val_accuracy: 0.6655\n",
      "Epoch 7/100\n",
      "1563/1563 [==============================] - 141s 90ms/step - loss: 1.0150 - accuracy: 0.6492 - val_loss: 0.9444 - val_accuracy: 0.6770\n",
      "Epoch 8/100\n",
      "1563/1563 [==============================] - 141s 90ms/step - loss: 0.9731 - accuracy: 0.6659 - val_loss: 0.9611 - val_accuracy: 0.6722\n",
      "Epoch 9/100\n",
      "1563/1563 [==============================] - 143s 92ms/step - loss: 0.9430 - accuracy: 0.6774 - val_loss: 0.9273 - val_accuracy: 0.6873\n",
      "Epoch 10/100\n",
      "1563/1563 [==============================] - 122s 78ms/step - loss: 0.9091 - accuracy: 0.6881 - val_loss: 0.9262 - val_accuracy: 0.6901\n",
      "Epoch 11/100\n",
      "1563/1563 [==============================] - 104s 67ms/step - loss: 0.8873 - accuracy: 0.6965 - val_loss: 0.9484 - val_accuracy: 0.6788\n",
      "Epoch 12/100\n",
      "1563/1563 [==============================] - 101s 65ms/step - loss: 0.8554 - accuracy: 0.7091 - val_loss: 0.8482 - val_accuracy: 0.7178\n",
      "Epoch 13/100\n",
      "1563/1563 [==============================] - 91s 58ms/step - loss: 0.8281 - accuracy: 0.7174 - val_loss: 0.8790 - val_accuracy: 0.7062\n",
      "Epoch 14/100\n",
      "1563/1563 [==============================] - 95s 61ms/step - loss: 0.8131 - accuracy: 0.7245 - val_loss: 0.8287 - val_accuracy: 0.7236\n",
      "Epoch 15/100\n",
      "1563/1563 [==============================] - 91s 58ms/step - loss: 0.7932 - accuracy: 0.7286 - val_loss: 0.8770 - val_accuracy: 0.7121\n",
      "Epoch 16/100\n",
      "1563/1563 [==============================] - 79s 51ms/step - loss: 0.7793 - accuracy: 0.7342 - val_loss: 0.8161 - val_accuracy: 0.7356\n",
      "Epoch 17/100\n",
      "1563/1563 [==============================] - 77s 49ms/step - loss: 0.7517 - accuracy: 0.7450 - val_loss: 0.8165 - val_accuracy: 0.7304\n",
      "Epoch 18/100\n",
      "1563/1563 [==============================] - 80s 51ms/step - loss: 0.7383 - accuracy: 0.7494 - val_loss: 0.8246 - val_accuracy: 0.7329\n",
      "Epoch 19/100\n",
      "1563/1563 [==============================] - 77s 49ms/step - loss: 0.7317 - accuracy: 0.7546 - val_loss: 0.8097 - val_accuracy: 0.7288\n",
      "Epoch 20/100\n",
      "1563/1563 [==============================] - 74s 47ms/step - loss: 0.7069 - accuracy: 0.7606 - val_loss: 0.8067 - val_accuracy: 0.7348\n",
      "Epoch 21/100\n",
      "1563/1563 [==============================] - 79s 51ms/step - loss: 0.7047 - accuracy: 0.7612 - val_loss: 0.8155 - val_accuracy: 0.7282\n",
      "Epoch 22/100\n",
      "1563/1563 [==============================] - 76s 48ms/step - loss: 0.6887 - accuracy: 0.7694 - val_loss: 0.7903 - val_accuracy: 0.7429\n",
      "Epoch 23/100\n",
      "1563/1563 [==============================] - 71s 46ms/step - loss: 0.6829 - accuracy: 0.7695 - val_loss: 0.7919 - val_accuracy: 0.7356\n",
      "Epoch 24/100\n",
      "1563/1563 [==============================] - 69s 44ms/step - loss: 0.6690 - accuracy: 0.7743 - val_loss: 0.8109 - val_accuracy: 0.7287\n",
      "Epoch 25/100\n",
      "1563/1563 [==============================] - 66s 42ms/step - loss: 0.6610 - accuracy: 0.7800 - val_loss: 0.8062 - val_accuracy: 0.7355\n",
      "Epoch 26/100\n",
      "1563/1563 [==============================] - 68s 43ms/step - loss: 0.6484 - accuracy: 0.7827 - val_loss: 0.7671 - val_accuracy: 0.7486\n",
      "Epoch 27/100\n",
      "1563/1563 [==============================] - 69s 44ms/step - loss: 0.6435 - accuracy: 0.7851 - val_loss: 0.7823 - val_accuracy: 0.7427\n",
      "Epoch 28/100\n",
      "1563/1563 [==============================] - 67s 43ms/step - loss: 0.6473 - accuracy: 0.7829 - val_loss: 0.7785 - val_accuracy: 0.7461\n",
      "Epoch 29/100\n",
      "1563/1563 [==============================] - 65s 42ms/step - loss: 0.6233 - accuracy: 0.7932 - val_loss: 0.7965 - val_accuracy: 0.7317\n",
      "Epoch 30/100\n",
      "1563/1563 [==============================] - 65s 42ms/step - loss: 0.6262 - accuracy: 0.7929 - val_loss: 0.7400 - val_accuracy: 0.7556\n",
      "Epoch 31/100\n",
      "1563/1563 [==============================] - 65s 41ms/step - loss: 0.6194 - accuracy: 0.7931 - val_loss: 0.7802 - val_accuracy: 0.7424\n",
      "Epoch 32/100\n",
      "1563/1563 [==============================] - 65s 42ms/step - loss: 0.6308 - accuracy: 0.7934 - val_loss: 0.7904 - val_accuracy: 0.7382\n",
      "Epoch 33/100\n",
      "1563/1563 [==============================] - 66s 42ms/step - loss: 0.6002 - accuracy: 0.8003 - val_loss: 0.7787 - val_accuracy: 0.7456\n",
      "Epoch 34/100\n",
      "1563/1563 [==============================] - 66s 42ms/step - loss: 0.5939 - accuracy: 0.8037 - val_loss: 0.7489 - val_accuracy: 0.7533\n",
      "Epoch 35/100\n",
      "1563/1563 [==============================] - 72s 46ms/step - loss: 0.5830 - accuracy: 0.8087 - val_loss: 0.7276 - val_accuracy: 0.7599\n",
      "Epoch 36/100\n",
      "1563/1563 [==============================] - 71s 46ms/step - loss: 0.5948 - accuracy: 0.8052 - val_loss: 0.7706 - val_accuracy: 0.7465\n",
      "Epoch 37/100\n",
      "1563/1563 [==============================] - 68s 44ms/step - loss: 0.6121 - accuracy: 0.8001 - val_loss: 0.7606 - val_accuracy: 0.7525\n",
      "Epoch 38/100\n",
      "1563/1563 [==============================] - 66s 42ms/step - loss: 0.5972 - accuracy: 0.8058 - val_loss: 0.7688 - val_accuracy: 0.7560\n",
      "Epoch 39/100\n",
      "1563/1563 [==============================] - 65s 42ms/step - loss: 0.5676 - accuracy: 0.8135 - val_loss: 0.8007 - val_accuracy: 0.7426\n",
      "Epoch 40/100\n",
      "1563/1563 [==============================] - 65s 42ms/step - loss: 0.6016 - accuracy: 0.8064 - val_loss: 0.7459 - val_accuracy: 0.7599\n",
      "Epoch 41/100\n",
      "1563/1563 [==============================] - 65s 42ms/step - loss: 0.5604 - accuracy: 0.8185 - val_loss: 0.7526 - val_accuracy: 0.7560\n",
      "Epoch 42/100\n",
      "1563/1563 [==============================] - 65s 42ms/step - loss: 0.5602 - accuracy: 0.8160 - val_loss: 0.7355 - val_accuracy: 0.7627\n",
      "Epoch 43/100\n",
      "1563/1563 [==============================] - 65s 42ms/step - loss: 0.5571 - accuracy: 0.8185 - val_loss: 0.7278 - val_accuracy: 0.7702\n",
      "Epoch 44/100\n",
      "1563/1563 [==============================] - 65s 42ms/step - loss: 0.5314 - accuracy: 0.8280 - val_loss: 0.7463 - val_accuracy: 0.7612\n",
      "Epoch 45/100\n",
      "1563/1563 [==============================] - 65s 42ms/step - loss: 0.5645 - accuracy: 0.8195 - val_loss: 0.7275 - val_accuracy: 0.7654\n",
      "Epoch 46/100\n",
      "1563/1563 [==============================] - 65s 42ms/step - loss: 0.6649 - accuracy: 0.7872 - val_loss: 0.7586 - val_accuracy: 0.7601\n",
      "Epoch 47/100\n",
      "1563/1563 [==============================] - 65s 42ms/step - loss: 0.5427 - accuracy: 0.8260 - val_loss: 0.7414 - val_accuracy: 0.7644\n",
      "Epoch 48/100\n",
      "1563/1563 [==============================] - 65s 42ms/step - loss: 0.5254 - accuracy: 0.8311 - val_loss: 0.7474 - val_accuracy: 0.7625\n",
      "Epoch 49/100\n"
     ]
    },
    {
     "name": "stdout",
     "output_type": "stream",
     "text": [
      "1563/1563 [==============================] - 65s 42ms/step - loss: 0.5116 - accuracy: 0.8351 - val_loss: 0.9812 - val_accuracy: 0.6824\n",
      "Epoch 50/100\n",
      "1563/1563 [==============================] - 65s 42ms/step - loss: 0.6033 - accuracy: 0.8098 - val_loss: 0.7152 - val_accuracy: 0.7721\n",
      "Epoch 51/100\n",
      "1563/1563 [==============================] - 65s 42ms/step - loss: 0.5173 - accuracy: 0.8357 - val_loss: 0.7870 - val_accuracy: 0.7468\n",
      "Epoch 52/100\n",
      "1563/1563 [==============================] - 66s 42ms/step - loss: 0.5642 - accuracy: 0.8221 - val_loss: 0.7653 - val_accuracy: 0.7541\n",
      "Epoch 53/100\n",
      "1563/1563 [==============================] - 65s 42ms/step - loss: 0.5180 - accuracy: 0.8366 - val_loss: 0.8077 - val_accuracy: 0.7331\n",
      "Epoch 54/100\n",
      "1563/1563 [==============================] - 65s 41ms/step - loss: 0.5124 - accuracy: 0.8348 - val_loss: 0.7318 - val_accuracy: 0.7655\n",
      "Epoch 55/100\n",
      "1563/1563 [==============================] - 67s 43ms/step - loss: 0.5105 - accuracy: 0.8384 - val_loss: 0.7524 - val_accuracy: 0.7646\n",
      "Epoch 56/100\n",
      "1563/1563 [==============================] - 66s 42ms/step - loss: 0.4919 - accuracy: 0.8446 - val_loss: 0.7839 - val_accuracy: 0.7483\n",
      "Epoch 57/100\n",
      "1563/1563 [==============================] - 65s 42ms/step - loss: 0.5330 - accuracy: 0.8308 - val_loss: 0.7549 - val_accuracy: 0.7652\n",
      "Epoch 58/100\n",
      "1563/1563 [==============================] - 65s 42ms/step - loss: 0.5039 - accuracy: 0.8410 - val_loss: 0.8000 - val_accuracy: 0.7453\n",
      "Epoch 59/100\n",
      "1563/1563 [==============================] - 65s 42ms/step - loss: 0.4908 - accuracy: 0.8467 - val_loss: 0.7701 - val_accuracy: 0.7512\n",
      "Epoch 60/100\n",
      "1563/1563 [==============================] - 65s 42ms/step - loss: 0.5210 - accuracy: 0.8401 - val_loss: 0.7427 - val_accuracy: 0.7622\n",
      "Epoch 61/100\n",
      "1563/1563 [==============================] - 65s 42ms/step - loss: 0.5089 - accuracy: 0.8417 - val_loss: 0.8565 - val_accuracy: 0.7339\n",
      "Epoch 62/100\n",
      "1563/1563 [==============================] - 65s 42ms/step - loss: 0.4802 - accuracy: 0.8492 - val_loss: 0.7714 - val_accuracy: 0.7587\n",
      "Epoch 63/100\n",
      "1563/1563 [==============================] - 65s 42ms/step - loss: 0.5030 - accuracy: 0.8457 - val_loss: 0.8010 - val_accuracy: 0.7547\n",
      "Epoch 64/100\n",
      "1563/1563 [==============================] - 65s 42ms/step - loss: 0.5558 - accuracy: 0.8279 - val_loss: 0.8153 - val_accuracy: 0.7458\n",
      "Epoch 65/100\n",
      "1563/1563 [==============================] - 65s 42ms/step - loss: 0.5100 - accuracy: 0.8412 - val_loss: 0.7720 - val_accuracy: 0.7597\n",
      "Epoch 66/100\n",
      "1563/1563 [==============================] - 65s 42ms/step - loss: 0.4499 - accuracy: 0.8598 - val_loss: 0.7675 - val_accuracy: 0.7626\n",
      "Epoch 67/100\n",
      "1563/1563 [==============================] - 66s 42ms/step - loss: 0.4617 - accuracy: 0.8571 - val_loss: 0.7564 - val_accuracy: 0.7645\n",
      "Epoch 68/100\n",
      "1563/1563 [==============================] - 67s 43ms/step - loss: 0.5033 - accuracy: 0.8454 - val_loss: 0.9114 - val_accuracy: 0.7190\n",
      "Epoch 69/100\n",
      "1563/1563 [==============================] - 66s 42ms/step - loss: 0.6276 - accuracy: 0.8075 - val_loss: 0.8695 - val_accuracy: 0.7186\n",
      "Epoch 70/100\n",
      "1563/1563 [==============================] - 66s 42ms/step - loss: 0.5097 - accuracy: 0.8431 - val_loss: 0.7638 - val_accuracy: 0.7638\n",
      "Epoch 71/100\n",
      "1563/1563 [==============================] - 66s 42ms/step - loss: 0.4905 - accuracy: 0.8489 - val_loss: 0.7787 - val_accuracy: 0.7533\n",
      "Epoch 72/100\n",
      "1563/1563 [==============================] - 66s 42ms/step - loss: 0.4817 - accuracy: 0.8542 - val_loss: 0.7798 - val_accuracy: 0.7575\n",
      "Epoch 73/100\n",
      "1563/1563 [==============================] - 66s 42ms/step - loss: 0.5249 - accuracy: 0.8409 - val_loss: 0.7340 - val_accuracy: 0.7680\n",
      "Epoch 74/100\n",
      "1563/1563 [==============================] - 67s 43ms/step - loss: 0.4610 - accuracy: 0.8590 - val_loss: 0.7922 - val_accuracy: 0.7518\n",
      "Epoch 75/100\n",
      "1563/1563 [==============================] - 66s 42ms/step - loss: 0.4573 - accuracy: 0.8591 - val_loss: 0.7629 - val_accuracy: 0.7650\n",
      "Epoch 76/100\n",
      "1563/1563 [==============================] - 69s 44ms/step - loss: 0.4702 - accuracy: 0.8560 - val_loss: 1.3060 - val_accuracy: 0.5579\n",
      "Epoch 77/100\n",
      "1563/1563 [==============================] - 79s 51ms/step - loss: 0.4955 - accuracy: 0.8464 - val_loss: 0.7566 - val_accuracy: 0.7638\n",
      "Epoch 78/100\n",
      "1563/1563 [==============================] - 83s 53ms/step - loss: 0.4295 - accuracy: 0.8695 - val_loss: 0.7891 - val_accuracy: 0.7555\n",
      "Epoch 79/100\n",
      "1563/1563 [==============================] - 75s 48ms/step - loss: 0.5417 - accuracy: 0.8377 - val_loss: 0.8004 - val_accuracy: 0.7605\n",
      "Epoch 80/100\n",
      "1563/1563 [==============================] - 74s 47ms/step - loss: 0.4903 - accuracy: 0.8512 - val_loss: 0.7664 - val_accuracy: 0.7619\n",
      "Epoch 81/100\n",
      "1563/1563 [==============================] - 76s 49ms/step - loss: 0.6414 - accuracy: 0.8020 - val_loss: 0.7511 - val_accuracy: 0.7694\n",
      "Epoch 82/100\n",
      "1563/1563 [==============================] - 77s 49ms/step - loss: 0.4432 - accuracy: 0.8646 - val_loss: 0.7542 - val_accuracy: 0.7682\n",
      "Epoch 83/100\n",
      "1563/1563 [==============================] - 77s 49ms/step - loss: 0.4169 - accuracy: 0.8736 - val_loss: 0.7909 - val_accuracy: 0.7584\n",
      "Epoch 84/100\n",
      "1563/1563 [==============================] - 76s 49ms/step - loss: 0.6075 - accuracy: 0.8133 - val_loss: 0.7739 - val_accuracy: 0.7565\n",
      "Epoch 85/100\n",
      "1563/1563 [==============================] - 79s 51ms/step - loss: 0.4103 - accuracy: 0.8750 - val_loss: 0.7628 - val_accuracy: 0.7688\n",
      "Epoch 86/100\n",
      "1563/1563 [==============================] - 77s 49ms/step - loss: 0.9009 - accuracy: 0.7140 - val_loss: 0.8661 - val_accuracy: 0.7256\n",
      "Epoch 87/100\n",
      "1563/1563 [==============================] - 75s 48ms/step - loss: 0.4579 - accuracy: 0.8585 - val_loss: 0.9476 - val_accuracy: 0.7236\n",
      "Epoch 88/100\n",
      "1563/1563 [==============================] - 91s 58ms/step - loss: 0.4441 - accuracy: 0.8656 - val_loss: 0.8334 - val_accuracy: 0.7561\n",
      "Epoch 89/100\n",
      "1563/1563 [==============================] - 87s 56ms/step - loss: 0.4140 - accuracy: 0.8737 - val_loss: 0.7691 - val_accuracy: 0.7722\n",
      "Epoch 90/100\n",
      "1563/1563 [==============================] - 76s 49ms/step - loss: 0.4462 - accuracy: 0.8673 - val_loss: 1.2509 - val_accuracy: 0.5994\n",
      "Epoch 91/100\n",
      "1563/1563 [==============================] - 74s 47ms/step - loss: 0.5144 - accuracy: 0.8436 - val_loss: 0.7640 - val_accuracy: 0.7723\n",
      "Epoch 92/100\n",
      "1563/1563 [==============================] - 75s 48ms/step - loss: 0.3897 - accuracy: 0.8818 - val_loss: 0.8195 - val_accuracy: 0.7554\n",
      "Epoch 93/100\n",
      "1563/1563 [==============================] - 75s 48ms/step - loss: 0.5606 - accuracy: 0.8322 - val_loss: 0.7558 - val_accuracy: 0.7716\n",
      "Epoch 94/100\n",
      "1563/1563 [==============================] - 74s 47ms/step - loss: 0.5248 - accuracy: 0.8453 - val_loss: 0.7805 - val_accuracy: 0.7623\n",
      "Epoch 95/100\n",
      "1563/1563 [==============================] - 83s 53ms/step - loss: 0.4455 - accuracy: 0.8647 - val_loss: 0.7793 - val_accuracy: 0.7772\n",
      "Epoch 96/100\n",
      "1563/1563 [==============================] - 79s 50ms/step - loss: 0.4173 - accuracy: 0.8772 - val_loss: 0.8301 - val_accuracy: 0.7604\n",
      "Epoch 97/100\n",
      "1563/1563 [==============================] - 77s 49ms/step - loss: 0.4409 - accuracy: 0.8683 - val_loss: 0.8146 - val_accuracy: 0.7554\n",
      "Epoch 98/100\n",
      "1563/1563 [==============================] - 83s 53ms/step - loss: 0.4835 - accuracy: 0.8553 - val_loss: 0.7355 - val_accuracy: 0.7769\n",
      "Epoch 99/100\n",
      "1563/1563 [==============================] - 86s 55ms/step - loss: 0.4392 - accuracy: 0.8725 - val_loss: 0.7761 - val_accuracy: 0.7634\n",
      "Epoch 100/100\n",
      "1563/1563 [==============================] - 86s 55ms/step - loss: 0.4508 - accuracy: 0.8653 - val_loss: 0.7781 - val_accuracy: 0.7644\n"
     ]
    }
   ],
   "source": [
    "model_CNN=tf.keras.models.Sequential()\n",
    "    \n",
    "model_CNN.add(tf.keras.layers.Conv2D(filters=64,activation='relu',kernel_size=3, input_shape=[32,32,3]))\n",
    "model_CNN.add(tf.keras.layers.Dropout(0.2))\n",
    "model_CNN.add(tf.keras.layers.MaxPool2D(pool_size=2,strides=2))\n",
    "    \n",
    "model_CNN.add(tf.keras.layers.Conv2D(filters=128,activation='relu',kernel_size=3))\n",
    "model_CNN.add(tf.keras.layers.MaxPool2D(pool_size=2,strides=2))\n",
    "    \n",
    "model_CNN.add(tf.keras.layers.Conv2D(filters=256,activation='relu',kernel_size=3))\n",
    "model_CNN.add(tf.keras.layers.MaxPool2D(pool_size=2,strides=2))\n",
    "    \n",
    "model_CNN.add(tf.keras.layers.Flatten())\n",
    "    \n",
    "model_CNN.add(tf.keras.layers.Dropout(0.5))\n",
    "    \n",
    "model_CNN.add(tf.keras.layers.Dense(units=256,activation='relu'))\n",
    "model_CNN.add(tf.keras.layers.Dense(units=128,activation='relu'))\n",
    "model_CNN.add(tf.keras.layers.Dense(units=64,activation='relu'))\n",
    "    \n",
    "model_CNN.add(tf.keras.layers.Dense(units=10,activation='softmax'))\n",
    "    \n",
    "model_CNN.compile(optimizer='adam',loss='categorical_crossentropy',metrics=['accuracy'])\n",
    "\n",
    "checkpoints_1=ModelCheckpoint(filepath=\"model_CNN-{epoch:03d}.keras\",monitor='val_accuracy',mode='max',save_best_only=True)\n",
    "history_1=model_CNN.fit(train_images,train_labels,validation_data=(test_images,test_labels),epochs=100,callbacks=[checkpoints_1])"
   ]
  },
  {
   "cell_type": "code",
   "execution_count": 11,
   "id": "c8b0989f",
   "metadata": {},
   "outputs": [
    {
     "data": {
      "image/png": "[encoded data removed]",
      "text/plain": [
       "<Figure size 640x480 with 1 Axes>"
      ]
     },
     "metadata": {},
     "output_type": "display_data"
    }
   ],
   "source": [
    "plt.plot(history_1.history['accuracy'])\n",
    "plt.plot(history_1.history['val_accuracy'])\n",
    "plt.legend(['Train','Validation'],loc='upper left')\n",
    "plt.show()"
   ]
  },
  {
   "cell_type": "code",
   "execution_count": 12,
   "id": "e56e073f",
   "metadata": {},
   "outputs": [],
   "source": [
    "best_epoch_1=np.argmax(history_1.history['val_accuracy'])"
   ]
  },
  {
   "cell_type": "code",
   "execution_count": 13,
   "id": "e6f22b8f",
   "metadata": {},
   "outputs": [
    {
     "name": "stdout",
     "output_type": "stream",
     "text": [
      "94\n"
     ]
    }
   ],
   "source": [
    "print(best_epoch_1)"
   ]
  },
  {
   "cell_type": "code",
   "execution_count": 14,
   "id": "0089067d",
   "metadata": {},
   "outputs": [],
   "source": [
    "model_CNN.load_weights('model_CNN-{:03d}.keras'.format(best_epoch_1+1))"
   ]
  },
  {
   "cell_type": "code",
   "execution_count": 15,
   "id": "2fbf673c",
   "metadata": {},
   "outputs": [
    {
     "name": "stdout",
     "output_type": "stream",
     "text": [
      "313/313 [==============================] - 5s 14ms/step\n"
     ]
    }
   ],
   "source": [
    "y_pred=model_CNN.predict(test_images)"
   ]
  },
  {
   "cell_type": "code",
   "execution_count": 16,
   "id": "8d46837d",
   "metadata": {},
   "outputs": [
    {
     "data": {
      "text/plain": [
       "(10000, 10)"
      ]
     },
     "execution_count": 16,
     "metadata": {},
     "output_type": "execute_result"
    }
   ],
   "source": [
    "y_pred.shape"
   ]
  },
  {
   "cell_type": "code",
   "execution_count": 17,
   "id": "0f2a03d9",
   "metadata": {},
   "outputs": [
    {
     "data": {
      "text/plain": [
       "(10000, 10)"
      ]
     },
     "execution_count": 17,
     "metadata": {},
     "output_type": "execute_result"
    }
   ],
   "source": [
    "test_labels.shape"
   ]
  },
  {
   "cell_type": "code",
   "execution_count": 18,
   "id": "05e72119",
   "metadata": {},
   "outputs": [],
   "source": [
    "y_pred=np.argmax(y_pred,axis=1)"
   ]
  },
  {
   "cell_type": "code",
   "execution_count": 19,
   "id": "282f1abd",
   "metadata": {},
   "outputs": [],
   "source": [
    "y_pred=tf.keras.utils.to_categorical(y_pred,num_classes=10)"
   ]
  },
  {
   "cell_type": "code",
   "execution_count": 7,
   "id": "1a8765d1",
   "metadata": {},
   "outputs": [],
   "source": [
    "from sklearn.metrics import accuracy_score"
   ]
  },
  {
   "cell_type": "code",
   "execution_count": 21,
   "id": "2b40b5fa",
   "metadata": {},
   "outputs": [
    {
     "data": {
      "text/plain": [
       "0.7772"
      ]
     },
     "execution_count": 21,
     "metadata": {},
     "output_type": "execute_result"
    }
   ],
   "source": [
    "accuracy_score(test_labels,y_pred)"
   ]
  },
  {
   "cell_type": "code",
   "execution_count": 22,
   "id": "6bc2cea9",
   "metadata": {},
   "outputs": [
    {
     "name": "stdout",
     "output_type": "stream",
     "text": [
      "WARNING:tensorflow:`input_shape` is undefined or non-square, or `rows` is not in [96, 128, 160, 192, 224]. Weights for input shape (224, 224) will be loaded as the default.\n",
      "Downloading data from https://storage.googleapis.com/tensorflow/keras-applications/mobilenet_v2/mobilenet_v2_weights_tf_dim_ordering_tf_kernels_1.0_224_no_top.h5\n",
      "9406464/9406464 [==============================] - 2s 0us/step\n"
     ]
    }
   ],
   "source": [
    "pretrained_mobilenet=tf.keras.applications.MobileNetV2(weights='imagenet',include_top=False,input_shape=(32,32,3))"
   ]
  },
  {
   "cell_type": "code",
   "execution_count": 23,
   "id": "69a8f59f",
   "metadata": {},
   "outputs": [],
   "source": [
    "model_mobilenet=tf.keras.models.Sequential()\n",
    "model_mobilenet.add(pretrained_mobilenet)\n",
    "\n",
    "model_mobilenet.add(tf.keras.layers.Flatten())\n",
    "    \n",
    "model_mobilenet.add(tf.keras.layers.Dense(units=256,activation='relu'))\n",
    "model_mobilenet.add(tf.keras.layers.Dense(units=128,activation='relu'))\n",
    "model_mobilenet.add(tf.keras.layers.Dense(units=64,activation='relu'))\n",
    "    \n",
    "model_mobilenet.add(tf.keras.layers.Dense(units=10,activation='softmax'))\n",
    "\n",
    "model_mobilenet.compile(optimizer='adam',loss='categorical_crossentropy',metrics=['accuracy'])"
   ]
  },
  {
   "cell_type": "code",
   "execution_count": 24,
   "id": "7cdce48e",
   "metadata": {},
   "outputs": [
    {
     "name": "stdout",
     "output_type": "stream",
     "text": [
      "Epoch 1/100\n",
      "1563/1563 [==============================] - 192s 106ms/step - loss: 1.2911 - accuracy: 0.5599 - val_loss: 1.6122 - val_accuracy: 0.5752\n",
      "Epoch 2/100\n",
      "1563/1563 [==============================] - 154s 99ms/step - loss: 0.9261 - accuracy: 0.6966 - val_loss: 1.2659 - val_accuracy: 0.6576\n",
      "Epoch 3/100\n",
      "1563/1563 [==============================] - 154s 98ms/step - loss: 0.8217 - accuracy: 0.7321 - val_loss: 1.2717 - val_accuracy: 0.6564\n",
      "Epoch 4/100\n",
      "1563/1563 [==============================] - 154s 98ms/step - loss: 0.7535 - accuracy: 0.7546 - val_loss: 1.2209 - val_accuracy: 0.6550\n",
      "Epoch 5/100\n",
      "1563/1563 [==============================] - 154s 98ms/step - loss: 0.6989 - accuracy: 0.7724 - val_loss: 1.2599 - val_accuracy: 0.6826\n",
      "Epoch 6/100\n",
      "1563/1563 [==============================] - 157s 101ms/step - loss: 0.6495 - accuracy: 0.7850 - val_loss: 0.9071 - val_accuracy: 0.7429\n",
      "Epoch 7/100\n",
      "1563/1563 [==============================] - 156s 100ms/step - loss: 0.6021 - accuracy: 0.8038 - val_loss: 1.5475 - val_accuracy: 0.6548\n",
      "Epoch 8/100\n",
      "1563/1563 [==============================] - 155s 99ms/step - loss: 0.5611 - accuracy: 0.8160 - val_loss: 0.9078 - val_accuracy: 0.7449\n",
      "Epoch 9/100\n",
      "1563/1563 [==============================] - 153s 98ms/step - loss: 0.5273 - accuracy: 0.8265 - val_loss: 0.9573 - val_accuracy: 0.7385\n",
      "Epoch 10/100\n",
      "1563/1563 [==============================] - 154s 99ms/step - loss: 0.5094 - accuracy: 0.8338 - val_loss: 0.8171 - val_accuracy: 0.7595\n",
      "Epoch 11/100\n",
      "1563/1563 [==============================] - 154s 99ms/step - loss: 0.4658 - accuracy: 0.8467 - val_loss: 0.7745 - val_accuracy: 0.7727\n",
      "Epoch 12/100\n",
      "1563/1563 [==============================] - 155s 99ms/step - loss: 0.4371 - accuracy: 0.8574 - val_loss: 0.9892 - val_accuracy: 0.7225\n",
      "Epoch 13/100\n",
      "1563/1563 [==============================] - 153s 98ms/step - loss: 0.4181 - accuracy: 0.8628 - val_loss: 0.8845 - val_accuracy: 0.7577\n",
      "Epoch 14/100\n",
      "1563/1563 [==============================] - 154s 99ms/step - loss: 0.3994 - accuracy: 0.8707 - val_loss: 0.7065 - val_accuracy: 0.7767\n",
      "Epoch 15/100\n",
      "1563/1563 [==============================] - 153s 98ms/step - loss: 0.3750 - accuracy: 0.8776 - val_loss: 0.8072 - val_accuracy: 0.7721\n",
      "Epoch 16/100\n",
      "1563/1563 [==============================] - 155s 99ms/step - loss: 0.3534 - accuracy: 0.8818 - val_loss: 0.6593 - val_accuracy: 0.8065\n",
      "Epoch 17/100\n",
      "1563/1563 [==============================] - 153s 98ms/step - loss: 0.3484 - accuracy: 0.8877 - val_loss: 1.0761 - val_accuracy: 0.7336\n",
      "Epoch 18/100\n",
      "1563/1563 [==============================] - 153s 98ms/step - loss: 0.3357 - accuracy: 0.8916 - val_loss: 0.7652 - val_accuracy: 0.7753\n",
      "Epoch 19/100\n",
      "1563/1563 [==============================] - 153s 98ms/step - loss: 0.3166 - accuracy: 0.8984 - val_loss: 0.7521 - val_accuracy: 0.7754\n",
      "Epoch 20/100\n",
      "1563/1563 [==============================] - 154s 98ms/step - loss: 0.3000 - accuracy: 0.9020 - val_loss: 0.7139 - val_accuracy: 0.7959\n",
      "Epoch 21/100\n",
      "1563/1563 [==============================] - 154s 98ms/step - loss: 0.3088 - accuracy: 0.9002 - val_loss: 0.6843 - val_accuracy: 0.7971\n",
      "Epoch 22/100\n",
      "1563/1563 [==============================] - 154s 98ms/step - loss: 0.2758 - accuracy: 0.9098 - val_loss: 0.6657 - val_accuracy: 0.8057\n",
      "Epoch 23/100\n",
      "1563/1563 [==============================] - 153s 98ms/step - loss: 0.2625 - accuracy: 0.9146 - val_loss: 0.7264 - val_accuracy: 0.7986\n",
      "Epoch 24/100\n",
      "1563/1563 [==============================] - 155s 99ms/step - loss: 0.2698 - accuracy: 0.9118 - val_loss: 0.7644 - val_accuracy: 0.7761\n",
      "Epoch 25/100\n",
      "1563/1563 [==============================] - 154s 98ms/step - loss: 0.2512 - accuracy: 0.9187 - val_loss: 0.7672 - val_accuracy: 0.7739\n",
      "Epoch 26/100\n",
      "1563/1563 [==============================] - 153s 98ms/step - loss: 0.2381 - accuracy: 0.9229 - val_loss: 0.6922 - val_accuracy: 0.7968\n",
      "Epoch 27/100\n",
      "1563/1563 [==============================] - 154s 98ms/step - loss: 0.2415 - accuracy: 0.9242 - val_loss: 0.7075 - val_accuracy: 0.7981\n",
      "Epoch 28/100\n",
      "1563/1563 [==============================] - 145s 93ms/step - loss: 0.2260 - accuracy: 0.9269 - val_loss: 0.7595 - val_accuracy: 0.7840\n",
      "Epoch 29/100\n",
      "1563/1563 [==============================] - 137s 88ms/step - loss: 0.2168 - accuracy: 0.9299 - val_loss: 0.6585 - val_accuracy: 0.8047\n",
      "Epoch 30/100\n",
      "1563/1563 [==============================] - 137s 87ms/step - loss: 0.2176 - accuracy: 0.9295 - val_loss: 0.8383 - val_accuracy: 0.7806\n",
      "Epoch 31/100\n",
      "1563/1563 [==============================] - 136s 87ms/step - loss: 0.2093 - accuracy: 0.9324 - val_loss: 0.7001 - val_accuracy: 0.7916\n",
      "Epoch 32/100\n",
      "1563/1563 [==============================] - 136s 87ms/step - loss: 0.1949 - accuracy: 0.9379 - val_loss: 0.8394 - val_accuracy: 0.7699\n",
      "Epoch 33/100\n",
      "1563/1563 [==============================] - 134s 86ms/step - loss: 0.1915 - accuracy: 0.9388 - val_loss: 0.8215 - val_accuracy: 0.7828\n",
      "Epoch 34/100\n",
      "1563/1563 [==============================] - 137s 88ms/step - loss: 0.1895 - accuracy: 0.9384 - val_loss: 0.6742 - val_accuracy: 0.8092\n",
      "Epoch 35/100\n",
      "1563/1563 [==============================] - 136s 87ms/step - loss: 0.1818 - accuracy: 0.9414 - val_loss: 0.6866 - val_accuracy: 0.8046\n",
      "Epoch 36/100\n",
      "1563/1563 [==============================] - 144s 92ms/step - loss: 0.2583 - accuracy: 0.9181 - val_loss: 0.7150 - val_accuracy: 0.8003\n",
      "Epoch 37/100\n",
      "1563/1563 [==============================] - 139s 89ms/step - loss: 0.1706 - accuracy: 0.9458 - val_loss: 0.7209 - val_accuracy: 0.7996\n",
      "Epoch 38/100\n",
      "1563/1563 [==============================] - 141s 90ms/step - loss: 0.1556 - accuracy: 0.9510 - val_loss: 0.7315 - val_accuracy: 0.7990\n",
      "Epoch 39/100\n",
      "1563/1563 [==============================] - 139s 89ms/step - loss: 0.1580 - accuracy: 0.9491 - val_loss: 0.7091 - val_accuracy: 0.7957\n",
      "Epoch 40/100\n",
      "1563/1563 [==============================] - 141s 90ms/step - loss: 0.1577 - accuracy: 0.9488 - val_loss: 0.6145 - val_accuracy: 0.8225\n",
      "Epoch 41/100\n",
      "1563/1563 [==============================] - 141s 90ms/step - loss: 0.1770 - accuracy: 0.9441 - val_loss: 0.6839 - val_accuracy: 0.7969\n",
      "Epoch 42/100\n",
      "1563/1563 [==============================] - 139s 89ms/step - loss: 0.1640 - accuracy: 0.9483 - val_loss: 0.6724 - val_accuracy: 0.8067\n",
      "Epoch 43/100\n",
      "1563/1563 [==============================] - 139s 89ms/step - loss: 0.1662 - accuracy: 0.9463 - val_loss: 0.9790 - val_accuracy: 0.7560\n",
      "Epoch 44/100\n",
      "1563/1563 [==============================] - 140s 90ms/step - loss: 0.1476 - accuracy: 0.9520 - val_loss: 0.8609 - val_accuracy: 0.7738\n",
      "Epoch 45/100\n",
      "1563/1563 [==============================] - 144s 92ms/step - loss: 0.1571 - accuracy: 0.9503 - val_loss: 0.7303 - val_accuracy: 0.7922\n",
      "Epoch 46/100\n",
      "1563/1563 [==============================] - 138s 88ms/step - loss: 0.1433 - accuracy: 0.9548 - val_loss: 0.7895 - val_accuracy: 0.7989\n",
      "Epoch 47/100\n",
      "1563/1563 [==============================] - 140s 90ms/step - loss: 0.1354 - accuracy: 0.9575 - val_loss: 0.6982 - val_accuracy: 0.8148\n",
      "Epoch 48/100\n",
      "1563/1563 [==============================] - 141s 90ms/step - loss: 0.1349 - accuracy: 0.9570 - val_loss: 0.7109 - val_accuracy: 0.8068\n",
      "Epoch 49/100\n",
      "1563/1563 [==============================] - 136s 87ms/step - loss: 0.1347 - accuracy: 0.9568 - val_loss: 0.8864 - val_accuracy: 0.7779\n",
      "Epoch 50/100\n",
      "1563/1563 [==============================] - 137s 88ms/step - loss: 0.1492 - accuracy: 0.9516 - val_loss: 0.7019 - val_accuracy: 0.8030\n",
      "Epoch 51/100\n",
      "1563/1563 [==============================] - 139s 89ms/step - loss: 0.1339 - accuracy: 0.9575 - val_loss: 0.7095 - val_accuracy: 0.8078\n",
      "Epoch 52/100\n",
      "1563/1563 [==============================] - 139s 89ms/step - loss: 0.1219 - accuracy: 0.9618 - val_loss: 0.8643 - val_accuracy: 0.7916\n",
      "Epoch 53/100\n",
      "1563/1563 [==============================] - 143s 91ms/step - loss: 0.1343 - accuracy: 0.9571 - val_loss: 0.7920 - val_accuracy: 0.7735\n",
      "Epoch 54/100\n",
      "1563/1563 [==============================] - 138s 88ms/step - loss: 0.1244 - accuracy: 0.9605 - val_loss: 0.8340 - val_accuracy: 0.8072\n",
      "Epoch 55/100\n",
      "1563/1563 [==============================] - 138s 88ms/step - loss: 0.1146 - accuracy: 0.9642 - val_loss: 0.8871 - val_accuracy: 0.7481\n",
      "Epoch 56/100\n"
     ]
    },
    {
     "name": "stdout",
     "output_type": "stream",
     "text": [
      "1563/1563 [==============================] - 136s 87ms/step - loss: 0.1280 - accuracy: 0.9589 - val_loss: 0.6973 - val_accuracy: 0.8130\n",
      "Epoch 57/100\n",
      "1563/1563 [==============================] - 139s 89ms/step - loss: 0.1306 - accuracy: 0.9583 - val_loss: 0.7605 - val_accuracy: 0.8134\n",
      "Epoch 58/100\n",
      "1563/1563 [==============================] - 137s 88ms/step - loss: 0.1049 - accuracy: 0.9668 - val_loss: 0.8423 - val_accuracy: 0.8039\n",
      "Epoch 59/100\n",
      "1563/1563 [==============================] - 139s 89ms/step - loss: 0.1094 - accuracy: 0.9660 - val_loss: 0.6664 - val_accuracy: 0.8214\n",
      "Epoch 60/100\n",
      "1563/1563 [==============================] - 138s 88ms/step - loss: 0.1287 - accuracy: 0.9608 - val_loss: 0.7856 - val_accuracy: 0.8038\n",
      "Epoch 61/100\n",
      "1563/1563 [==============================] - 139s 89ms/step - loss: 0.1237 - accuracy: 0.9599 - val_loss: 0.7077 - val_accuracy: 0.8156\n",
      "Epoch 62/100\n",
      "1563/1563 [==============================] - 138s 88ms/step - loss: 0.1181 - accuracy: 0.9623 - val_loss: 1.0882 - val_accuracy: 0.7337\n",
      "Epoch 63/100\n",
      "1563/1563 [==============================] - 137s 88ms/step - loss: 0.1117 - accuracy: 0.9661 - val_loss: 0.7837 - val_accuracy: 0.8102\n",
      "Epoch 64/100\n",
      "1563/1563 [==============================] - 138s 89ms/step - loss: 0.0963 - accuracy: 0.9698 - val_loss: 0.9211 - val_accuracy: 0.7786\n",
      "Epoch 65/100\n",
      "1563/1563 [==============================] - 144s 92ms/step - loss: 0.1011 - accuracy: 0.9679 - val_loss: 0.7112 - val_accuracy: 0.8247\n",
      "Epoch 66/100\n",
      "1563/1563 [==============================] - 138s 89ms/step - loss: 0.1228 - accuracy: 0.9612 - val_loss: 0.7075 - val_accuracy: 0.8123\n",
      "Epoch 67/100\n",
      "1563/1563 [==============================] - 137s 88ms/step - loss: 0.0915 - accuracy: 0.9708 - val_loss: 0.7278 - val_accuracy: 0.8235\n",
      "Epoch 68/100\n",
      "1563/1563 [==============================] - 139s 89ms/step - loss: 0.1004 - accuracy: 0.9679 - val_loss: 0.6638 - val_accuracy: 0.8265\n",
      "Epoch 69/100\n",
      "1563/1563 [==============================] - 139s 89ms/step - loss: 0.0880 - accuracy: 0.9714 - val_loss: 1.0619 - val_accuracy: 0.7373\n",
      "Epoch 70/100\n",
      "1563/1563 [==============================] - 140s 89ms/step - loss: 0.1708 - accuracy: 0.9489 - val_loss: 0.6381 - val_accuracy: 0.8285\n",
      "Epoch 71/100\n",
      "1563/1563 [==============================] - 142s 91ms/step - loss: 0.1294 - accuracy: 0.9605 - val_loss: 0.6992 - val_accuracy: 0.8241\n",
      "Epoch 72/100\n",
      "1563/1563 [==============================] - 139s 89ms/step - loss: 0.1300 - accuracy: 0.9597 - val_loss: 0.6828 - val_accuracy: 0.8251\n",
      "Epoch 73/100\n",
      "1563/1563 [==============================] - 139s 89ms/step - loss: 0.1507 - accuracy: 0.9532 - val_loss: 0.6430 - val_accuracy: 0.8271\n",
      "Epoch 74/100\n",
      "1563/1563 [==============================] - 139s 89ms/step - loss: 0.0885 - accuracy: 0.9730 - val_loss: 0.7394 - val_accuracy: 0.8215\n",
      "Epoch 75/100\n",
      "1563/1563 [==============================] - 137s 88ms/step - loss: 0.0996 - accuracy: 0.9688 - val_loss: 0.7305 - val_accuracy: 0.8098\n",
      "Epoch 76/100\n",
      "1563/1563 [==============================] - 138s 88ms/step - loss: 0.0937 - accuracy: 0.9701 - val_loss: 0.7085 - val_accuracy: 0.8215\n",
      "Epoch 77/100\n",
      "1563/1563 [==============================] - 138s 88ms/step - loss: 0.0918 - accuracy: 0.9711 - val_loss: 0.8441 - val_accuracy: 0.8011\n",
      "Epoch 78/100\n",
      "1563/1563 [==============================] - 135s 87ms/step - loss: 0.0995 - accuracy: 0.9692 - val_loss: 0.7738 - val_accuracy: 0.8217\n",
      "Epoch 79/100\n",
      "1563/1563 [==============================] - 138s 88ms/step - loss: 0.1216 - accuracy: 0.9621 - val_loss: 1.0936 - val_accuracy: 0.7462\n",
      "Epoch 80/100\n",
      "1563/1563 [==============================] - 140s 89ms/step - loss: 0.0910 - accuracy: 0.9716 - val_loss: 0.6800 - val_accuracy: 0.8274\n",
      "Epoch 81/100\n",
      "1563/1563 [==============================] - 137s 88ms/step - loss: 0.0639 - accuracy: 0.9791 - val_loss: 0.7776 - val_accuracy: 0.8151\n",
      "Epoch 82/100\n",
      "1563/1563 [==============================] - 137s 88ms/step - loss: 0.0919 - accuracy: 0.9714 - val_loss: 0.7730 - val_accuracy: 0.8157\n",
      "Epoch 83/100\n",
      "1563/1563 [==============================] - 139s 89ms/step - loss: 0.0784 - accuracy: 0.9757 - val_loss: 0.7095 - val_accuracy: 0.8228\n",
      "Epoch 84/100\n",
      "1563/1563 [==============================] - 137s 88ms/step - loss: 0.0821 - accuracy: 0.9742 - val_loss: 0.7828 - val_accuracy: 0.8131\n",
      "Epoch 85/100\n",
      "1563/1563 [==============================] - 139s 89ms/step - loss: 0.0803 - accuracy: 0.9753 - val_loss: 0.8700 - val_accuracy: 0.8126\n",
      "Epoch 86/100\n",
      "1563/1563 [==============================] - 139s 89ms/step - loss: 0.1561 - accuracy: 0.9522 - val_loss: 0.7271 - val_accuracy: 0.8044\n",
      "Epoch 87/100\n",
      "1563/1563 [==============================] - 138s 88ms/step - loss: 0.0833 - accuracy: 0.9732 - val_loss: 0.7323 - val_accuracy: 0.8270\n",
      "Epoch 88/100\n",
      "1563/1563 [==============================] - 142s 91ms/step - loss: 0.0803 - accuracy: 0.9749 - val_loss: 0.7080 - val_accuracy: 0.8305\n",
      "Epoch 89/100\n",
      "1563/1563 [==============================] - 138s 88ms/step - loss: 0.0709 - accuracy: 0.9779 - val_loss: 0.7481 - val_accuracy: 0.8177\n",
      "Epoch 90/100\n",
      "1563/1563 [==============================] - 138s 89ms/step - loss: 0.0917 - accuracy: 0.9715 - val_loss: 0.7359 - val_accuracy: 0.8183\n",
      "Epoch 91/100\n",
      "1563/1563 [==============================] - 136s 87ms/step - loss: 0.0741 - accuracy: 0.9773 - val_loss: 0.7381 - val_accuracy: 0.8270\n",
      "Epoch 92/100\n",
      "1563/1563 [==============================] - 138s 88ms/step - loss: 0.0947 - accuracy: 0.9706 - val_loss: 0.8139 - val_accuracy: 0.8123\n",
      "Epoch 93/100\n",
      "1563/1563 [==============================] - 138s 88ms/step - loss: 0.0821 - accuracy: 0.9745 - val_loss: 0.8259 - val_accuracy: 0.8069\n",
      "Epoch 94/100\n",
      "1563/1563 [==============================] - 136s 87ms/step - loss: 0.0772 - accuracy: 0.9767 - val_loss: 0.8864 - val_accuracy: 0.7950\n",
      "Epoch 95/100\n",
      "1563/1563 [==============================] - 138s 88ms/step - loss: 0.0732 - accuracy: 0.9779 - val_loss: 0.7859 - val_accuracy: 0.8122\n",
      "Epoch 96/100\n",
      "1563/1563 [==============================] - 138s 88ms/step - loss: 0.0878 - accuracy: 0.9739 - val_loss: 0.7327 - val_accuracy: 0.8241\n",
      "Epoch 97/100\n",
      "1563/1563 [==============================] - 138s 88ms/step - loss: 0.1512 - accuracy: 0.9543 - val_loss: 0.7994 - val_accuracy: 0.8193\n",
      "Epoch 98/100\n",
      "1563/1563 [==============================] - 137s 87ms/step - loss: 0.0886 - accuracy: 0.9727 - val_loss: 0.7757 - val_accuracy: 0.8292\n",
      "Epoch 99/100\n",
      "1563/1563 [==============================] - 138s 88ms/step - loss: 0.0854 - accuracy: 0.9734 - val_loss: 0.7805 - val_accuracy: 0.8112\n",
      "Epoch 100/100\n",
      "1563/1563 [==============================] - 138s 88ms/step - loss: 0.0645 - accuracy: 0.9794 - val_loss: 0.7595 - val_accuracy: 0.8216\n"
     ]
    }
   ],
   "source": [
    "checkpoints_2=ModelCheckpoint(filepath=\"model_mobilenet-{epoch:03d}.keras\",monitor='val_accuracy',mode='max',save_best_only=True)\n",
    "history_2=model_mobilenet.fit(train_images,train_labels,validation_data=(test_images,test_labels),epochs=100,callbacks=[checkpoints_2])"
   ]
  },
  {
   "cell_type": "code",
   "execution_count": 25,
   "id": "b225df2f",
   "metadata": {},
   "outputs": [
    {
     "data": {
      "image/png": "[encoded data removed]",
      "text/plain": [
       "<Figure size 640x480 with 1 Axes>"
      ]
     },
     "metadata": {},
     "output_type": "display_data"
    }
   ],
   "source": [
    "plt.plot(history_2.history['accuracy'])\n",
    "plt.plot(history_2.history['val_accuracy'])\n",
    "plt.legend(['Train','Validation'],loc='upper left')\n",
    "plt.show()"
   ]
  },
  {
   "cell_type": "code",
   "execution_count": 26,
   "id": "b6f649b3",
   "metadata": {},
   "outputs": [
    {
     "name": "stdout",
     "output_type": "stream",
     "text": [
      "87\n"
     ]
    }
   ],
   "source": [
    "best_epoch_2=np.argmax(history_2.history['val_accuracy'])\n",
    "print(best_epoch_2)"
   ]
  },
  {
   "cell_type": "code",
   "execution_count": 27,
   "id": "4e92b7cd",
   "metadata": {},
   "outputs": [],
   "source": [
    "model_mobilenet.load_weights('model_mobilenet-{:03d}.keras'.format(best_epoch_2+1))"
   ]
  },
  {
   "cell_type": "code",
   "execution_count": 28,
   "id": "c679cff6",
   "metadata": {},
   "outputs": [
    {
     "name": "stdout",
     "output_type": "stream",
     "text": [
      "313/313 [==============================] - 7s 17ms/step\n",
      "0.8305\n"
     ]
    }
   ],
   "source": [
    "y_pred=model_mobilenet.predict(test_images)\n",
    "y_pred=np.argmax(y_pred,axis=1)\n",
    "y_pred=tf.keras.utils.to_categorical(y_pred,num_classes=10)\n",
    "print(accuracy_score(y_pred,test_labels))"
   ]
  },
  {
   "cell_type": "code",
   "execution_count": 29,
   "id": "82608e5f",
   "metadata": {},
   "outputs": [
    {
     "name": "stdout",
     "output_type": "stream",
     "text": [
      "Downloading data from https://storage.googleapis.com/tensorflow/keras-applications/vgg16/vgg16_weights_tf_dim_ordering_tf_kernels_notop.h5\n",
      "58889256/58889256 [==============================] - 16s 0us/step\n"
     ]
    }
   ],
   "source": [
    "pretrained_vgg16=tf.keras.applications.VGG16(weights='imagenet',include_top=False,input_shape=(32,32,3))"
   ]
  },
  {
   "cell_type": "code",
   "execution_count": 30,
   "id": "428940db",
   "metadata": {},
   "outputs": [],
   "source": [
    "model_vgg16=tf.keras.models.Sequential()\n",
    "model_vgg16.add(pretrained_vgg16)\n",
    "model_vgg16.add(tf.keras.layers.Flatten())\n",
    "\n",
    "model_vgg16.add(tf.keras.layers.Dense(256,activation='relu'))\n",
    "model_vgg16.add(tf.keras.layers.Dense(128,activation='relu'))\n",
    "model_vgg16.add(tf.keras.layers.Dense(10,activation='softmax'))\n",
    "\n",
    "model_vgg16.compile(optimizer='adam',loss='categorical_crossentropy',metrics=['accuracy'])"
   ]
  },
  {
   "cell_type": "code",
   "execution_count": 31,
   "id": "c36d21a1",
   "metadata": {},
   "outputs": [
    {
     "name": "stdout",
     "output_type": "stream",
     "text": [
      "Epoch 1/100\n",
      "1563/1563 [==============================] - 571s 363ms/step - loss: 1.9709 - accuracy: 0.2470 - val_loss: 1.5821 - val_accuracy: 0.3692\n",
      "Epoch 2/100\n",
      "1563/1563 [==============================] - 571s 365ms/step - loss: 1.4590 - accuracy: 0.4244 - val_loss: 1.6524 - val_accuracy: 0.3646\n",
      "Epoch 3/100\n",
      "1563/1563 [==============================] - 574s 367ms/step - loss: 1.2844 - accuracy: 0.5182 - val_loss: 1.2166 - val_accuracy: 0.5615\n",
      "Epoch 4/100\n",
      "1563/1563 [==============================] - 575s 368ms/step - loss: 1.0377 - accuracy: 0.6300 - val_loss: 1.0391 - val_accuracy: 0.6467\n",
      "Epoch 5/100\n",
      "1563/1563 [==============================] - 572s 366ms/step - loss: 0.9289 - accuracy: 0.6726 - val_loss: 0.9176 - val_accuracy: 0.6918\n",
      "Epoch 6/100\n",
      "1563/1563 [==============================] - 573s 367ms/step - loss: 0.8328 - accuracy: 0.7158 - val_loss: 0.8937 - val_accuracy: 0.7070\n",
      "Epoch 7/100\n",
      "1563/1563 [==============================] - 575s 368ms/step - loss: 0.7466 - accuracy: 0.7466 - val_loss: 0.8076 - val_accuracy: 0.7390\n",
      "Epoch 8/100\n",
      "1563/1563 [==============================] - 570s 365ms/step - loss: 0.7028 - accuracy: 0.7636 - val_loss: 0.8208 - val_accuracy: 0.7358\n",
      "Epoch 9/100\n",
      "1563/1563 [==============================] - 571s 365ms/step - loss: 0.6830 - accuracy: 0.7700 - val_loss: 0.8500 - val_accuracy: 0.7213\n",
      "Epoch 10/100\n",
      "1563/1563 [==============================] - 573s 367ms/step - loss: 0.6741 - accuracy: 0.7730 - val_loss: 0.7972 - val_accuracy: 0.7468\n",
      "Epoch 11/100\n",
      "1563/1563 [==============================] - 575s 368ms/step - loss: 0.5644 - accuracy: 0.8126 - val_loss: 0.7301 - val_accuracy: 0.7711\n",
      "Epoch 12/100\n",
      "1563/1563 [==============================] - 576s 368ms/step - loss: 0.5654 - accuracy: 0.8153 - val_loss: 0.8056 - val_accuracy: 0.7583\n",
      "Epoch 13/100\n",
      "1563/1563 [==============================] - 578s 370ms/step - loss: 0.5513 - accuracy: 0.8165 - val_loss: 0.7804 - val_accuracy: 0.7592\n",
      "Epoch 14/100\n",
      "1563/1563 [==============================] - 570s 365ms/step - loss: 0.5126 - accuracy: 0.8325 - val_loss: 0.8122 - val_accuracy: 0.7534\n",
      "Epoch 15/100\n",
      "1563/1563 [==============================] - 573s 366ms/step - loss: 0.5224 - accuracy: 0.8309 - val_loss: 0.8403 - val_accuracy: 0.7507\n",
      "Epoch 16/100\n",
      "1563/1563 [==============================] - 573s 367ms/step - loss: 0.4294 - accuracy: 0.8626 - val_loss: 0.9444 - val_accuracy: 0.7475\n",
      "Epoch 17/100\n",
      "1563/1563 [==============================] - 571s 365ms/step - loss: 0.4349 - accuracy: 0.8628 - val_loss: 0.9795 - val_accuracy: 0.7406\n",
      "Epoch 18/100\n",
      "1563/1563 [==============================] - 570s 365ms/step - loss: 0.5531 - accuracy: 0.8211 - val_loss: 0.7803 - val_accuracy: 0.7630\n",
      "Epoch 19/100\n",
      "1563/1563 [==============================] - 573s 367ms/step - loss: 0.4230 - accuracy: 0.8667 - val_loss: 0.8037 - val_accuracy: 0.7711\n",
      "Epoch 20/100\n",
      "1563/1563 [==============================] - 576s 368ms/step - loss: 0.4477 - accuracy: 0.8564 - val_loss: 0.8660 - val_accuracy: 0.7768\n",
      "Epoch 21/100\n",
      "1563/1563 [==============================] - 588s 376ms/step - loss: 0.5520 - accuracy: 0.8329 - val_loss: 0.8061 - val_accuracy: 0.7867\n",
      "Epoch 22/100\n",
      "1563/1563 [==============================] - 581s 372ms/step - loss: 0.4310 - accuracy: 0.8606 - val_loss: 0.7680 - val_accuracy: 0.7911\n",
      "Epoch 23/100\n",
      "1563/1563 [==============================] - 579s 371ms/step - loss: 0.3090 - accuracy: 0.9010 - val_loss: 0.8413 - val_accuracy: 0.7579\n",
      "Epoch 24/100\n",
      "1563/1563 [==============================] - 576s 369ms/step - loss: 0.3447 - accuracy: 0.8913 - val_loss: 0.8445 - val_accuracy: 0.7894\n",
      "Epoch 25/100\n",
      "1563/1563 [==============================] - 583s 373ms/step - loss: 0.5505 - accuracy: 0.8334 - val_loss: 0.8279 - val_accuracy: 0.7815\n",
      "Epoch 26/100\n",
      "1563/1563 [==============================] - 588s 376ms/step - loss: 0.3072 - accuracy: 0.9034 - val_loss: 1.1803 - val_accuracy: 0.6241\n",
      "Epoch 27/100\n",
      "1563/1563 [==============================] - 593s 379ms/step - loss: 0.3070 - accuracy: 0.9028 - val_loss: 0.7975 - val_accuracy: 0.7921\n",
      "Epoch 28/100\n",
      "1563/1563 [==============================] - 582s 372ms/step - loss: 0.3101 - accuracy: 0.9028 - val_loss: 0.8405 - val_accuracy: 0.7583\n",
      "Epoch 29/100\n",
      "1563/1563 [==============================] - 586s 375ms/step - loss: 0.2773 - accuracy: 0.9148 - val_loss: 0.8608 - val_accuracy: 0.7852\n",
      "Epoch 30/100\n",
      "1563/1563 [==============================] - 604s 387ms/step - loss: 0.5493 - accuracy: 0.8342 - val_loss: 0.7961 - val_accuracy: 0.7601\n",
      "Epoch 31/100\n",
      "1563/1563 [==============================] - 629s 402ms/step - loss: 0.3509 - accuracy: 0.8890 - val_loss: 0.9346 - val_accuracy: 0.7902\n",
      "Epoch 32/100\n",
      "1563/1563 [==============================] - 598s 383ms/step - loss: 0.5084 - accuracy: 0.8445 - val_loss: 0.8760 - val_accuracy: 0.7269\n",
      "Epoch 33/100\n",
      "1563/1563 [==============================] - 595s 381ms/step - loss: 0.3244 - accuracy: 0.9013 - val_loss: 0.9160 - val_accuracy: 0.7954\n",
      "Epoch 34/100\n",
      "1563/1563 [==============================] - 595s 381ms/step - loss: 0.2358 - accuracy: 0.9290 - val_loss: 0.9016 - val_accuracy: 0.7889\n",
      "Epoch 35/100\n",
      "1563/1563 [==============================] - 599s 383ms/step - loss: 0.3127 - accuracy: 0.9071 - val_loss: 0.9069 - val_accuracy: 0.7885\n",
      "Epoch 36/100\n",
      "1563/1563 [==============================] - 599s 383ms/step - loss: 0.2481 - accuracy: 0.9258 - val_loss: 0.8701 - val_accuracy: 0.8031\n",
      "Epoch 37/100\n",
      "1563/1563 [==============================] - 601s 385ms/step - loss: 0.5209 - accuracy: 0.8465 - val_loss: 0.8475 - val_accuracy: 0.7793\n",
      "Epoch 38/100\n",
      "1563/1563 [==============================] - 611s 391ms/step - loss: 0.2928 - accuracy: 0.9134 - val_loss: 0.9835 - val_accuracy: 0.8008\n",
      "Epoch 39/100\n",
      "1563/1563 [==============================] - 607s 389ms/step - loss: 1.1477 - accuracy: 0.6870 - val_loss: 1.2529 - val_accuracy: 0.6941\n",
      "Epoch 40/100\n",
      "1563/1563 [==============================] - 610s 390ms/step - loss: 0.4451 - accuracy: 0.8652 - val_loss: 0.9221 - val_accuracy: 0.7768\n",
      "Epoch 41/100\n",
      "1563/1563 [==============================] - 618s 395ms/step - loss: 0.2081 - accuracy: 0.9373 - val_loss: 1.3536 - val_accuracy: 0.5611\n",
      "Epoch 42/100\n",
      "1563/1563 [==============================] - 623s 398ms/step - loss: 0.4719 - accuracy: 0.8599 - val_loss: 9.6369 - val_accuracy: 0.7945\n",
      "Epoch 43/100\n",
      "1563/1563 [==============================] - 616s 394ms/step - loss: 0.6025 - accuracy: 0.8118 - val_loss: 0.8874 - val_accuracy: 0.7930\n",
      "Epoch 44/100\n",
      "1563/1563 [==============================] - 616s 394ms/step - loss: 0.2038 - accuracy: 0.9399 - val_loss: 0.9523 - val_accuracy: 0.7983\n",
      "Epoch 45/100\n",
      "1563/1563 [==============================] - 619s 396ms/step - loss: 0.2127 - accuracy: 0.9373 - val_loss: 0.9915 - val_accuracy: 0.8068\n",
      "Epoch 46/100\n",
      "1563/1563 [==============================] - 615s 394ms/step - loss: 0.2752 - accuracy: 0.9191 - val_loss: 0.9555 - val_accuracy: 0.8050\n",
      "Epoch 47/100\n",
      "1563/1563 [==============================] - 618s 396ms/step - loss: 0.2767 - accuracy: 0.9216 - val_loss: 0.9696 - val_accuracy: 0.7824\n",
      "Epoch 48/100\n",
      "1563/1563 [==============================] - 621s 398ms/step - loss: 0.7191 - accuracy: 0.7783 - val_loss: 0.8871 - val_accuracy: 0.7276\n",
      "Epoch 49/100\n",
      "1563/1563 [==============================] - 625s 400ms/step - loss: 0.4720 - accuracy: 0.8672 - val_loss: 0.9696 - val_accuracy: 0.7621\n",
      "Epoch 50/100\n",
      "1563/1563 [==============================] - 638s 408ms/step - loss: 1.1659 - accuracy: 0.6730 - val_loss: 1.2072 - val_accuracy: 0.5722\n",
      "Epoch 51/100\n",
      "1563/1563 [==============================] - 620s 396ms/step - loss: 0.7542 - accuracy: 0.7611 - val_loss: 1.1213 - val_accuracy: 0.6561\n",
      "Epoch 52/100\n",
      "1563/1563 [==============================] - 624s 399ms/step - loss: 1.1069 - accuracy: 0.6520 - val_loss: 1.3503 - val_accuracy: 0.5599\n",
      "Epoch 53/100\n",
      "1563/1563 [==============================] - 628s 402ms/step - loss: 0.8140 - accuracy: 0.7484 - val_loss: 1.1209 - val_accuracy: 0.7635\n",
      "Epoch 54/100\n",
      "1563/1563 [==============================] - 626s 400ms/step - loss: 1.7558 - accuracy: 0.5702 - val_loss: 3.5881 - val_accuracy: 0.1000\n",
      "Epoch 55/100\n"
     ]
    },
    {
     "name": "stdout",
     "output_type": "stream",
     "text": [
      "1563/1563 [==============================] - 633s 405ms/step - loss: 2.9323 - accuracy: 0.1000 - val_loss: 2.5281 - val_accuracy: 0.1000\n",
      "Epoch 56/100\n",
      "1563/1563 [==============================] - 638s 408ms/step - loss: 2.3925 - accuracy: 0.1000 - val_loss: 2.3219 - val_accuracy: 0.1000\n",
      "Epoch 57/100\n",
      "1563/1563 [==============================] - 608s 389ms/step - loss: 2.3086 - accuracy: 0.1000 - val_loss: 2.3032 - val_accuracy: 0.1000\n",
      "Epoch 58/100\n",
      "1563/1563 [==============================] - 614s 393ms/step - loss: 2.3029 - accuracy: 0.0998 - val_loss: 2.3026 - val_accuracy: 0.1000\n",
      "Epoch 59/100\n",
      "1563/1563 [==============================] - 619s 396ms/step - loss: 2.3028 - accuracy: 0.0970 - val_loss: 2.3026 - val_accuracy: 0.1000\n",
      "Epoch 60/100\n",
      "1563/1563 [==============================] - 641s 410ms/step - loss: 2.3028 - accuracy: 0.0994 - val_loss: 2.3027 - val_accuracy: 0.1000\n",
      "Epoch 61/100\n",
      "1563/1563 [==============================] - 629s 402ms/step - loss: 2.3028 - accuracy: 0.0991 - val_loss: 2.3026 - val_accuracy: 0.1000\n",
      "Epoch 62/100\n",
      "1563/1563 [==============================] - 614s 393ms/step - loss: 2.3027 - accuracy: 0.1000 - val_loss: 2.3027 - val_accuracy: 0.1000\n",
      "Epoch 63/100\n",
      "1563/1563 [==============================] - 616s 394ms/step - loss: 2.3028 - accuracy: 0.0975 - val_loss: 2.3026 - val_accuracy: 0.1000\n",
      "Epoch 64/100\n",
      "1563/1563 [==============================] - 616s 394ms/step - loss: 2.3028 - accuracy: 0.0979 - val_loss: 2.3026 - val_accuracy: 0.1000\n",
      "Epoch 65/100\n",
      "1563/1563 [==============================] - 620s 397ms/step - loss: 2.3028 - accuracy: 0.0966 - val_loss: 2.3026 - val_accuracy: 0.1000\n",
      "Epoch 66/100\n",
      "1563/1563 [==============================] - 626s 400ms/step - loss: 2.3027 - accuracy: 0.0995 - val_loss: 2.3026 - val_accuracy: 0.1000\n",
      "Epoch 67/100\n",
      "1563/1563 [==============================] - 630s 403ms/step - loss: 2.3028 - accuracy: 0.0987 - val_loss: 2.3027 - val_accuracy: 0.1000\n",
      "Epoch 68/100\n",
      "1563/1563 [==============================] - 634s 405ms/step - loss: 2.3028 - accuracy: 0.0969 - val_loss: 2.3026 - val_accuracy: 0.1000\n",
      "Epoch 69/100\n",
      "1563/1563 [==============================] - 630s 403ms/step - loss: 2.3028 - accuracy: 0.0972 - val_loss: 2.3026 - val_accuracy: 0.1000\n",
      "Epoch 70/100\n",
      "1563/1563 [==============================] - 628s 402ms/step - loss: 2.3028 - accuracy: 0.0994 - val_loss: 2.3026 - val_accuracy: 0.1000\n",
      "Epoch 71/100\n",
      "1563/1563 [==============================] - 626s 401ms/step - loss: 2.3028 - accuracy: 0.0985 - val_loss: 2.3026 - val_accuracy: 0.1000\n",
      "Epoch 72/100\n",
      "1563/1563 [==============================] - 620s 397ms/step - loss: 2.3028 - accuracy: 0.0976 - val_loss: 2.3026 - val_accuracy: 0.1000\n",
      "Epoch 73/100\n",
      "1563/1563 [==============================] - 639s 409ms/step - loss: 2.3027 - accuracy: 0.1015 - val_loss: 2.3027 - val_accuracy: 0.1000\n",
      "Epoch 74/100\n",
      "1563/1563 [==============================] - 642s 411ms/step - loss: 2.3028 - accuracy: 0.0970 - val_loss: 2.3027 - val_accuracy: 0.1000\n",
      "Epoch 75/100\n",
      "1563/1563 [==============================] - 635s 406ms/step - loss: 2.3028 - accuracy: 0.0948 - val_loss: 2.3026 - val_accuracy: 0.1000\n",
      "Epoch 76/100\n",
      "1563/1563 [==============================] - 644s 412ms/step - loss: 2.3028 - accuracy: 0.1000 - val_loss: 2.3026 - val_accuracy: 0.1000\n",
      "Epoch 77/100\n",
      "1563/1563 [==============================] - 642s 411ms/step - loss: 2.3028 - accuracy: 0.0985 - val_loss: 2.3026 - val_accuracy: 0.1000\n",
      "Epoch 78/100\n",
      "1563/1563 [==============================] - 648s 415ms/step - loss: 2.3028 - accuracy: 0.0974 - val_loss: 2.3026 - val_accuracy: 0.1000\n",
      "Epoch 79/100\n",
      "1563/1563 [==============================] - 644s 412ms/step - loss: 2.3028 - accuracy: 0.0984 - val_loss: 2.3026 - val_accuracy: 0.1000\n",
      "Epoch 80/100\n",
      "1563/1563 [==============================] - 643s 411ms/step - loss: 2.3028 - accuracy: 0.0991 - val_loss: 2.3027 - val_accuracy: 0.1000\n",
      "Epoch 81/100\n",
      "1563/1563 [==============================] - 649s 415ms/step - loss: 2.3028 - accuracy: 0.0995 - val_loss: 2.3026 - val_accuracy: 0.1000\n",
      "Epoch 82/100\n",
      "1563/1563 [==============================] - 647s 414ms/step - loss: 2.3028 - accuracy: 0.0993 - val_loss: 2.3026 - val_accuracy: 0.1000\n",
      "Epoch 83/100\n",
      "1563/1563 [==============================] - 621s 398ms/step - loss: 2.3028 - accuracy: 0.0984 - val_loss: 2.3026 - val_accuracy: 0.1000\n",
      "Epoch 84/100\n",
      "1563/1563 [==============================] - 628s 402ms/step - loss: 2.3028 - accuracy: 0.0985 - val_loss: 2.3026 - val_accuracy: 0.1000\n",
      "Epoch 85/100\n",
      "1563/1563 [==============================] - 635s 406ms/step - loss: 2.3028 - accuracy: 0.0969 - val_loss: 2.3026 - val_accuracy: 0.1000\n",
      "Epoch 86/100\n",
      "1563/1563 [==============================] - 631s 404ms/step - loss: 2.3028 - accuracy: 0.0968 - val_loss: 2.3026 - val_accuracy: 0.1000\n",
      "Epoch 87/100\n",
      "1563/1563 [==============================] - 629s 402ms/step - loss: 2.3028 - accuracy: 0.0980 - val_loss: 2.3026 - val_accuracy: 0.1000\n",
      "Epoch 88/100\n",
      "1563/1563 [==============================] - 628s 402ms/step - loss: 2.3028 - accuracy: 0.0989 - val_loss: 2.3027 - val_accuracy: 0.1000\n",
      "Epoch 89/100\n",
      "1563/1563 [==============================] - 625s 400ms/step - loss: 2.3028 - accuracy: 0.1001 - val_loss: 2.3026 - val_accuracy: 0.1000\n",
      "Epoch 90/100\n",
      "1563/1563 [==============================] - 633s 405ms/step - loss: 2.3028 - accuracy: 0.0963 - val_loss: 2.3026 - val_accuracy: 0.1000\n",
      "Epoch 91/100\n",
      "1563/1563 [==============================] - 633s 405ms/step - loss: 2.3028 - accuracy: 0.0980 - val_loss: 2.3026 - val_accuracy: 0.1000\n",
      "Epoch 92/100\n",
      "1563/1563 [==============================] - 633s 405ms/step - loss: 2.3028 - accuracy: 0.0980 - val_loss: 2.3026 - val_accuracy: 0.1000\n",
      "Epoch 93/100\n",
      "1563/1563 [==============================] - 614s 393ms/step - loss: 2.3028 - accuracy: 0.1004 - val_loss: 2.3026 - val_accuracy: 0.1000\n",
      "Epoch 94/100\n",
      "1563/1563 [==============================] - 621s 397ms/step - loss: 2.3028 - accuracy: 0.0976 - val_loss: 2.3026 - val_accuracy: 0.1000\n",
      "Epoch 95/100\n",
      "1563/1563 [==============================] - 652s 417ms/step - loss: 2.3028 - accuracy: 0.0982 - val_loss: 2.3026 - val_accuracy: 0.1000\n",
      "Epoch 96/100\n",
      "1563/1563 [==============================] - 627s 401ms/step - loss: 2.3028 - accuracy: 0.0978 - val_loss: 2.3027 - val_accuracy: 0.1000\n",
      "Epoch 97/100\n",
      "1563/1563 [==============================] - 614s 393ms/step - loss: 2.3027 - accuracy: 0.0960 - val_loss: 2.3026 - val_accuracy: 0.1000\n",
      "Epoch 98/100\n",
      "1563/1563 [==============================] - 614s 393ms/step - loss: 2.3028 - accuracy: 0.0968 - val_loss: 2.3026 - val_accuracy: 0.1000\n",
      "Epoch 99/100\n",
      "1563/1563 [==============================] - 625s 400ms/step - loss: 2.3028 - accuracy: 0.0981 - val_loss: 2.3027 - val_accuracy: 0.1000\n",
      "Epoch 100/100\n",
      "1563/1563 [==============================] - 613s 392ms/step - loss: 2.3028 - accuracy: 0.0974 - val_loss: 2.3026 - val_accuracy: 0.1000\n"
     ]
    }
   ],
   "source": [
    "checkpoints_3=ModelCheckpoint(filepath=\"model_vgg16-{epoch:03d}.keras\",monitor='val_accuracy',mode='max',save_best_only=True)\n",
    "history_3=model_vgg16.fit(train_images,train_labels,validation_data=(test_images,test_labels),epochs=100,callbacks=[checkpoints_3])"
   ]
  },
  {
   "cell_type": "code",
   "execution_count": 32,
   "id": "e4cef38a",
   "metadata": {},
   "outputs": [
    {
     "data": {
      "image/png": "[encoded data removed]",
      "text/plain": [
       "<Figure size 640x480 with 1 Axes>"
      ]
     },
     "metadata": {},
     "output_type": "display_data"
    }
   ],
   "source": [
    "plt.plot(history_3.history['accuracy'])\n",
    "plt.plot(history_3.history['val_accuracy'])\n",
    "plt.legend(['Train','Validation'],loc='upper left')\n",
    "plt.show()"
   ]
  },
  {
   "cell_type": "code",
   "execution_count": 33,
   "id": "2c7f8381",
   "metadata": {},
   "outputs": [
    {
     "name": "stdout",
     "output_type": "stream",
     "text": [
      "44\n"
     ]
    }
   ],
   "source": [
    "best_epoch_3=np.argmax(history_3.history['val_accuracy'])\n",
    "print(best_epoch_3)"
   ]
  },
  {
   "cell_type": "code",
   "execution_count": 34,
   "id": "a9d64bb9",
   "metadata": {},
   "outputs": [],
   "source": [
    "model_vgg16.load_weights('model_vgg16-{:03d}.keras'.format(best_epoch_3+1))"
   ]
  },
  {
   "cell_type": "code",
   "execution_count": 35,
   "id": "746ac99d",
   "metadata": {},
   "outputs": [
    {
     "name": "stdout",
     "output_type": "stream",
     "text": [
      "313/313 [==============================] - 36s 113ms/step\n",
      "0.8068\n"
     ]
    }
   ],
   "source": [
    "y_pred=model_vgg16.predict(test_images)\n",
    "y_pred=np.argmax(y_pred,axis=1)\n",
    "y_pred=tf.keras.utils.to_categorical(y_pred,num_classes=10)\n",
    "print(accuracy_score(y_pred,test_labels))"
   ]
  },
  {
   "cell_type": "code",
   "execution_count": 36,
   "id": "8f5ee08a",
   "metadata": {},
   "outputs": [
    {
     "name": "stdout",
     "output_type": "stream",
     "text": [
      "Downloading data from https://storage.googleapis.com/tensorflow/keras-applications/vgg19/vgg19_weights_tf_dim_ordering_tf_kernels_notop.h5\n",
      "80134624/80134624 [==============================] - 17s 0us/step\n"
     ]
    }
   ],
   "source": [
    "pretrained_vgg19=tf.keras.applications.VGG19(weights='imagenet',include_top=False,input_shape=(32,32,3))"
   ]
  },
  {
   "cell_type": "code",
   "execution_count": 37,
   "id": "52e97962",
   "metadata": {},
   "outputs": [],
   "source": [
    "model_vgg19=tf.keras.models.Sequential()\n",
    "model_vgg19.add(pretrained_vgg19)\n",
    "model_vgg19.add(tf.keras.layers.Flatten())\n",
    "model_vgg19.add(tf.keras.layers.Dense(256,activation='relu'))\n",
    "model_vgg19.add(tf.keras.layers.Dense(128,activation='relu'))\n",
    "model_vgg19.add(tf.keras.layers.Dense(10,activation='softmax'))\n",
    "model_vgg19.compile(optimizer='adam',loss='categorical_crossentropy',metrics=['accuracy'])"
   ]
  },
  {
   "cell_type": "code",
   "execution_count": 38,
   "id": "369d86cb",
   "metadata": {},
   "outputs": [
    {
     "name": "stdout",
     "output_type": "stream",
     "text": [
      "Epoch 1/100\n",
      "1563/1563 [==============================] - 819s 521ms/step - loss: 1.9974 - accuracy: 0.2251 - val_loss: 1.7544 - val_accuracy: 0.3034\n",
      "Epoch 2/100\n",
      "1563/1563 [==============================] - 805s 515ms/step - loss: 1.5970 - accuracy: 0.3645 - val_loss: 1.4232 - val_accuracy: 0.4363\n",
      "Epoch 3/100\n",
      "1563/1563 [==============================] - 803s 514ms/step - loss: 1.3900 - accuracy: 0.4606 - val_loss: 1.2816 - val_accuracy: 0.5043\n",
      "Epoch 4/100\n",
      "1563/1563 [==============================] - 1000s 640ms/step - loss: 1.2898 - accuracy: 0.5226 - val_loss: 1.2450 - val_accuracy: 0.5434\n",
      "Epoch 5/100\n",
      "1563/1563 [==============================] - 1052s 673ms/step - loss: 1.1230 - accuracy: 0.5953 - val_loss: 1.1817 - val_accuracy: 0.5884\n",
      "Epoch 6/100\n",
      "1563/1563 [==============================] - 1050s 672ms/step - loss: 1.1093 - accuracy: 0.6030 - val_loss: 1.0369 - val_accuracy: 0.6353\n",
      "Epoch 7/100\n",
      "1563/1563 [==============================] - 1052s 673ms/step - loss: 0.9203 - accuracy: 0.6728 - val_loss: 1.0293 - val_accuracy: 0.6327\n",
      "Epoch 8/100\n",
      "1563/1563 [==============================] - 798s 511ms/step - loss: 0.9025 - accuracy: 0.6821 - val_loss: 0.8642 - val_accuracy: 0.7013\n",
      "Epoch 9/100\n",
      "1563/1563 [==============================] - 848s 543ms/step - loss: 0.8778 - accuracy: 0.6929 - val_loss: 0.9068 - val_accuracy: 0.6995\n",
      "Epoch 10/100\n",
      "1563/1563 [==============================] - 887s 568ms/step - loss: 1.0745 - accuracy: 0.6179 - val_loss: 1.0369 - val_accuracy: 0.6336\n",
      "Epoch 11/100\n",
      "1563/1563 [==============================] - 874s 559ms/step - loss: 0.7896 - accuracy: 0.7258 - val_loss: 0.8410 - val_accuracy: 0.7195\n",
      "Epoch 12/100\n",
      "1563/1563 [==============================] - 861s 551ms/step - loss: 0.7740 - accuracy: 0.7336 - val_loss: 0.8663 - val_accuracy: 0.7187\n",
      "Epoch 13/100\n",
      "1563/1563 [==============================] - 861s 551ms/step - loss: 0.6766 - accuracy: 0.7702 - val_loss: 0.7971 - val_accuracy: 0.7285\n",
      "Epoch 14/100\n",
      "1563/1563 [==============================] - 858s 549ms/step - loss: 0.7102 - accuracy: 0.7553 - val_loss: 0.7571 - val_accuracy: 0.7477\n",
      "Epoch 15/100\n",
      "1563/1563 [==============================] - 848s 543ms/step - loss: 1.0263 - accuracy: 0.6437 - val_loss: 0.8422 - val_accuracy: 0.7165\n",
      "Epoch 16/100\n",
      "1563/1563 [==============================] - 851s 545ms/step - loss: 0.6867 - accuracy: 0.7646 - val_loss: 0.9914 - val_accuracy: 0.6639\n",
      "Epoch 17/100\n",
      "1563/1563 [==============================] - 854s 547ms/step - loss: 0.5813 - accuracy: 0.8008 - val_loss: 0.8084 - val_accuracy: 0.7582\n",
      "Epoch 18/100\n",
      "1563/1563 [==============================] - 911s 583ms/step - loss: 0.5926 - accuracy: 0.7995 - val_loss: 0.7593 - val_accuracy: 0.7495\n",
      "Epoch 19/100\n",
      "1563/1563 [==============================] - 856s 548ms/step - loss: 0.8884 - accuracy: 0.7085 - val_loss: 0.9642 - val_accuracy: 0.6847\n",
      "Epoch 20/100\n",
      "1563/1563 [==============================] - 843s 539ms/step - loss: 0.6010 - accuracy: 0.7963 - val_loss: 0.8269 - val_accuracy: 0.7557\n",
      "Epoch 21/100\n",
      "1563/1563 [==============================] - 841s 538ms/step - loss: 0.5458 - accuracy: 0.8171 - val_loss: 0.8795 - val_accuracy: 0.7200\n",
      "Epoch 22/100\n",
      "1563/1563 [==============================] - 844s 540ms/step - loss: 0.5238 - accuracy: 0.8263 - val_loss: 0.7582 - val_accuracy: 0.7682\n",
      "Epoch 23/100\n",
      "1563/1563 [==============================] - 835s 535ms/step - loss: 0.3877 - accuracy: 0.8721 - val_loss: 0.8749 - val_accuracy: 0.7706\n",
      "Epoch 24/100\n",
      "1563/1563 [==============================] - 841s 538ms/step - loss: 0.4124 - accuracy: 0.8639 - val_loss: 0.8277 - val_accuracy: 0.7774\n",
      "Epoch 25/100\n",
      "1563/1563 [==============================] - 834s 534ms/step - loss: 0.6172 - accuracy: 0.7949 - val_loss: 0.9358 - val_accuracy: 0.7067\n",
      "Epoch 26/100\n",
      "1563/1563 [==============================] - 838s 536ms/step - loss: 0.5756 - accuracy: 0.8063 - val_loss: 0.7853 - val_accuracy: 0.7836\n",
      "Epoch 27/100\n",
      "1563/1563 [==============================] - 829s 530ms/step - loss: 0.4567 - accuracy: 0.8499 - val_loss: 0.8363 - val_accuracy: 0.7547\n",
      "Epoch 28/100\n",
      "1563/1563 [==============================] - 830s 531ms/step - loss: 0.3252 - accuracy: 0.8938 - val_loss: 0.8174 - val_accuracy: 0.7865\n",
      "Epoch 29/100\n",
      "1563/1563 [==============================] - 837s 536ms/step - loss: 0.7038 - accuracy: 0.7769 - val_loss: 0.7548 - val_accuracy: 0.7761\n",
      "Epoch 30/100\n",
      "1563/1563 [==============================] - 843s 539ms/step - loss: 0.3715 - accuracy: 0.8789 - val_loss: 0.8327 - val_accuracy: 0.7758\n",
      "Epoch 31/100\n",
      "1563/1563 [==============================] - 825s 528ms/step - loss: 1.1261 - accuracy: 0.6035 - val_loss: 1.0659 - val_accuracy: 0.6327\n",
      "Epoch 32/100\n",
      "1563/1563 [==============================] - 827s 529ms/step - loss: 0.5410 - accuracy: 0.8184 - val_loss: 0.7577 - val_accuracy: 0.7660\n",
      "Epoch 33/100\n",
      "1563/1563 [==============================] - 823s 527ms/step - loss: 0.3717 - accuracy: 0.8746 - val_loss: 0.8528 - val_accuracy: 0.7447\n",
      "Epoch 34/100\n",
      "1563/1563 [==============================] - 829s 531ms/step - loss: 0.6310 - accuracy: 0.7853 - val_loss: 0.8888 - val_accuracy: 0.7258\n",
      "Epoch 35/100\n",
      "1563/1563 [==============================] - 821s 526ms/step - loss: 0.4002 - accuracy: 0.8676 - val_loss: 0.8624 - val_accuracy: 0.7841\n",
      "Epoch 36/100\n",
      "1563/1563 [==============================] - 828s 530ms/step - loss: 0.4648 - accuracy: 0.8435 - val_loss: 0.8644 - val_accuracy: 0.7756\n",
      "Epoch 37/100\n",
      "1563/1563 [==============================] - 826s 529ms/step - loss: 0.2337 - accuracy: 0.9236 - val_loss: 0.8868 - val_accuracy: 0.7837\n",
      "Epoch 38/100\n",
      "1563/1563 [==============================] - 822s 526ms/step - loss: 8.6598 - accuracy: 0.4878 - val_loss: 1.6748 - val_accuracy: 0.3585\n",
      "Epoch 39/100\n",
      "1563/1563 [==============================] - 817s 523ms/step - loss: 1.4880 - accuracy: 0.4316 - val_loss: 1.3980 - val_accuracy: 0.4792\n",
      "Epoch 40/100\n",
      "1563/1563 [==============================] - 980s 627ms/step - loss: 1.6505 - accuracy: 0.3914 - val_loss: 1.6450 - val_accuracy: 0.3585\n",
      "Epoch 41/100\n",
      "1563/1563 [==============================] - 839s 537ms/step - loss: 1.4318 - accuracy: 0.4536 - val_loss: 1.2426 - val_accuracy: 0.5342\n",
      "Epoch 42/100\n",
      "1563/1563 [==============================] - 819s 524ms/step - loss: 2.5731 - accuracy: 0.2748 - val_loss: 2.3652 - val_accuracy: 0.1000\n",
      "Epoch 43/100\n",
      "1563/1563 [==============================] - 813s 520ms/step - loss: 2.3213 - accuracy: 0.1000 - val_loss: 2.3042 - val_accuracy: 0.1000\n",
      "Epoch 44/100\n",
      "1563/1563 [==============================] - 877s 561ms/step - loss: 2.3032 - accuracy: 0.0992 - val_loss: 2.3027 - val_accuracy: 0.1000\n",
      "Epoch 45/100\n",
      "1563/1563 [==============================] - 1051s 673ms/step - loss: 2.3028 - accuracy: 0.0969 - val_loss: 2.3027 - val_accuracy: 0.1000\n",
      "Epoch 46/100\n",
      "1563/1563 [==============================] - 1055s 675ms/step - loss: 2.3028 - accuracy: 0.0970 - val_loss: 2.3026 - val_accuracy: 0.1000\n",
      "Epoch 47/100\n",
      "1563/1563 [==============================] - 1049s 671ms/step - loss: 2.3028 - accuracy: 0.0977 - val_loss: 2.3026 - val_accuracy: 0.1000\n",
      "Epoch 48/100\n",
      "1563/1563 [==============================] - 929s 594ms/step - loss: 2.3028 - accuracy: 0.0970 - val_loss: 2.3026 - val_accuracy: 0.1000\n",
      "Epoch 49/100\n",
      "1563/1563 [==============================] - 781s 500ms/step - loss: 2.3027 - accuracy: 0.0993 - val_loss: 2.3026 - val_accuracy: 0.1000\n",
      "Epoch 50/100\n",
      "1563/1563 [==============================] - 804s 514ms/step - loss: 2.3028 - accuracy: 0.0988 - val_loss: 2.3026 - val_accuracy: 0.1000\n",
      "Epoch 51/100\n",
      "1563/1563 [==============================] - 799s 511ms/step - loss: 2.3028 - accuracy: 0.0963 - val_loss: 2.3026 - val_accuracy: 0.1000\n",
      "Epoch 52/100\n",
      "1563/1563 [==============================] - 791s 506ms/step - loss: 2.3028 - accuracy: 0.0959 - val_loss: 2.3026 - val_accuracy: 0.1000\n",
      "Epoch 53/100\n",
      "1563/1563 [==============================] - 862s 551ms/step - loss: 2.3028 - accuracy: 0.0963 - val_loss: 2.3026 - val_accuracy: 0.1000\n",
      "Epoch 54/100\n",
      "1563/1563 [==============================] - 968s 620ms/step - loss: 2.3028 - accuracy: 0.0987 - val_loss: 2.3026 - val_accuracy: 0.1000\n",
      "Epoch 55/100\n"
     ]
    },
    {
     "name": "stdout",
     "output_type": "stream",
     "text": [
      "1563/1563 [==============================] - 803s 514ms/step - loss: 2.3028 - accuracy: 0.0996 - val_loss: 2.3026 - val_accuracy: 0.1000\n",
      "Epoch 56/100\n",
      "1563/1563 [==============================] - 802s 513ms/step - loss: 2.3028 - accuracy: 0.0985 - val_loss: 2.3027 - val_accuracy: 0.1000\n",
      "Epoch 57/100\n",
      "1563/1563 [==============================] - 817s 523ms/step - loss: 2.3028 - accuracy: 0.0975 - val_loss: 2.3026 - val_accuracy: 0.1000\n",
      "Epoch 58/100\n",
      "1563/1563 [==============================] - 815s 521ms/step - loss: 2.3028 - accuracy: 0.0978 - val_loss: 2.3026 - val_accuracy: 0.1000\n",
      "Epoch 59/100\n",
      "1563/1563 [==============================] - 819s 524ms/step - loss: 2.3027 - accuracy: 0.0988 - val_loss: 2.3027 - val_accuracy: 0.1000\n",
      "Epoch 60/100\n",
      "1563/1563 [==============================] - 826s 528ms/step - loss: 2.3028 - accuracy: 0.0990 - val_loss: 2.3026 - val_accuracy: 0.1000\n",
      "Epoch 61/100\n",
      "1563/1563 [==============================] - 837s 536ms/step - loss: 2.3028 - accuracy: 0.0957 - val_loss: 2.3026 - val_accuracy: 0.1000\n",
      "Epoch 62/100\n",
      "1563/1563 [==============================] - 828s 530ms/step - loss: 2.3028 - accuracy: 0.0984 - val_loss: 2.3026 - val_accuracy: 0.1000\n",
      "Epoch 63/100\n",
      "1563/1563 [==============================] - 804s 514ms/step - loss: 2.3028 - accuracy: 0.1006 - val_loss: 2.3026 - val_accuracy: 0.1000\n",
      "Epoch 64/100\n",
      "1563/1563 [==============================] - 799s 511ms/step - loss: 2.3027 - accuracy: 0.1004 - val_loss: 2.3027 - val_accuracy: 0.1000\n",
      "Epoch 65/100\n",
      "1563/1563 [==============================] - 806s 516ms/step - loss: 2.3028 - accuracy: 0.0986 - val_loss: 2.3026 - val_accuracy: 0.1000\n",
      "Epoch 66/100\n",
      "1563/1563 [==============================] - 827s 529ms/step - loss: 2.3028 - accuracy: 0.0971 - val_loss: 2.3026 - val_accuracy: 0.1000\n",
      "Epoch 67/100\n",
      "1563/1563 [==============================] - 820s 525ms/step - loss: 2.3028 - accuracy: 0.0969 - val_loss: 2.3026 - val_accuracy: 0.1000\n",
      "Epoch 68/100\n",
      "1563/1563 [==============================] - 829s 531ms/step - loss: 2.3027 - accuracy: 0.1001 - val_loss: 2.3027 - val_accuracy: 0.1000\n",
      "Epoch 69/100\n",
      "1563/1563 [==============================] - 830s 531ms/step - loss: 2.3028 - accuracy: 0.0999 - val_loss: 2.3026 - val_accuracy: 0.1000\n",
      "Epoch 70/100\n",
      "1563/1563 [==============================] - 835s 534ms/step - loss: 2.3028 - accuracy: 0.0972 - val_loss: 2.3026 - val_accuracy: 0.1000\n",
      "Epoch 71/100\n",
      "1563/1563 [==============================] - 788s 504ms/step - loss: 2.3028 - accuracy: 0.0996 - val_loss: 2.3026 - val_accuracy: 0.1000\n",
      "Epoch 72/100\n",
      "1563/1563 [==============================] - 781s 499ms/step - loss: 2.3028 - accuracy: 0.0962 - val_loss: 2.3026 - val_accuracy: 0.1000\n",
      "Epoch 73/100\n",
      "1563/1563 [==============================] - 807s 516ms/step - loss: 2.3028 - accuracy: 0.0988 - val_loss: 2.3027 - val_accuracy: 0.1000\n",
      "Epoch 74/100\n",
      "1563/1563 [==============================] - 800s 512ms/step - loss: 2.3028 - accuracy: 0.0980 - val_loss: 2.3026 - val_accuracy: 0.1000\n",
      "Epoch 75/100\n",
      "1563/1563 [==============================] - 805s 515ms/step - loss: 2.3028 - accuracy: 0.0979 - val_loss: 2.3026 - val_accuracy: 0.1000\n",
      "Epoch 76/100\n",
      "1563/1563 [==============================] - 866s 554ms/step - loss: 2.3027 - accuracy: 0.0983 - val_loss: 2.3027 - val_accuracy: 0.1000\n",
      "Epoch 77/100\n",
      "1563/1563 [==============================] - 1107s 708ms/step - loss: 2.3028 - accuracy: 0.0983 - val_loss: 2.3026 - val_accuracy: 0.1000\n",
      "Epoch 78/100\n",
      "1563/1563 [==============================] - 1183s 757ms/step - loss: 2.3028 - accuracy: 0.0965 - val_loss: 2.3026 - val_accuracy: 0.1000\n",
      "Epoch 79/100\n",
      "1563/1563 [==============================] - 1149s 735ms/step - loss: 2.3028 - accuracy: 0.1006 - val_loss: 2.3027 - val_accuracy: 0.1000\n",
      "Epoch 80/100\n",
      "1563/1563 [==============================] - 1125s 720ms/step - loss: 2.3028 - accuracy: 0.0990 - val_loss: 2.3026 - val_accuracy: 0.1000\n",
      "Epoch 81/100\n",
      "1563/1563 [==============================] - 1070s 685ms/step - loss: 2.3028 - accuracy: 0.0972 - val_loss: 2.3026 - val_accuracy: 0.1000\n",
      "Epoch 82/100\n",
      "1563/1563 [==============================] - 1111s 711ms/step - loss: 2.3028 - accuracy: 0.0976 - val_loss: 2.3026 - val_accuracy: 0.1000\n",
      "Epoch 83/100\n",
      "1563/1563 [==============================] - 1206s 772ms/step - loss: 2.3028 - accuracy: 0.0974 - val_loss: 2.3026 - val_accuracy: 0.1000\n",
      "Epoch 84/100\n",
      "1563/1563 [==============================] - 1111s 711ms/step - loss: 2.3028 - accuracy: 0.0983 - val_loss: 2.3026 - val_accuracy: 0.1000\n",
      "Epoch 85/100\n",
      "1563/1563 [==============================] - 1045s 668ms/step - loss: 2.3028 - accuracy: 0.0980 - val_loss: 2.3026 - val_accuracy: 0.1000\n",
      "Epoch 86/100\n",
      "1563/1563 [==============================] - 974s 623ms/step - loss: 2.3028 - accuracy: 0.0976 - val_loss: 2.3026 - val_accuracy: 0.1000\n",
      "Epoch 87/100\n",
      "1563/1563 [==============================] - 3600s 2s/step - loss: 2.3028 - accuracy: 0.0988 - val_loss: 2.3026 - val_accuracy: 0.1000\n",
      "Epoch 88/100\n",
      "1563/1563 [==============================] - 1136s 727ms/step - loss: 2.3028 - accuracy: 0.0989 - val_loss: 2.3026 - val_accuracy: 0.1000\n",
      "Epoch 89/100\n",
      "1563/1563 [==============================] - 1229s 786ms/step - loss: 2.3028 - accuracy: 0.0977 - val_loss: 2.3026 - val_accuracy: 0.1000\n",
      "Epoch 90/100\n",
      "1563/1563 [==============================] - 1080s 691ms/step - loss: 2.3028 - accuracy: 0.0977 - val_loss: 2.3027 - val_accuracy: 0.1000\n",
      "Epoch 91/100\n",
      "1563/1563 [==============================] - 1039s 665ms/step - loss: 2.3028 - accuracy: 0.0979 - val_loss: 2.3026 - val_accuracy: 0.1000\n",
      "Epoch 92/100\n",
      "1563/1563 [==============================] - 1106s 707ms/step - loss: 2.3028 - accuracy: 0.0983 - val_loss: 2.3026 - val_accuracy: 0.1000\n",
      "Epoch 93/100\n",
      "1563/1563 [==============================] - 1119s 716ms/step - loss: 2.3028 - accuracy: 0.0975 - val_loss: 2.3027 - val_accuracy: 0.1000\n",
      "Epoch 94/100\n",
      "1563/1563 [==============================] - 1080s 691ms/step - loss: 2.3028 - accuracy: 0.0990 - val_loss: 2.3026 - val_accuracy: 0.1000\n",
      "Epoch 95/100\n",
      "1563/1563 [==============================] - 864s 553ms/step - loss: 2.3028 - accuracy: 0.0978 - val_loss: 2.3026 - val_accuracy: 0.1000\n",
      "Epoch 96/100\n",
      "1563/1563 [==============================] - 823s 527ms/step - loss: 2.3028 - accuracy: 0.0979 - val_loss: 2.3026 - val_accuracy: 0.1000\n",
      "Epoch 97/100\n",
      "1563/1563 [==============================] - 904s 578ms/step - loss: 2.3028 - accuracy: 0.0977 - val_loss: 2.3026 - val_accuracy: 0.1000\n",
      "Epoch 98/100\n",
      "1563/1563 [==============================] - 849s 543ms/step - loss: 2.3028 - accuracy: 0.0986 - val_loss: 2.3026 - val_accuracy: 0.1000\n",
      "Epoch 99/100\n",
      "1563/1563 [==============================] - 895s 573ms/step - loss: 2.3028 - accuracy: 0.0965 - val_loss: 2.3026 - val_accuracy: 0.1000\n",
      "Epoch 100/100\n",
      "1563/1563 [==============================] - 840s 538ms/step - loss: 2.3028 - accuracy: 0.0993 - val_loss: 2.3027 - val_accuracy: 0.1000\n"
     ]
    }
   ],
   "source": [
    "checkpoints_4=ModelCheckpoint(filepath=\"model_vgg19-{epoch:03d}.keras\",monitor='val_accuracy',mode='max',save_best_only=True)\n",
    "history_4=model_vgg19.fit(train_images,train_labels,validation_data=(test_images,test_labels),epochs=100,callbacks=checkpoints_4)"
   ]
  },
  {
   "cell_type": "code",
   "execution_count": 39,
   "id": "88115acc",
   "metadata": {},
   "outputs": [
    {
     "data": {
      "image/png": "[encoded data removed]",
      "text/plain": [
       "<Figure size 640x480 with 1 Axes>"
      ]
     },
     "metadata": {},
     "output_type": "display_data"
    }
   ],
   "source": [
    "plt.plot(history_4.history['accuracy'])\n",
    "plt.plot(history_4.history['val_accuracy'])\n",
    "plt.legend(['Train','Validation'],loc='upper left')\n",
    "plt.show()"
   ]
  },
  {
   "cell_type": "code",
   "execution_count": 40,
   "id": "1b1a525a",
   "metadata": {},
   "outputs": [
    {
     "name": "stdout",
     "output_type": "stream",
     "text": [
      "27\n"
     ]
    }
   ],
   "source": [
    "best_epoch_4=np.argmax(history_4.history['val_accuracy'])\n",
    "print(best_epoch_4)"
   ]
  },
  {
   "cell_type": "code",
   "execution_count": 41,
   "id": "164485a4",
   "metadata": {},
   "outputs": [],
   "source": [
    "model_vgg19.load_weights('model_vgg19-{:03d}.keras'.format(best_epoch_4+1))"
   ]
  },
  {
   "cell_type": "code",
   "execution_count": 42,
   "id": "f79ddf8b",
   "metadata": {},
   "outputs": [
    {
     "name": "stdout",
     "output_type": "stream",
     "text": [
      "313/313 [==============================] - 44s 140ms/step\n"
     ]
    },
    {
     "data": {
      "text/plain": [
       "0.7865"
      ]
     },
     "execution_count": 42,
     "metadata": {},
     "output_type": "execute_result"
    }
   ],
   "source": [
    "y_pred=model_vgg19.predict(test_images)\n",
    "y_pred=np.argmax(y_pred,axis=1)\n",
    "y_pred=tf.keras.utils.to_categorical(y_pred,num_classes=10)\n",
    "accuracy_score(y_pred,test_labels)"
   ]
  },
  {
   "cell_type": "code",
   "execution_count": 8,
   "id": "14fa6d0e",
   "metadata": {},
   "outputs": [],
   "source": [
    "resized_train_images=tf.image.resize(train_images,(224,224))"
   ]
  },
  {
   "cell_type": "code",
   "execution_count": 9,
   "id": "50f8fc5b",
   "metadata": {},
   "outputs": [],
   "source": [
    "del train_images"
   ]
  },
  {
   "cell_type": "code",
   "execution_count": 10,
   "id": "b3ad158a",
   "metadata": {},
   "outputs": [
    {
     "name": "stdout",
     "output_type": "stream",
     "text": [
      "WARNING:tensorflow:From C:\\Users\\navee\\anaconda3\\Lib\\site-packages\\keras\\src\\backend.py:1398: The name tf.executing_eagerly_outside_functions is deprecated. Please use tf.compat.v1.executing_eagerly_outside_functions instead.\n",
      "\n",
      "WARNING:tensorflow:From C:\\Users\\navee\\anaconda3\\Lib\\site-packages\\keras\\src\\layers\\pooling\\max_pooling2d.py:161: The name tf.nn.max_pool is deprecated. Please use tf.nn.max_pool2d instead.\n",
      "\n"
     ]
    }
   ],
   "source": [
    "pretrained_vgg19=tf.keras.applications.VGG19(weights='imagenet',include_top=False,input_shape=(224,224,3))"
   ]
  },
  {
   "cell_type": "code",
   "execution_count": 11,
   "id": "edab536e",
   "metadata": {},
   "outputs": [
    {
     "ename": "ResourceExhaustedError",
     "evalue": "{{function_node __wrapped__StridedSlice_device_/job:localhost/replica:0/task:0/device:CPU:0}} OOM when allocating tensor with shape[50000,224,224,3] and type float on /job:localhost/replica:0/task:0/device:CPU:0 by allocator mklcpu [Op:StridedSlice] name: strided_slice/",
     "output_type": "error",
     "traceback": [
      "\u001b[1;31m---------------------------------------------------------------------------\u001b[0m",
      "\u001b[1;31mResourceExhaustedError\u001b[0m                    Traceback (most recent call last)",
      "Cell \u001b[1;32mIn[11], line 1\u001b[0m\n\u001b[1;32m----> 1\u001b[0m resized_train_images\u001b[38;5;241m=\u001b[39mtf\u001b[38;5;241m.\u001b[39mkeras\u001b[38;5;241m.\u001b[39mapplications\u001b[38;5;241m.\u001b[39mvgg19\u001b[38;5;241m.\u001b[39mpreprocess_input(resized_train_images)\n",
      "File \u001b[1;32m~\\anaconda3\\Lib\\site-packages\\keras\\src\\applications\\vgg19.py:265\u001b[0m, in \u001b[0;36mpreprocess_input\u001b[1;34m(x, data_format)\u001b[0m\n\u001b[0;32m    263\u001b[0m \u001b[38;5;129m@keras_export\u001b[39m(\u001b[38;5;124m\"\u001b[39m\u001b[38;5;124mkeras.applications.vgg19.preprocess_input\u001b[39m\u001b[38;5;124m\"\u001b[39m)\n\u001b[0;32m    264\u001b[0m \u001b[38;5;28;01mdef\u001b[39;00m \u001b[38;5;21mpreprocess_input\u001b[39m(x, data_format\u001b[38;5;241m=\u001b[39m\u001b[38;5;28;01mNone\u001b[39;00m):\n\u001b[1;32m--> 265\u001b[0m     \u001b[38;5;28;01mreturn\u001b[39;00m imagenet_utils\u001b[38;5;241m.\u001b[39mpreprocess_input(\n\u001b[0;32m    266\u001b[0m         x, data_format\u001b[38;5;241m=\u001b[39mdata_format, mode\u001b[38;5;241m=\u001b[39m\u001b[38;5;124m\"\u001b[39m\u001b[38;5;124mcaffe\u001b[39m\u001b[38;5;124m\"\u001b[39m\n\u001b[0;32m    267\u001b[0m     )\n",
      "File \u001b[1;32m~\\anaconda3\\Lib\\site-packages\\keras\\src\\applications\\imagenet_utils.py:124\u001b[0m, in \u001b[0;36mpreprocess_input\u001b[1;34m(x, data_format, mode)\u001b[0m\n\u001b[0;32m    122\u001b[0m     \u001b[38;5;28;01mreturn\u001b[39;00m _preprocess_numpy_input(x, data_format\u001b[38;5;241m=\u001b[39mdata_format, mode\u001b[38;5;241m=\u001b[39mmode)\n\u001b[0;32m    123\u001b[0m \u001b[38;5;28;01melse\u001b[39;00m:\n\u001b[1;32m--> 124\u001b[0m     \u001b[38;5;28;01mreturn\u001b[39;00m _preprocess_symbolic_input(x, data_format\u001b[38;5;241m=\u001b[39mdata_format, mode\u001b[38;5;241m=\u001b[39mmode)\n",
      "File \u001b[1;32m~\\anaconda3\\Lib\\site-packages\\keras\\src\\applications\\imagenet_utils.py:288\u001b[0m, in \u001b[0;36m_preprocess_symbolic_input\u001b[1;34m(x, data_format, mode)\u001b[0m\n\u001b[0;32m    285\u001b[0m         x \u001b[38;5;241m=\u001b[39m x[:, ::\u001b[38;5;241m-\u001b[39m\u001b[38;5;241m1\u001b[39m, \u001b[38;5;241m.\u001b[39m\u001b[38;5;241m.\u001b[39m\u001b[38;5;241m.\u001b[39m]\n\u001b[0;32m    286\u001b[0m \u001b[38;5;28;01melse\u001b[39;00m:\n\u001b[0;32m    287\u001b[0m     \u001b[38;5;66;03m# 'RGB'->'BGR'\u001b[39;00m\n\u001b[1;32m--> 288\u001b[0m     x \u001b[38;5;241m=\u001b[39m x[\u001b[38;5;241m.\u001b[39m\u001b[38;5;241m.\u001b[39m\u001b[38;5;241m.\u001b[39m, ::\u001b[38;5;241m-\u001b[39m\u001b[38;5;241m1\u001b[39m]\n\u001b[0;32m    289\u001b[0m mean \u001b[38;5;241m=\u001b[39m [\u001b[38;5;241m103.939\u001b[39m, \u001b[38;5;241m116.779\u001b[39m, \u001b[38;5;241m123.68\u001b[39m]\n\u001b[0;32m    290\u001b[0m std \u001b[38;5;241m=\u001b[39m \u001b[38;5;28;01mNone\u001b[39;00m\n",
      "File \u001b[1;32m~\\anaconda3\\Lib\\site-packages\\tensorflow\\python\\util\\traceback_utils.py:153\u001b[0m, in \u001b[0;36mfilter_traceback.<locals>.error_handler\u001b[1;34m(*args, **kwargs)\u001b[0m\n\u001b[0;32m    151\u001b[0m \u001b[38;5;28;01mexcept\u001b[39;00m \u001b[38;5;167;01mException\u001b[39;00m \u001b[38;5;28;01mas\u001b[39;00m e:\n\u001b[0;32m    152\u001b[0m   filtered_tb \u001b[38;5;241m=\u001b[39m _process_traceback_frames(e\u001b[38;5;241m.\u001b[39m__traceback__)\n\u001b[1;32m--> 153\u001b[0m   \u001b[38;5;28;01mraise\u001b[39;00m e\u001b[38;5;241m.\u001b[39mwith_traceback(filtered_tb) \u001b[38;5;28;01mfrom\u001b[39;00m \u001b[38;5;28;01mNone\u001b[39;00m\n\u001b[0;32m    154\u001b[0m \u001b[38;5;28;01mfinally\u001b[39;00m:\n\u001b[0;32m    155\u001b[0m   \u001b[38;5;28;01mdel\u001b[39;00m filtered_tb\n",
      "File \u001b[1;32m~\\anaconda3\\Lib\\site-packages\\tensorflow\\python\\framework\\ops.py:5883\u001b[0m, in \u001b[0;36mraise_from_not_ok_status\u001b[1;34m(e, name)\u001b[0m\n\u001b[0;32m   5881\u001b[0m \u001b[38;5;28;01mdef\u001b[39;00m \u001b[38;5;21mraise_from_not_ok_status\u001b[39m(e, name) \u001b[38;5;241m-\u001b[39m\u001b[38;5;241m>\u001b[39m NoReturn:\n\u001b[0;32m   5882\u001b[0m   e\u001b[38;5;241m.\u001b[39mmessage \u001b[38;5;241m+\u001b[39m\u001b[38;5;241m=\u001b[39m (\u001b[38;5;124m\"\u001b[39m\u001b[38;5;124m name: \u001b[39m\u001b[38;5;124m\"\u001b[39m \u001b[38;5;241m+\u001b[39m \u001b[38;5;28mstr\u001b[39m(name \u001b[38;5;28;01mif\u001b[39;00m name \u001b[38;5;129;01mis\u001b[39;00m \u001b[38;5;129;01mnot\u001b[39;00m \u001b[38;5;28;01mNone\u001b[39;00m \u001b[38;5;28;01melse\u001b[39;00m \u001b[38;5;124m\"\u001b[39m\u001b[38;5;124m\"\u001b[39m))\n\u001b[1;32m-> 5883\u001b[0m   \u001b[38;5;28;01mraise\u001b[39;00m core\u001b[38;5;241m.\u001b[39m_status_to_exception(e) \u001b[38;5;28;01mfrom\u001b[39;00m \u001b[38;5;28;01mNone\u001b[39;00m\n",
      "\u001b[1;31mResourceExhaustedError\u001b[0m: {{function_node __wrapped__StridedSlice_device_/job:localhost/replica:0/task:0/device:CPU:0}} OOM when allocating tensor with shape[50000,224,224,3] and type float on /job:localhost/replica:0/task:0/device:CPU:0 by allocator mklcpu [Op:StridedSlice] name: strided_slice/"
     ]
    }
   ],
   "source": [
    "resized_train_images=tf.keras.applications.vgg19.preprocess_input(resized_train_images)"
   ]
  },
  {
   "cell_type": "code",
   "execution_count": null,
   "id": "03535ea3",
   "metadata": {},
   "outputs": [],
   "source": [
    "resized_test_images=tf.image.resize(test_images,(224,224))\n",
    "resized_test_images=tf.keras.applications.vgg19.preprocess_input(resized_test_images)"
   ]
  },
  {
   "cell_type": "code",
   "execution_count": null,
   "id": "22924bc6",
   "metadata": {},
   "outputs": [],
   "source": [
    "del test_images"
   ]
  },
  {
   "cell_type": "code",
   "execution_count": null,
   "id": "855ed137",
   "metadata": {},
   "outputs": [],
   "source": [
    "model_vgg19=tf.keras.models.Sequential()\n",
    "model_vgg19.add(pretrained_vgg19)\n",
    "model_vgg19.add(tf.keras.layers.Flatten())\n",
    "model_vgg19.add(tf.keras.layers.Dense(10,activation='softmax'))\n",
    "model_vgg19.compile(optimizer='adam',loss='categorical_crossentropy',metrics=['accuracy'])"
   ]
  },
  {
   "cell_type": "code",
   "execution_count": null,
   "id": "eb679fd9",
   "metadata": {},
   "outputs": [],
   "source": [
    "checkpoints_5=ModelCheckpoint(filepath=\"model_vgg19_re-{epoch:02d}.keras\",monitor='val_accuracy',mode='max',save_best_only=True)\n",
    "history_5=model_vgg19.fit(resized_train_images,train_labels,validation_data=(resized_test_images,test_labels),epochs=10,callbacks=checkpoints_5)"
   ]
  },
  {
   "cell_type": "code",
   "execution_count": null,
   "id": "5506bce9",
   "metadata": {},
   "outputs": [],
   "source": [
    "plt.plot(history_5.history['accuracy'])\n",
    "plt.plot(history_5.history['val_accuracy'])\n",
    "plt.legend(['Train','Validation'],loc='upper left')\n",
    "plt.show()"
   ]
  },
  {
   "cell_type": "code",
   "execution_count": null,
   "id": "2f8aa5d4",
   "metadata": {},
   "outputs": [],
   "source": [
    "best_epoch_5=np.argmax(history_5.history['val_accuracy'])\n",
    "print(best_epoch_5)"
   ]
  },
  {
   "cell_type": "code",
   "execution_count": null,
   "id": "bf03cd4c",
   "metadata": {},
   "outputs": [],
   "source": [
    "model_vgg19.load_weights('model_vgg19-{:03d}.keras'.format(best_epoch_5+1))"
   ]
  },
  {
   "cell_type": "code",
   "execution_count": null,
   "id": "2c788efe",
   "metadata": {},
   "outputs": [],
   "source": [
    "y_pred=model_vgg19.predict(resized_test_images)\n",
    "y_pred=np.argmax(y_pred,axis=1)\n",
    "y_pred=tf.keras.utils.to_categorical(y_pred,num_classes=10)\n",
    "accuracy_score(y_pred,test_labels)"
   ]
  },
  {
   "cell_type": "code",
   "execution_count": 54,
   "id": "bbedfdd0",
   "metadata": {},
   "outputs": [],
   "source": [
    "del best_epoch_1\n",
    "del best_epoch_2\n",
    "del best_epoch_3\n",
    "del best_epoch_4"
   ]
  },
  {
   "cell_type": "code",
   "execution_count": 55,
   "id": "5be1e3ba",
   "metadata": {},
   "outputs": [],
   "source": [
    "del history_1\n",
    "del history_2\n",
    "del history_3\n",
    "del history_4"
   ]
  },
  {
   "cell_type": "code",
   "execution_count": 1,
   "id": "03c41646",
   "metadata": {},
   "outputs": [
    {
     "ename": "NameError",
     "evalue": "name 'train_images' is not defined",
     "output_type": "error",
     "traceback": [
      "\u001b[1;31m---------------------------------------------------------------------------\u001b[0m",
      "\u001b[1;31mNameError\u001b[0m                                 Traceback (most recent call last)",
      "Cell \u001b[1;32mIn[1], line 1\u001b[0m\n\u001b[1;32m----> 1\u001b[0m \u001b[38;5;28mlen\u001b[39m(train_images)\n",
      "\u001b[1;31mNameError\u001b[0m: name 'train_images' is not defined"
     ]
    }
   ],
   "source": []
  },
  {
   "cell_type": "code",
   "execution_count": null,
   "id": "f1e0f1eb",
   "metadata": {},
   "outputs": [],
   "source": []
  }
 ],
 "metadata": {
  "kernelspec": {
   "display_name": "Python 3 (ipykernel)",
   "language": "python",
   "name": "python3"
  },
  "language_info": {
   "codemirror_mode": {
    "name": "ipython",
    "version": 3
   },
   "file_extension": ".py",
   "mimetype": "text/x-python",
   "name": "python",
   "nbconvert_exporter": "python",
   "pygments_lexer": "ipython3",
   "version": "3.11.5"
  }
 },
 "nbformat": 4,
 "nbformat_minor": 5
}
